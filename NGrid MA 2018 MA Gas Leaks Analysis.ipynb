{
 "cells": [
  {
   "cell_type": "markdown",
   "metadata": {},
   "source": [
    "# Analysis of National Grid Massachusetts Gas Leaks 2018"
   ]
  },
  {
   "cell_type": "markdown",
   "metadata": {},
   "source": [
    "#### Goal:  \n",
    "Provide insights into National Grid Massachusetts gas leaks.   \n",
    "Provide a visualization of the leaks.   \n",
    "Add socio-demographic information.  \n",
    "Spur action on this critical issue.  \n",
    "\n",
    "\n",
    "    "
   ]
  },
  {
   "cell_type": "markdown",
   "metadata": {},
   "source": [
    "-------\n",
    "People, this is an important issue!"
   ]
  },
  {
   "cell_type": "markdown",
   "metadata": {},
   "source": [
    "##### Worcester Residents Demand Gas Leak Repairs  \n",
    "There are growing concerns that five natural gas leaks near schools in Worcester are causing health issues associated with asthma.  \n",
    "\n",
    "(Published Tuesday, Jun 18, 2019 | Credit: Cassy Arsenault)\n",
    "\n",
    "https://www.necn.com/multimedia/Worcester-Residents-Demand-Gas-Leak-Repairs_NECN-511476042.html"
   ]
  },
  {
   "cell_type": "code",
   "execution_count": null,
   "metadata": {},
   "outputs": [],
   "source": []
  },
  {
   "cell_type": "markdown",
   "metadata": {},
   "source": [
    "#### Steps:  \n",
    "Load needed libraries  \n",
    "Import NGrid data   \n",
    "Add Zipcodes  --- *** Can anyone provide advice on this? See below ****\n",
    "\n",
    "\n",
    "Add soci-demographic information. --- *** Can anyone provide advice on this? See below. **** \n",
    "\n",
    "    - how to loop over several addresses\n",
    "    - How to get the zipcode output into a pandas dataframe?\n",
    "\n",
    "\n",
    "\n",
    "\n",
    "Provide visualizations  \n",
    "Do analytics  "
   ]
  },
  {
   "cell_type": "code",
   "execution_count": 117,
   "metadata": {},
   "outputs": [],
   "source": [
    "# import modules\n",
    "import pandas as pd\n",
    "import matplotlib.pyplot as plt\n",
    "import seaborn as sns"
   ]
  },
  {
   "cell_type": "markdown",
   "metadata": {},
   "source": [
    "#### Import NGrid data"
   ]
  },
  {
   "cell_type": "markdown",
   "metadata": {},
   "source": [
    "https://chrisalbon.com/python/data_wrangling/load_excel_file_into_pandas/"
   ]
  },
  {
   "cell_type": "markdown",
   "metadata": {},
   "source": [
    "#### Data Info   \n",
    "Data generously provide by Audrey Schulman, HEET Co-founder and Executive Director:   \n",
    "\n",
    "The first number is the National Grid ID number.  \n",
    " \n",
    "The ending grade is defined by potential for explosion.  \n",
    "To generalize:   \n",
    "Grade 1 is in a contained space  \n",
    "Grade 2 is close to a building,  \n",
    "(2A? Unknown. I recoded those to 2 in a new column)\n",
    "Grade 3 is everything else.   \n",
    "Grades having nothing to do with volume of emissions.  "
   ]
  },
  {
   "cell_type": "code",
   "execution_count": 118,
   "metadata": {},
   "outputs": [],
   "source": [
    "# Create URL to Excel file (alternatively this can be a filepath)\n",
    "#url = 'https://raw.githubusercontent.com/chrisalbon/simulated_datasets/master/data.xlsx'\n",
    "# Load the first sheet of the Excel file into a data frame\n",
    "#df = pd.read_excel(url, sheetname=0, header=1)\n",
    "\n",
    "#df = pd.read_excel(url, sheetname=0, header=1)\n",
    "\n",
    "# View the first ten rows\n",
    "#df.head(10)"
   ]
  },
  {
   "cell_type": "markdown",
   "metadata": {},
   "source": [
    "https://chrisalbon.com/python/data_wrangling/pandas_dataframe_load_xls/"
   ]
  },
  {
   "cell_type": "markdown",
   "metadata": {},
   "source": [
    "https://chrisalbon.com/python/data_wrangling/pandas_dataframe_importing_csv/"
   ]
  },
  {
   "cell_type": "raw",
   "metadata": {},
   "source": [
    "df = pd.read_csv('pandas_dataframe_importing_csv/example.csv')\n",
    "df"
   ]
  },
  {
   "cell_type": "code",
   "execution_count": 119,
   "metadata": {},
   "outputs": [],
   "source": [
    "# Import the excel file and call it xls_file\n",
    "gasleaks = pd.read_csv('0-Boston_Gas_2018_SQ_Report_3-1-19_unrepaired_pg.csv')\n"
   ]
  },
  {
   "cell_type": "code",
   "execution_count": 120,
   "metadata": {},
   "outputs": [
    {
     "data": {
      "text/html": [
       "<div>\n",
       "<style scoped>\n",
       "    .dataframe tbody tr th:only-of-type {\n",
       "        vertical-align: middle;\n",
       "    }\n",
       "\n",
       "    .dataframe tbody tr th {\n",
       "        vertical-align: top;\n",
       "    }\n",
       "\n",
       "    .dataframe thead th {\n",
       "        text-align: right;\n",
       "    }\n",
       "</style>\n",
       "<table border=\"1\" class=\"dataframe\">\n",
       "  <thead>\n",
       "    <tr style=\"text-align: right;\">\n",
       "      <th></th>\n",
       "      <th>f</th>\n",
       "      <th>ReportedAddress</th>\n",
       "      <th>CrossStreet</th>\n",
       "      <th>Town</th>\n",
       "      <th>State</th>\n",
       "      <th>concate</th>\n",
       "      <th>ReportedDate</th>\n",
       "      <th>Endingleakgrade</th>\n",
       "      <th>Endingleakgradenumber</th>\n",
       "    </tr>\n",
       "  </thead>\n",
       "  <tbody>\n",
       "    <tr>\n",
       "      <th>0</th>\n",
       "      <td>6015776</td>\n",
       "      <td>1070 BEDFORD ST</td>\n",
       "      <td>NaN</td>\n",
       "      <td>ABINGTON</td>\n",
       "      <td>MA</td>\n",
       "      <td>1070 BEDFORD ST ABINGTON, MA</td>\n",
       "      <td>9/9/2015</td>\n",
       "      <td>3</td>\n",
       "      <td>3</td>\n",
       "    </tr>\n",
       "    <tr>\n",
       "      <th>1</th>\n",
       "      <td>1505591</td>\n",
       "      <td>11 ADLEY DR</td>\n",
       "      <td>NaN</td>\n",
       "      <td>ABINGTON</td>\n",
       "      <td>MA</td>\n",
       "      <td>11 ADLEY DR ABINGTON, MA</td>\n",
       "      <td>9/26/2013</td>\n",
       "      <td>3</td>\n",
       "      <td>3</td>\n",
       "    </tr>\n",
       "    <tr>\n",
       "      <th>2</th>\n",
       "      <td>7333066</td>\n",
       "      <td>123 CATHERINE DR</td>\n",
       "      <td>NaN</td>\n",
       "      <td>ABINGTON</td>\n",
       "      <td>MA</td>\n",
       "      <td>123 CATHERINE DR ABINGTON, MA</td>\n",
       "      <td>4/5/2017</td>\n",
       "      <td>3</td>\n",
       "      <td>3</td>\n",
       "    </tr>\n",
       "    <tr>\n",
       "      <th>3</th>\n",
       "      <td>7321083</td>\n",
       "      <td>1233 WASHINGTON ST</td>\n",
       "      <td>NaN</td>\n",
       "      <td>ABINGTON</td>\n",
       "      <td>MA</td>\n",
       "      <td>1233 WASHINGTON ST ABINGTON, MA</td>\n",
       "      <td>9/10/2015</td>\n",
       "      <td>3</td>\n",
       "      <td>3</td>\n",
       "    </tr>\n",
       "    <tr>\n",
       "      <th>4</th>\n",
       "      <td>251670</td>\n",
       "      <td>1241 WASHINGTON ST</td>\n",
       "      <td>NaN</td>\n",
       "      <td>ABINGTON</td>\n",
       "      <td>MA</td>\n",
       "      <td>1241 WASHINGTON ST ABINGTON, MA</td>\n",
       "      <td>9/26/2003</td>\n",
       "      <td>3</td>\n",
       "      <td>3</td>\n",
       "    </tr>\n",
       "    <tr>\n",
       "      <th>5</th>\n",
       "      <td>7323314</td>\n",
       "      <td>138 RANDOLPH ST</td>\n",
       "      <td>NaN</td>\n",
       "      <td>ABINGTON</td>\n",
       "      <td>MA</td>\n",
       "      <td>138 RANDOLPH ST ABINGTON, MA</td>\n",
       "      <td>8/1/2014</td>\n",
       "      <td>3</td>\n",
       "      <td>3</td>\n",
       "    </tr>\n",
       "    <tr>\n",
       "      <th>6</th>\n",
       "      <td>7337464</td>\n",
       "      <td>140 CHESTNUT ST</td>\n",
       "      <td>NaN</td>\n",
       "      <td>ABINGTON</td>\n",
       "      <td>MA</td>\n",
       "      <td>140 CHESTNUT ST ABINGTON, MA</td>\n",
       "      <td>8/14/2017</td>\n",
       "      <td>3</td>\n",
       "      <td>3</td>\n",
       "    </tr>\n",
       "    <tr>\n",
       "      <th>7</th>\n",
       "      <td>1740971</td>\n",
       "      <td>141 CHAPEL ST</td>\n",
       "      <td>NaN</td>\n",
       "      <td>ABINGTON</td>\n",
       "      <td>MA</td>\n",
       "      <td>141 CHAPEL ST ABINGTON, MA</td>\n",
       "      <td>9/3/2014</td>\n",
       "      <td>3</td>\n",
       "      <td>3</td>\n",
       "    </tr>\n",
       "    <tr>\n",
       "      <th>8</th>\n",
       "      <td>2950638</td>\n",
       "      <td>16 HARRISON AVE</td>\n",
       "      <td>NaN</td>\n",
       "      <td>ABINGTON</td>\n",
       "      <td>MA</td>\n",
       "      <td>16 HARRISON AVE ABINGTON, MA</td>\n",
       "      <td>1/31/2015</td>\n",
       "      <td>3</td>\n",
       "      <td>3</td>\n",
       "    </tr>\n",
       "    <tr>\n",
       "      <th>9</th>\n",
       "      <td>851846</td>\n",
       "      <td>177 CENTRAL ST</td>\n",
       "      <td>NaN</td>\n",
       "      <td>ABINGTON</td>\n",
       "      <td>MA</td>\n",
       "      <td>177 CENTRAL ST ABINGTON, MA</td>\n",
       "      <td>4/18/2012</td>\n",
       "      <td>3</td>\n",
       "      <td>3</td>\n",
       "    </tr>\n",
       "    <tr>\n",
       "      <th>10</th>\n",
       "      <td>1505600</td>\n",
       "      <td>177 MARGARET RD</td>\n",
       "      <td>NaN</td>\n",
       "      <td>ABINGTON</td>\n",
       "      <td>MA</td>\n",
       "      <td>177 MARGARET RD ABINGTON, MA</td>\n",
       "      <td>9/26/2013</td>\n",
       "      <td>3</td>\n",
       "      <td>3</td>\n",
       "    </tr>\n",
       "    <tr>\n",
       "      <th>11</th>\n",
       "      <td>321520</td>\n",
       "      <td>18 WASHINGTON ST</td>\n",
       "      <td>NaN</td>\n",
       "      <td>ABINGTON</td>\n",
       "      <td>MA</td>\n",
       "      <td>18 WASHINGTON ST ABINGTON, MA</td>\n",
       "      <td>4/14/2009</td>\n",
       "      <td>3</td>\n",
       "      <td>3</td>\n",
       "    </tr>\n",
       "    <tr>\n",
       "      <th>12</th>\n",
       "      <td>235571</td>\n",
       "      <td>21 WALKER LN</td>\n",
       "      <td>NaN</td>\n",
       "      <td>ABINGTON</td>\n",
       "      <td>MA</td>\n",
       "      <td>21 WALKER LN ABINGTON, MA</td>\n",
       "      <td>9/10/2002</td>\n",
       "      <td>3</td>\n",
       "      <td>3</td>\n",
       "    </tr>\n",
       "    <tr>\n",
       "      <th>13</th>\n",
       "      <td>7345234</td>\n",
       "      <td>222 LINWOOD ST</td>\n",
       "      <td>NaN</td>\n",
       "      <td>ABINGTON</td>\n",
       "      <td>MA</td>\n",
       "      <td>222 LINWOOD ST ABINGTON, MA</td>\n",
       "      <td>6/28/2018</td>\n",
       "      <td>3</td>\n",
       "      <td>3</td>\n",
       "    </tr>\n",
       "    <tr>\n",
       "      <th>14</th>\n",
       "      <td>303321</td>\n",
       "      <td>238 WASHINGTON ST</td>\n",
       "      <td>NaN</td>\n",
       "      <td>ABINGTON</td>\n",
       "      <td>MA</td>\n",
       "      <td>238 WASHINGTON ST ABINGTON, MA</td>\n",
       "      <td>8/8/2007</td>\n",
       "      <td>3</td>\n",
       "      <td>3</td>\n",
       "    </tr>\n",
       "    <tr>\n",
       "      <th>15</th>\n",
       "      <td>7323312</td>\n",
       "      <td>240 NORTH AVE</td>\n",
       "      <td>NaN</td>\n",
       "      <td>ABINGTON</td>\n",
       "      <td>MA</td>\n",
       "      <td>240 NORTH AVE ABINGTON, MA</td>\n",
       "      <td>8/19/2014</td>\n",
       "      <td>3</td>\n",
       "      <td>3</td>\n",
       "    </tr>\n",
       "    <tr>\n",
       "      <th>16</th>\n",
       "      <td>7323307</td>\n",
       "      <td>262 ADAMS ST</td>\n",
       "      <td>NaN</td>\n",
       "      <td>ABINGTON</td>\n",
       "      <td>MA</td>\n",
       "      <td>262 ADAMS ST ABINGTON, MA</td>\n",
       "      <td>8/19/2014</td>\n",
       "      <td>3</td>\n",
       "      <td>3</td>\n",
       "    </tr>\n",
       "    <tr>\n",
       "      <th>17</th>\n",
       "      <td>266424</td>\n",
       "      <td>27 HIGHLAND ST</td>\n",
       "      <td>NaN</td>\n",
       "      <td>ABINGTON</td>\n",
       "      <td>MA</td>\n",
       "      <td>27 HIGHLAND ST ABINGTON, MA</td>\n",
       "      <td>9/30/2004</td>\n",
       "      <td>3</td>\n",
       "      <td>3</td>\n",
       "    </tr>\n",
       "    <tr>\n",
       "      <th>18</th>\n",
       "      <td>7323315</td>\n",
       "      <td>27 ROCKLAND ST</td>\n",
       "      <td>NaN</td>\n",
       "      <td>ABINGTON</td>\n",
       "      <td>MA</td>\n",
       "      <td>27 ROCKLAND ST ABINGTON, MA</td>\n",
       "      <td>9/10/2014</td>\n",
       "      <td>3</td>\n",
       "      <td>3</td>\n",
       "    </tr>\n",
       "    <tr>\n",
       "      <th>19</th>\n",
       "      <td>7349726</td>\n",
       "      <td>32 ASHLAND ST</td>\n",
       "      <td>NaN</td>\n",
       "      <td>ABINGTON</td>\n",
       "      <td>MA</td>\n",
       "      <td>32 ASHLAND ST ABINGTON, MA</td>\n",
       "      <td>12/1/2018</td>\n",
       "      <td>3</td>\n",
       "      <td>3</td>\n",
       "    </tr>\n",
       "  </tbody>\n",
       "</table>\n",
       "</div>"
      ],
      "text/plain": [
       "          f     ReportedAddress CrossStreet      Town State  \\\n",
       "0   6015776     1070 BEDFORD ST         NaN  ABINGTON    MA   \n",
       "1   1505591         11 ADLEY DR         NaN  ABINGTON    MA   \n",
       "2   7333066    123 CATHERINE DR         NaN  ABINGTON    MA   \n",
       "3   7321083  1233 WASHINGTON ST         NaN  ABINGTON    MA   \n",
       "4    251670  1241 WASHINGTON ST         NaN  ABINGTON    MA   \n",
       "5   7323314     138 RANDOLPH ST         NaN  ABINGTON    MA   \n",
       "6   7337464     140 CHESTNUT ST         NaN  ABINGTON    MA   \n",
       "7   1740971       141 CHAPEL ST         NaN  ABINGTON    MA   \n",
       "8   2950638     16 HARRISON AVE         NaN  ABINGTON    MA   \n",
       "9    851846      177 CENTRAL ST         NaN  ABINGTON    MA   \n",
       "10  1505600     177 MARGARET RD         NaN  ABINGTON    MA   \n",
       "11   321520    18 WASHINGTON ST         NaN  ABINGTON    MA   \n",
       "12   235571        21 WALKER LN         NaN  ABINGTON    MA   \n",
       "13  7345234      222 LINWOOD ST         NaN  ABINGTON    MA   \n",
       "14   303321   238 WASHINGTON ST         NaN  ABINGTON    MA   \n",
       "15  7323312       240 NORTH AVE         NaN  ABINGTON    MA   \n",
       "16  7323307        262 ADAMS ST         NaN  ABINGTON    MA   \n",
       "17   266424      27 HIGHLAND ST         NaN  ABINGTON    MA   \n",
       "18  7323315      27 ROCKLAND ST         NaN  ABINGTON    MA   \n",
       "19  7349726       32 ASHLAND ST         NaN  ABINGTON    MA   \n",
       "\n",
       "                            concate ReportedDate Endingleakgrade  \\\n",
       "0      1070 BEDFORD ST ABINGTON, MA     9/9/2015               3   \n",
       "1          11 ADLEY DR ABINGTON, MA    9/26/2013               3   \n",
       "2     123 CATHERINE DR ABINGTON, MA     4/5/2017               3   \n",
       "3   1233 WASHINGTON ST ABINGTON, MA    9/10/2015               3   \n",
       "4   1241 WASHINGTON ST ABINGTON, MA    9/26/2003               3   \n",
       "5      138 RANDOLPH ST ABINGTON, MA     8/1/2014               3   \n",
       "6      140 CHESTNUT ST ABINGTON, MA    8/14/2017               3   \n",
       "7        141 CHAPEL ST ABINGTON, MA     9/3/2014               3   \n",
       "8      16 HARRISON AVE ABINGTON, MA    1/31/2015               3   \n",
       "9       177 CENTRAL ST ABINGTON, MA    4/18/2012               3   \n",
       "10     177 MARGARET RD ABINGTON, MA    9/26/2013               3   \n",
       "11    18 WASHINGTON ST ABINGTON, MA    4/14/2009               3   \n",
       "12        21 WALKER LN ABINGTON, MA    9/10/2002               3   \n",
       "13      222 LINWOOD ST ABINGTON, MA    6/28/2018               3   \n",
       "14   238 WASHINGTON ST ABINGTON, MA     8/8/2007               3   \n",
       "15       240 NORTH AVE ABINGTON, MA    8/19/2014               3   \n",
       "16        262 ADAMS ST ABINGTON, MA    8/19/2014               3   \n",
       "17      27 HIGHLAND ST ABINGTON, MA    9/30/2004               3   \n",
       "18      27 ROCKLAND ST ABINGTON, MA    9/10/2014               3   \n",
       "19       32 ASHLAND ST ABINGTON, MA    12/1/2018               3   \n",
       "\n",
       "    Endingleakgradenumber  \n",
       "0                       3  \n",
       "1                       3  \n",
       "2                       3  \n",
       "3                       3  \n",
       "4                       3  \n",
       "5                       3  \n",
       "6                       3  \n",
       "7                       3  \n",
       "8                       3  \n",
       "9                       3  \n",
       "10                      3  \n",
       "11                      3  \n",
       "12                      3  \n",
       "13                      3  \n",
       "14                      3  \n",
       "15                      3  \n",
       "16                      3  \n",
       "17                      3  \n",
       "18                      3  \n",
       "19                      3  "
      ]
     },
     "execution_count": 120,
     "metadata": {},
     "output_type": "execute_result"
    }
   ],
   "source": [
    "gasleaks.head(20)"
   ]
  },
  {
   "cell_type": "code",
   "execution_count": null,
   "metadata": {},
   "outputs": [],
   "source": []
  },
  {
   "cell_type": "markdown",
   "metadata": {},
   "source": [
    "##### These data have no zip codes, which means we can't convert the locations to lat/long, which means we can't plot this the way we want."
   ]
  },
  {
   "cell_type": "code",
   "execution_count": null,
   "metadata": {},
   "outputs": [],
   "source": []
  },
  {
   "cell_type": "markdown",
   "metadata": {},
   "source": [
    "#### We want to do geocoding\n"
   ]
  },
  {
   "cell_type": "code",
   "execution_count": 121,
   "metadata": {},
   "outputs": [],
   "source": [
    "# Load packages\n",
    "from pygeocoder import Geocoder\n",
    "import pandas as pd\n",
    "import numpy as np"
   ]
  },
  {
   "cell_type": "markdown",
   "metadata": {},
   "source": [
    "#### This uszipcode library has cool info we could match up to our data-- but we don't have zipcodes."
   ]
  },
  {
   "cell_type": "markdown",
   "metadata": {},
   "source": [
    "https://pypi.org/project/uszipcode/"
   ]
  },
  {
   "cell_type": "code",
   "execution_count": 122,
   "metadata": {},
   "outputs": [],
   "source": [
    "from uszipcode import SearchEngine\n",
    "search = SearchEngine(simple_zipcode=True) # set simple_zipcode=False to use rich info database\n",
    "zipcode = search.by_zipcode(\"10001\")\n"
   ]
  },
  {
   "cell_type": "code",
   "execution_count": 123,
   "metadata": {},
   "outputs": [
    {
     "data": {
      "text/plain": [
       "SimpleZipcode(zipcode='10001', zipcode_type='Standard', major_city='New York', post_office_city='New York, NY', common_city_list=['New York'], county='New York County', state='NY', lat=40.75, lng=-73.99, timezone='Eastern', radius_in_miles=0.9090909090909091, area_code_list=['718', '917', '347', '646'], population=21102, population_density=33959.0, land_area_in_sqmi=0.62, water_area_in_sqmi=0.0, housing_units=12476, occupied_housing_units=11031, median_home_value=650200, median_household_income=81671, bounds_west=-74.008621, bounds_east=-73.984076, bounds_north=40.759731, bounds_south=40.743451)"
      ]
     },
     "execution_count": 123,
     "metadata": {},
     "output_type": "execute_result"
    }
   ],
   "source": [
    "zipcode"
   ]
  },
  {
   "cell_type": "raw",
   "metadata": {},
   "source": [
    "# Looking for Chicago and IL, but entered wrong spelling.\n",
    ">>> res = search.by_city_and_state(\"cicago\", \"il\")\n",
    ">>> len(res) # 56 zipcodes in Chicago\n",
    "56\n",
    ">>> zipcode = res[0]\n",
    ">>> zipcode.major_city\n",
    "'Chicago'\n",
    ">>> zipcode.state_abbr\n",
    "'IL'"
   ]
  },
  {
   "cell_type": "code",
   "execution_count": 124,
   "metadata": {},
   "outputs": [],
   "source": [
    "# Looking for Chicago and IL, but entered wrong spelling.\n",
    "res = search.by_city_and_state(\"cicago\", \"il\")\n"
   ]
  },
  {
   "cell_type": "code",
   "execution_count": 125,
   "metadata": {},
   "outputs": [
    {
     "data": {
      "text/plain": [
       "5"
      ]
     },
     "execution_count": 125,
     "metadata": {},
     "output_type": "execute_result"
    }
   ],
   "source": [
    "len(res) # 56 zipcodes in Chicago"
   ]
  },
  {
   "cell_type": "raw",
   "metadata": {},
   "source": [
    "len(zipcode)\n",
    "\n",
    "TypeError: object of type 'SimpleZipcode' has no len()"
   ]
  },
  {
   "cell_type": "code",
   "execution_count": 126,
   "metadata": {},
   "outputs": [],
   "source": [
    "#res.describe()\n",
    "\n",
    "#AttributeError: 'list' object has no attribute 'describe'"
   ]
  },
  {
   "cell_type": "markdown",
   "metadata": {},
   "source": [
    "So the output is a list.\n",
    "\n",
    "*** How to export it to an array or a data frame so we can match it back to our data?***"
   ]
  },
  {
   "cell_type": "raw",
   "metadata": {},
   "source": [
    "res.type()\n",
    "\n",
    "AttributeError: 'list' object has no attribute 'type'"
   ]
  },
  {
   "cell_type": "code",
   "execution_count": 128,
   "metadata": {},
   "outputs": [],
   "source": [
    "zipcode = res[0]"
   ]
  },
  {
   "cell_type": "code",
   "execution_count": 129,
   "metadata": {},
   "outputs": [
    {
     "data": {
      "text/plain": [
       "'Chicago'"
      ]
     },
     "execution_count": 129,
     "metadata": {},
     "output_type": "execute_result"
    }
   ],
   "source": [
    "zipcode.major_city"
   ]
  },
  {
   "cell_type": "code",
   "execution_count": 130,
   "metadata": {},
   "outputs": [
    {
     "data": {
      "text/plain": [
       "'IL'"
      ]
     },
     "execution_count": 130,
     "metadata": {},
     "output_type": "execute_result"
    }
   ],
   "source": [
    "zipcode.state_abbr"
   ]
  },
  {
   "cell_type": "code",
   "execution_count": 131,
   "metadata": {},
   "outputs": [
    {
     "data": {
      "text/plain": [
       "SimpleZipcode(zipcode='60601', zipcode_type='Standard', major_city='Chicago', post_office_city='Chicago, IL', common_city_list=['Chicago'], county='Cook County', state='IL', lat=41.88, lng=-87.62, timezone='Central', radius_in_miles=0.7954545454545454, area_code_list=['312', '773', '872'], population=11110, population_density=28793.0, land_area_in_sqmi=0.39, water_area_in_sqmi=0.0, housing_units=8594, occupied_housing_units=6739, median_home_value=494200, median_household_income=95556, bounds_west=-87.633967, bounds_east=-87.61328, bounds_north=41.889045, bounds_south=41.880829)"
      ]
     },
     "execution_count": 131,
     "metadata": {},
     "output_type": "execute_result"
    }
   ],
   "source": [
    "zipcode"
   ]
  },
  {
   "cell_type": "code",
   "execution_count": 132,
   "metadata": {},
   "outputs": [
    {
     "data": {
      "text/plain": [
       "'60601'"
      ]
     },
     "execution_count": 132,
     "metadata": {},
     "output_type": "execute_result"
    }
   ],
   "source": [
    "zipcode.zipcode"
   ]
  },
  {
   "cell_type": "markdown",
   "metadata": {},
   "source": [
    "#### We can search by city and state. But that is not a great solution, because we want to leverage the street information too."
   ]
  },
  {
   "cell_type": "markdown",
   "metadata": {},
   "source": [
    "Below is a long way to do it (made easier with some copy/pasting in Excel); but this would probably be better done by looping over the data."
   ]
  },
  {
   "cell_type": "markdown",
   "metadata": {},
   "source": [
    "**** I can review loops, but if anyone has advice on how we could do that loop that would be great****"
   ]
  },
  {
   "cell_type": "code",
   "execution_count": 133,
   "metadata": {},
   "outputs": [],
   "source": [
    "res1=search.by_city_and_state(\"ABINGTON\", \"MA\")\n",
    "res2=search.by_city_and_state(\"ACTON\", \"MA\")\n",
    "res3=search.by_city_and_state(\"AMESBURY\", \"MA\")\n",
    "res4=search.by_city_and_state(\"ARLINGTON\", \"MA\")\n",
    "res5=search.by_city_and_state(\"AYER\", \"MA\")\n",
    "res6=search.by_city_and_state(\"BEDFORD\", \"MA\")\n",
    "res7=search.by_city_and_state(\"BELMONT\", \"MA\")\n",
    "res8=search.by_city_and_state(\"BEVERLY\", \"MA\")\n",
    "res9=search.by_city_and_state(\"BOSTON\", \"MA\")\n",
    "res10=search.by_city_and_state(\"BOXBOROUGH\", \"MA\")\n",
    "res11=search.by_city_and_state(\"BOXFORD\", \"MA\")\n",
    "res12=search.by_city_and_state(\"BRAINTREE\", \"MA\")\n",
    "res13=search.by_city_and_state(\"BREWSTER\", \"MA\")\n",
    "res14=search.by_city_and_state(\"BRIGHTON\", \"MA\")\n",
    "res15=search.by_city_and_state(\"BROOKFIELD\", \"MA\")\n",
    "res16=search.by_city_and_state(\"BROOKLINE\", \"MA\")\n",
    "res17=search.by_city_and_state(\"BURLINGTON\", \"MA\")\n",
    "res18=search.by_city_and_state(\"BYFIELD\", \"MA\")\n",
    "res19=search.by_city_and_state(\"CAMBRIDGE\", \"MA\")\n",
    "res20=search.by_city_and_state(\"CARLISLE\", \"MA\")\n",
    "res21=search.by_city_and_state(\"CENTERVILLE\", \"MA\")\n",
    "res22=search.by_city_and_state(\"CHARLESTOWN\", \"MA\")\n",
    "res23=search.by_city_and_state(\"CHELSEA\", \"MA\")\n",
    "res24=search.by_city_and_state(\"CLINTON\", \"MA\")\n",
    "res25=search.by_city_and_state(\"COHASSET\", \"MA\")\n",
    "res26=search.by_city_and_state(\"CONCORD\", \"MA\")\n",
    "res27=search.by_city_and_state(\"DANVERS\", \"MA\")\n",
    "res28=search.by_city_and_state(\"DORCHESTER\", \"MA\")\n",
    "res29=search.by_city_and_state(\"DUDLEY\", \"MA\")\n",
    "res30=search.by_city_and_state(\"EAST BOSTON\", \"MA\")\n",
    "res31=search.by_city_and_state(\"EAST BROOKFIELD\", \"MA\")\n",
    "res32=search.by_city_and_state(\"ESSEX\", \"MA\")\n",
    "res33=search.by_city_and_state(\"EVERETT\", \"MA\")\n",
    "res34=search.by_city_and_state(\"GEORGETOWN\", \"MA\")\n",
    "res35=search.by_city_and_state(\"GLOUCESTER\", \"MA\")\n",
    "res36=search.by_city_and_state(\"GROTON\", \"MA\")\n",
    "res37=search.by_city_and_state(\"GROVELAND\", \"MA\")\n",
    "res38=search.by_city_and_state(\"HAMILTON\", \"MA\")\n",
    "res39=search.by_city_and_state(\"HARVARD\", \"MA\")\n",
    "res40=search.by_city_and_state(\"HAVERHILL\", \"MA\")\n",
    "res41=search.by_city_and_state(\"HINGHAM\", \"MA\")\n",
    "res42=search.by_city_and_state(\"HULL\", \"MA\")\n",
    "res43=search.by_city_and_state(\"IPSWICH\", \"MA\")\n",
    "res44=search.by_city_and_state(\"JAMAICA PLAIN\", \"MA\")\n",
    "res45=search.by_city_and_state(\"LANCASTER\", \"MA\")\n",
    "res46=search.by_city_and_state(\"LEICESTER\", \"MA\")\n",
    "res47=search.by_city_and_state(\"LEOMINSTER\", \"MA\")\n",
    "res48=search.by_city_and_state(\"LEXINGTON\", \"MA\")\n",
    "res49=search.by_city_and_state(\"LINCOLN\", \"MA\")\n",
    "res50=search.by_city_and_state(\"LITTLETON\", \"MA\")\n",
    "res51=search.by_city_and_state(\"LOWELL\", \"MA\")\n",
    "res52=search.by_city_and_state(\"LUNENBURG\", \"MA\")\n",
    "res53=search.by_city_and_state(\"LYNN\", \"MA\")\n",
    "res54=search.by_city_and_state(\"LYNNFIELD\", \"MA\")\n",
    "res55=search.by_city_and_state(\"MALDEN\", \"MA\")\n",
    "res56=search.by_city_and_state(\"MANCHESTER\", \"MA\")\n",
    "res57=search.by_city_and_state(\"MARBLEHEAD\", \"MA\")\n",
    "res58=search.by_city_and_state(\"MARSTONS MILLS\", \"MA\")\n",
    "res59=search.by_city_and_state(\"MEDFORD\", \"MA\")\n",
    "res60=search.by_city_and_state(\"MELROSE\", \"MA\")\n",
    "res61=search.by_city_and_state(\"MERRIMAC\", \"MA\")\n",
    "res62=search.by_city_and_state(\"MIDDLETON\", \"MA\")\n",
    "res63=search.by_city_and_state(\"MILTON\", \"MA\")\n",
    "res64=search.by_city_and_state(\"NAHANT\", \"MA\")\n",
    "res65=search.by_city_and_state(\"NEWBURYPORT\", \"MA\")\n",
    "res66=search.by_city_and_state(\"NEWTON\", \"MA\")\n",
    "res67=search.by_city_and_state(\"NORTH BROOKFIELD\", \"MA\")\n",
    "res68=search.by_city_and_state(\"NORWOOD\", \"MA\")\n",
    "res69=search.by_city_and_state(\"PEABODY\", \"MA\")\n",
    "res70=search.by_city_and_state(\"QUINCY\", \"MA\")\n",
    "res71=search.by_city_and_state(\"READING\", \"MA\")\n",
    "res72=search.by_city_and_state(\"REVERE\", \"MA\")\n",
    "res73=search.by_city_and_state(\"ROCKLAND\", \"MA\")\n",
    "res74=search.by_city_and_state(\"ROCKPORT\", \"MA\")\n",
    "res75=search.by_city_and_state(\"ROSLINDALE\", \"MA\")\n",
    "res76=search.by_city_and_state(\"ROWLEY\", \"MA\")\n",
    "res77=search.by_city_and_state(\"ROXBURY\", \"MA\")\n",
    "res78=search.by_city_and_state(\"SALEM\", \"MA\")\n",
    "res79=search.by_city_and_state(\"SALISBURY\", \"MA\")\n",
    "res80=search.by_city_and_state(\"SAUGUS\", \"MA\")\n",
    "res81=search.by_city_and_state(\"SHIRLEY\", \"MA\")\n",
    "res82=search.by_city_and_state(\"SOMERVILLE\", \"MA\")\n",
    "res83=search.by_city_and_state(\"SOUTH BOSTON\", \"MA\")\n",
    "res84=search.by_city_and_state(\"SOUTHBRIDGE\", \"MA\")\n",
    "res85=search.by_city_and_state(\"SPENCER\", \"MA\")\n",
    "res86=search.by_city_and_state(\"STONEHAM\", \"MA\")\n",
    "res87=search.by_city_and_state(\"SUDBURY\", \"MA\")\n",
    "res88=search.by_city_and_state(\"SWAMPSCOTT\", \"MA\")\n",
    "res89=search.by_city_and_state(\"SWIFTS BEACH\", \"MA\")\n",
    "res90=search.by_city_and_state(\"TOPSFIELD\", \"MA\")\n",
    "res91=search.by_city_and_state(\"WAKEFIELD\", \"MA\")\n",
    "res92=search.by_city_and_state(\"WALTHAM\", \"MA\")\n",
    "res93=search.by_city_and_state(\"WARREN\", \"MA\")\n",
    "res94=search.by_city_and_state(\"WATERTOWN\", \"MA\")\n",
    "res95=search.by_city_and_state(\"WAYLAND\", \"MA\")\n",
    "res96=search.by_city_and_state(\"WEBSTER\", \"MA\")\n",
    "res97=search.by_city_and_state(\"WELLESLEY\", \"MA\")\n",
    "res98=search.by_city_and_state(\"WENHAM\", \"MA\")\n",
    "res99=search.by_city_and_state(\"WEST BROOKFIELD\", \"MA\")\n",
    "res100=search.by_city_and_state(\"WEST NEWBURY\", \"MA\")\n",
    "res101=search.by_city_and_state(\"WEST ROXBURY\", \"MA\")\n",
    "res102=search.by_city_and_state(\"WESTON\", \"MA\")\n",
    "res103=search.by_city_and_state(\"WEYMOUTH\", \"MA\")\n",
    "res104=search.by_city_and_state(\"WHITMAN\", \"MA\")\n",
    "res105=search.by_city_and_state(\"WINCHESTER\", \"MA\")\n",
    "res106=search.by_city_and_state(\"WINTHROP\", \"MA\")\n",
    "res107=search.by_city_and_state(\"WOBURN\", \"MA\")\n",
    "\n"
   ]
  },
  {
   "cell_type": "code",
   "execution_count": 134,
   "metadata": {},
   "outputs": [
    {
     "data": {
      "text/plain": [
       "[SimpleZipcode(zipcode='02351', zipcode_type='Standard', major_city='Abington', post_office_city='Abington, MA', common_city_list=['Abington'], county='Plymouth County', state='MA', lat=42.12, lng=-70.96, timezone='Eastern', radius_in_miles=3.0, area_code_list=[], population=16029, population_density=1660.0, land_area_in_sqmi=9.66, water_area_in_sqmi=0.24, housing_units=6399, occupied_housing_units=6099, median_home_value=312400, median_household_income=78395, bounds_west=-71.002354, bounds_east=-70.915787, bounds_north=42.148156, bounds_south=42.087446)]"
      ]
     },
     "execution_count": 134,
     "metadata": {},
     "output_type": "execute_result"
    }
   ],
   "source": [
    "res1\n",
    "#res2"
   ]
  },
  {
   "cell_type": "markdown",
   "metadata": {},
   "source": [
    "Ideally, we would get the zipcodes by street, but this information might be good enough;   \n",
    "\n",
    "#### How can we get it into a dataframe and match it back to the data???\n",
    "\n"
   ]
  },
  {
   "cell_type": "code",
   "execution_count": 135,
   "metadata": {},
   "outputs": [],
   "source": [
    "res1_info = pd.DataFrame(res1)"
   ]
  },
  {
   "cell_type": "code",
   "execution_count": 136,
   "metadata": {},
   "outputs": [
    {
     "data": {
      "text/html": [
       "<div>\n",
       "<style scoped>\n",
       "    .dataframe tbody tr th:only-of-type {\n",
       "        vertical-align: middle;\n",
       "    }\n",
       "\n",
       "    .dataframe tbody tr th {\n",
       "        vertical-align: top;\n",
       "    }\n",
       "\n",
       "    .dataframe thead th {\n",
       "        text-align: right;\n",
       "    }\n",
       "</style>\n",
       "<table border=\"1\" class=\"dataframe\">\n",
       "  <thead>\n",
       "    <tr style=\"text-align: right;\">\n",
       "      <th></th>\n",
       "      <th>0</th>\n",
       "    </tr>\n",
       "  </thead>\n",
       "  <tbody>\n",
       "    <tr>\n",
       "      <th>0</th>\n",
       "      <td>SimpleZipcode(zipcode='02351', zipcode_type='S...</td>\n",
       "    </tr>\n",
       "  </tbody>\n",
       "</table>\n",
       "</div>"
      ],
      "text/plain": [
       "                                                   0\n",
       "0  SimpleZipcode(zipcode='02351', zipcode_type='S..."
      ]
     },
     "execution_count": 136,
     "metadata": {},
     "output_type": "execute_result"
    }
   ],
   "source": [
    "res1_info"
   ]
  },
  {
   "cell_type": "markdown",
   "metadata": {},
   "source": [
    "Doh! That did not work!"
   ]
  },
  {
   "cell_type": "code",
   "execution_count": null,
   "metadata": {},
   "outputs": [],
   "source": []
  },
  {
   "cell_type": "code",
   "execution_count": null,
   "metadata": {},
   "outputs": [],
   "source": []
  },
  {
   "cell_type": "code",
   "execution_count": 69,
   "metadata": {},
   "outputs": [
    {
     "data": {
      "text/plain": [
       "SimpleZipcode(zipcode='60601', zipcode_type='Standard', major_city='Chicago', post_office_city='Chicago, IL', common_city_list=['Chicago'], county='Cook County', state='IL', lat=41.88, lng=-87.62, timezone='Central', radius_in_miles=0.7954545454545454, area_code_list=['312', '773', '872'], population=11110, population_density=28793.0, land_area_in_sqmi=0.39, water_area_in_sqmi=0.0, housing_units=8594, occupied_housing_units=6739, median_home_value=494200, median_household_income=95556, bounds_west=-87.633967, bounds_east=-87.61328, bounds_north=41.889045, bounds_south=41.880829)"
      ]
     },
     "execution_count": 69,
     "metadata": {},
     "output_type": "execute_result"
    }
   ],
   "source": [
    "zipcode"
   ]
  },
  {
   "cell_type": "raw",
   "metadata": {},
   "source": [
    "# Maybe try this advice?\n",
    "\n",
    "\n",
    "# import pandas as pd \n",
    "#import pandas as pd \n",
    "  \n",
    "# list of strings \n",
    "lst = ['Geeks', 'For', 'Geeks', 'is',  \n",
    "            'portal', 'for', 'Geeks'] \n",
    "  \n",
    "# Calling DataFrame constructor on list \n",
    "df = pd.DataFrame(lst) \n",
    "df \n",
    "\n",
    "\n",
    "# https://www.geeksforgeeks.org/create-a-pandas-dataframe-from-lists/"
   ]
  },
  {
   "cell_type": "code",
   "execution_count": 50,
   "metadata": {},
   "outputs": [
    {
     "data": {
      "text/html": [
       "<div>\n",
       "<style scoped>\n",
       "    .dataframe tbody tr th:only-of-type {\n",
       "        vertical-align: middle;\n",
       "    }\n",
       "\n",
       "    .dataframe tbody tr th {\n",
       "        vertical-align: top;\n",
       "    }\n",
       "\n",
       "    .dataframe thead th {\n",
       "        text-align: right;\n",
       "    }\n",
       "</style>\n",
       "<table border=\"1\" class=\"dataframe\">\n",
       "  <thead>\n",
       "    <tr style=\"text-align: right;\">\n",
       "      <th></th>\n",
       "      <th>0</th>\n",
       "    </tr>\n",
       "  </thead>\n",
       "  <tbody>\n",
       "    <tr>\n",
       "      <th>0</th>\n",
       "      <td>Geeks</td>\n",
       "    </tr>\n",
       "    <tr>\n",
       "      <th>1</th>\n",
       "      <td>For</td>\n",
       "    </tr>\n",
       "    <tr>\n",
       "      <th>2</th>\n",
       "      <td>Geeks</td>\n",
       "    </tr>\n",
       "    <tr>\n",
       "      <th>3</th>\n",
       "      <td>is</td>\n",
       "    </tr>\n",
       "    <tr>\n",
       "      <th>4</th>\n",
       "      <td>portal</td>\n",
       "    </tr>\n",
       "    <tr>\n",
       "      <th>5</th>\n",
       "      <td>for</td>\n",
       "    </tr>\n",
       "    <tr>\n",
       "      <th>6</th>\n",
       "      <td>Geeks</td>\n",
       "    </tr>\n",
       "  </tbody>\n",
       "</table>\n",
       "</div>"
      ],
      "text/plain": [
       "        0\n",
       "0   Geeks\n",
       "1     For\n",
       "2   Geeks\n",
       "3      is\n",
       "4  portal\n",
       "5     for\n",
       "6   Geeks"
      ]
     },
     "execution_count": 50,
     "metadata": {},
     "output_type": "execute_result"
    }
   ],
   "source": [
    "\n",
    "# list of strings \n",
    "lst = ['Geeks', 'For', 'Geeks', 'is',  \n",
    "            'portal', 'for', 'Geeks'] \n",
    "  \n",
    "# Calling DataFrame constructor on list \n",
    "df = pd.DataFrame(lst) \n",
    "df "
   ]
  },
  {
   "cell_type": "markdown",
   "metadata": {},
   "source": [
    "But this comes out in rows, I want the info to come out across columns."
   ]
  },
  {
   "cell_type": "code",
   "execution_count": null,
   "metadata": {},
   "outputs": [],
   "source": []
  },
  {
   "cell_type": "code",
   "execution_count": 65,
   "metadata": {},
   "outputs": [
    {
     "data": {
      "text/html": [
       "<div>\n",
       "<style scoped>\n",
       "    .dataframe tbody tr th:only-of-type {\n",
       "        vertical-align: middle;\n",
       "    }\n",
       "\n",
       "    .dataframe tbody tr th {\n",
       "        vertical-align: top;\n",
       "    }\n",
       "\n",
       "    .dataframe thead th {\n",
       "        text-align: right;\n",
       "    }\n",
       "</style>\n",
       "<table border=\"1\" class=\"dataframe\">\n",
       "  <thead>\n",
       "    <tr style=\"text-align: right;\">\n",
       "      <th></th>\n",
       "      <th>0</th>\n",
       "    </tr>\n",
       "  </thead>\n",
       "  <tbody>\n",
       "    <tr>\n",
       "      <th>0</th>\n",
       "      <td>SimpleZipcode(zipcode='02351', zipcode_type='S...</td>\n",
       "    </tr>\n",
       "  </tbody>\n",
       "</table>\n",
       "</div>"
      ],
      "text/plain": [
       "                                                   0\n",
       "0  SimpleZipcode(zipcode='02351', zipcode_type='S..."
      ]
     },
     "execution_count": 65,
     "metadata": {},
     "output_type": "execute_result"
    }
   ],
   "source": [
    "res1_info"
   ]
  },
  {
   "cell_type": "code",
   "execution_count": 65,
   "metadata": {},
   "outputs": [
    {
     "data": {
      "text/html": [
       "<div>\n",
       "<style scoped>\n",
       "    .dataframe tbody tr th:only-of-type {\n",
       "        vertical-align: middle;\n",
       "    }\n",
       "\n",
       "    .dataframe tbody tr th {\n",
       "        vertical-align: top;\n",
       "    }\n",
       "\n",
       "    .dataframe thead th {\n",
       "        text-align: right;\n",
       "    }\n",
       "</style>\n",
       "<table border=\"1\" class=\"dataframe\">\n",
       "  <thead>\n",
       "    <tr style=\"text-align: right;\">\n",
       "      <th></th>\n",
       "      <th>0</th>\n",
       "    </tr>\n",
       "  </thead>\n",
       "  <tbody>\n",
       "    <tr>\n",
       "      <th>0</th>\n",
       "      <td>SimpleZipcode(zipcode='02351', zipcode_type='S...</td>\n",
       "    </tr>\n",
       "  </tbody>\n",
       "</table>\n",
       "</div>"
      ],
      "text/plain": [
       "                                                   0\n",
       "0  SimpleZipcode(zipcode='02351', zipcode_type='S..."
      ]
     },
     "execution_count": 65,
     "metadata": {},
     "output_type": "execute_result"
    }
   ],
   "source": [
    "res1_info"
   ]
  },
  {
   "cell_type": "code",
   "execution_count": null,
   "metadata": {},
   "outputs": [],
   "source": []
  },
  {
   "cell_type": "code",
   "execution_count": 62,
   "metadata": {},
   "outputs": [],
   "source": [
    "res1_2_info = pd.DataFrame(res1,res2)\n"
   ]
  },
  {
   "cell_type": "code",
   "execution_count": 63,
   "metadata": {},
   "outputs": [
    {
     "data": {
      "text/html": [
       "<div>\n",
       "<style scoped>\n",
       "    .dataframe tbody tr th:only-of-type {\n",
       "        vertical-align: middle;\n",
       "    }\n",
       "\n",
       "    .dataframe tbody tr th {\n",
       "        vertical-align: top;\n",
       "    }\n",
       "\n",
       "    .dataframe thead th {\n",
       "        text-align: right;\n",
       "    }\n",
       "</style>\n",
       "<table border=\"1\" class=\"dataframe\">\n",
       "  <thead>\n",
       "    <tr style=\"text-align: right;\">\n",
       "      <th></th>\n",
       "      <th>0</th>\n",
       "    </tr>\n",
       "  </thead>\n",
       "  <tbody>\n",
       "    <tr>\n",
       "      <th>SimpleZipcode(zipcode='01720', zipcode_type='Standard', major_city='Acton', post_office_city='Acton, MA', common_city_list=['Acton'], county='Middlesex County', state='MA', lat=42.49, lng=-71.44, timezone='Eastern', radius_in_miles=5.0, area_code_list=['781', '508', '978'], population=21361, population_density=1084.0, land_area_in_sqmi=19.71, water_area_in_sqmi=0.43, housing_units=8294, occupied_housing_units=7962, median_home_value=480700, median_household_income=109578, bounds_west=-71.498546, bounds_east=-71.384899, bounds_north=42.533992, bounds_south=42.436937)</th>\n",
       "      <td>SimpleZipcode(zipcode='02351', zipcode_type='S...</td>\n",
       "    </tr>\n",
       "  </tbody>\n",
       "</table>\n",
       "</div>"
      ],
      "text/plain": [
       "                                                                                                    0\n",
       "SimpleZipcode(zipcode='01720', zipcode_type='St...  SimpleZipcode(zipcode='02351', zipcode_type='S..."
      ]
     },
     "execution_count": 63,
     "metadata": {},
     "output_type": "execute_result"
    }
   ],
   "source": [
    "res1_2_info"
   ]
  },
  {
   "cell_type": "code",
   "execution_count": 58,
   "metadata": {},
   "outputs": [
    {
     "data": {
      "text/plain": [
       "SimpleZipcode(zipcode='60601', zipcode_type='Standard', major_city='Chicago', post_office_city='Chicago, IL', common_city_list=['Chicago'], county='Cook County', state='IL', lat=41.88, lng=-87.62, timezone='Central', radius_in_miles=0.7954545454545454, area_code_list=['312', '773', '872'], population=11110, population_density=28793.0, land_area_in_sqmi=0.39, water_area_in_sqmi=0.0, housing_units=8594, occupied_housing_units=6739, median_home_value=494200, median_household_income=95556, bounds_west=-87.633967, bounds_east=-87.61328, bounds_north=41.889045, bounds_south=41.880829)"
      ]
     },
     "execution_count": 58,
     "metadata": {},
     "output_type": "execute_result"
    }
   ],
   "source": [
    "zipcode"
   ]
  },
  {
   "cell_type": "code",
   "execution_count": 32,
   "metadata": {
    "scrolled": true
   },
   "outputs": [
    {
     "data": {
      "text/plain": [
       "[SimpleZipcode(zipcode='02351', zipcode_type='Standard', major_city='Abington', post_office_city='Abington, MA', common_city_list=['Abington'], county='Plymouth County', state='MA', lat=42.12, lng=-70.96, timezone='Eastern', radius_in_miles=3.0, area_code_list=[], population=16029, population_density=1660.0, land_area_in_sqmi=9.66, water_area_in_sqmi=0.24, housing_units=6399, occupied_housing_units=6099, median_home_value=312400, median_household_income=78395, bounds_west=-71.002354, bounds_east=-70.915787, bounds_north=42.148156, bounds_south=42.087446)]"
      ]
     },
     "execution_count": 32,
     "metadata": {},
     "output_type": "execute_result"
    }
   ],
   "source": [
    "res1"
   ]
  },
  {
   "cell_type": "code",
   "execution_count": null,
   "metadata": {},
   "outputs": [],
   "source": []
  },
  {
   "cell_type": "markdown",
   "metadata": {},
   "source": [
    "## try many in one"
   ]
  },
  {
   "cell_type": "raw",
   "metadata": {},
   "source": [
    "manycityresults =search.by_city_and_state([\"ABINGTON\", \"MA\"],[\"ACTON\", \"MA\"])\n",
    "# AttributeError: 'list' object has no attribute 'upper'\n",
    "\n"
   ]
  },
  {
   "cell_type": "raw",
   "metadata": {},
   "source": [
    "manycityresults =search.by_city_and_state[(\"ABINGTON\", \"MA\")],(\"ACTON\", \"MA\")]\n",
    "\n",
    "# SyntaxError: invalid syntax"
   ]
  },
  {
   "cell_type": "markdown",
   "metadata": {},
   "source": [
    "#create a dictionary or list? then loop over it to get zip information; then print it out- then merge back with the original data."
   ]
  },
  {
   "cell_type": "code",
   "execution_count": null,
   "metadata": {},
   "outputs": [],
   "source": []
  },
  {
   "cell_type": "code",
   "execution_count": null,
   "metadata": {},
   "outputs": [],
   "source": []
  },
  {
   "cell_type": "code",
   "execution_count": null,
   "metadata": {},
   "outputs": [],
   "source": []
  },
  {
   "cell_type": "code",
   "execution_count": null,
   "metadata": {},
   "outputs": [],
   "source": []
  },
  {
   "cell_type": "code",
   "execution_count": null,
   "metadata": {},
   "outputs": [],
   "source": []
  },
  {
   "cell_type": "code",
   "execution_count": null,
   "metadata": {},
   "outputs": [],
   "source": []
  },
  {
   "cell_type": "code",
   "execution_count": null,
   "metadata": {},
   "outputs": [],
   "source": []
  },
  {
   "cell_type": "code",
   "execution_count": null,
   "metadata": {},
   "outputs": [],
   "source": []
  },
  {
   "cell_type": "code",
   "execution_count": null,
   "metadata": {},
   "outputs": [],
   "source": []
  },
  {
   "cell_type": "markdown",
   "metadata": {},
   "source": [
    "#### Summarize the Data"
   ]
  },
  {
   "cell_type": "code",
   "execution_count": 99,
   "metadata": {},
   "outputs": [],
   "source": [
    "#gasleaks.describe()"
   ]
  },
  {
   "cell_type": "markdown",
   "metadata": {},
   "source": [
    "https://chrisalbon.com/python/data_wrangling/pandas_pivot_tables/"
   ]
  },
  {
   "cell_type": "code",
   "execution_count": 87,
   "metadata": {},
   "outputs": [
    {
     "data": {
      "text/html": [
       "<div>\n",
       "<style scoped>\n",
       "    .dataframe tbody tr th:only-of-type {\n",
       "        vertical-align: middle;\n",
       "    }\n",
       "\n",
       "    .dataframe tbody tr th {\n",
       "        vertical-align: top;\n",
       "    }\n",
       "\n",
       "    .dataframe thead th {\n",
       "        text-align: right;\n",
       "    }\n",
       "</style>\n",
       "<table border=\"1\" class=\"dataframe\">\n",
       "  <thead>\n",
       "    <tr style=\"text-align: right;\">\n",
       "      <th></th>\n",
       "      <th>CrossStreet</th>\n",
       "      <th>Endingleakgrade</th>\n",
       "      <th>ReportedAddress</th>\n",
       "      <th>ReportedDate</th>\n",
       "      <th>State</th>\n",
       "      <th>concate</th>\n",
       "      <th>f</th>\n",
       "    </tr>\n",
       "    <tr>\n",
       "      <th>Town</th>\n",
       "      <th></th>\n",
       "      <th></th>\n",
       "      <th></th>\n",
       "      <th></th>\n",
       "      <th></th>\n",
       "      <th></th>\n",
       "      <th></th>\n",
       "    </tr>\n",
       "  </thead>\n",
       "  <tbody>\n",
       "    <tr>\n",
       "      <th>ABINGTON</th>\n",
       "      <td>0</td>\n",
       "      <td>44</td>\n",
       "      <td>44</td>\n",
       "      <td>44</td>\n",
       "      <td>44</td>\n",
       "      <td>44</td>\n",
       "      <td>44</td>\n",
       "    </tr>\n",
       "    <tr>\n",
       "      <th>ACTON</th>\n",
       "      <td>20</td>\n",
       "      <td>220</td>\n",
       "      <td>220</td>\n",
       "      <td>220</td>\n",
       "      <td>220</td>\n",
       "      <td>220</td>\n",
       "      <td>220</td>\n",
       "    </tr>\n",
       "    <tr>\n",
       "      <th>AMESBURY</th>\n",
       "      <td>0</td>\n",
       "      <td>16</td>\n",
       "      <td>16</td>\n",
       "      <td>16</td>\n",
       "      <td>16</td>\n",
       "      <td>16</td>\n",
       "      <td>16</td>\n",
       "    </tr>\n",
       "    <tr>\n",
       "      <th>ARLINGTON</th>\n",
       "      <td>22</td>\n",
       "      <td>313</td>\n",
       "      <td>313</td>\n",
       "      <td>313</td>\n",
       "      <td>313</td>\n",
       "      <td>313</td>\n",
       "      <td>313</td>\n",
       "    </tr>\n",
       "    <tr>\n",
       "      <th>AYER</th>\n",
       "      <td>3</td>\n",
       "      <td>32</td>\n",
       "      <td>32</td>\n",
       "      <td>32</td>\n",
       "      <td>32</td>\n",
       "      <td>32</td>\n",
       "      <td>32</td>\n",
       "    </tr>\n",
       "  </tbody>\n",
       "</table>\n",
       "</div>"
      ],
      "text/plain": [
       "           CrossStreet  Endingleakgrade  ReportedAddress  ReportedDate  State  \\\n",
       "Town                                                                            \n",
       "ABINGTON             0               44               44            44     44   \n",
       "ACTON               20              220              220           220    220   \n",
       "AMESBURY             0               16               16            16     16   \n",
       "ARLINGTON           22              313              313           313    313   \n",
       "AYER                 3               32               32            32     32   \n",
       "\n",
       "           concate    f  \n",
       "Town                     \n",
       "ABINGTON        44   44  \n",
       "ACTON          220  220  \n",
       "AMESBURY        16   16  \n",
       "ARLINGTON      313  313  \n",
       "AYER            32   32  "
      ]
     },
     "execution_count": 87,
     "metadata": {},
     "output_type": "execute_result"
    }
   ],
   "source": [
    "gasleaks.pivot_table(index=['Town'], aggfunc='count').head()"
   ]
  },
  {
   "cell_type": "code",
   "execution_count": null,
   "metadata": {},
   "outputs": [],
   "source": []
  },
  {
   "cell_type": "code",
   "execution_count": 37,
   "metadata": {},
   "outputs": [
    {
     "data": {
      "text/html": [
       "<div>\n",
       "<style scoped>\n",
       "    .dataframe tbody tr th:only-of-type {\n",
       "        vertical-align: middle;\n",
       "    }\n",
       "\n",
       "    .dataframe tbody tr th {\n",
       "        vertical-align: top;\n",
       "    }\n",
       "\n",
       "    .dataframe thead th {\n",
       "        text-align: right;\n",
       "    }\n",
       "</style>\n",
       "<table border=\"1\" class=\"dataframe\">\n",
       "  <thead>\n",
       "    <tr style=\"text-align: right;\">\n",
       "      <th></th>\n",
       "      <th>CrossStreet</th>\n",
       "      <th>ReportedAddress</th>\n",
       "      <th>ReportedDate</th>\n",
       "      <th>State</th>\n",
       "      <th>Town</th>\n",
       "      <th>concate</th>\n",
       "      <th>f</th>\n",
       "    </tr>\n",
       "    <tr>\n",
       "      <th>Endingleakgrade</th>\n",
       "      <th></th>\n",
       "      <th></th>\n",
       "      <th></th>\n",
       "      <th></th>\n",
       "      <th></th>\n",
       "      <th></th>\n",
       "      <th></th>\n",
       "    </tr>\n",
       "  </thead>\n",
       "  <tbody>\n",
       "    <tr>\n",
       "      <th>1</th>\n",
       "      <td>6</td>\n",
       "      <td>45</td>\n",
       "      <td>45</td>\n",
       "      <td>45</td>\n",
       "      <td>45</td>\n",
       "      <td>45</td>\n",
       "      <td>45</td>\n",
       "    </tr>\n",
       "    <tr>\n",
       "      <th>2</th>\n",
       "      <td>104</td>\n",
       "      <td>1150</td>\n",
       "      <td>1150</td>\n",
       "      <td>1150</td>\n",
       "      <td>1150</td>\n",
       "      <td>1150</td>\n",
       "      <td>1150</td>\n",
       "    </tr>\n",
       "    <tr>\n",
       "      <th>2A</th>\n",
       "      <td>10</td>\n",
       "      <td>201</td>\n",
       "      <td>201</td>\n",
       "      <td>201</td>\n",
       "      <td>201</td>\n",
       "      <td>201</td>\n",
       "      <td>201</td>\n",
       "    </tr>\n",
       "    <tr>\n",
       "      <th>3</th>\n",
       "      <td>828</td>\n",
       "      <td>8631</td>\n",
       "      <td>8631</td>\n",
       "      <td>8631</td>\n",
       "      <td>8631</td>\n",
       "      <td>8631</td>\n",
       "      <td>8631</td>\n",
       "    </tr>\n",
       "  </tbody>\n",
       "</table>\n",
       "</div>"
      ],
      "text/plain": [
       "                 CrossStreet  ReportedAddress  ReportedDate  State  Town  \\\n",
       "Endingleakgrade                                                            \n",
       "1                          6               45            45     45    45   \n",
       "2                        104             1150          1150   1150  1150   \n",
       "2A                        10              201           201    201   201   \n",
       "3                        828             8631          8631   8631  8631   \n",
       "\n",
       "                 concate     f  \n",
       "Endingleakgrade                 \n",
       "1                     45    45  \n",
       "2                   1150  1150  \n",
       "2A                   201   201  \n",
       "3                   8631  8631  "
      ]
     },
     "execution_count": 37,
     "metadata": {},
     "output_type": "execute_result"
    }
   ],
   "source": [
    "gasleaks.pivot_table(index=['Endingleakgrade'], aggfunc='count')"
   ]
  },
  {
   "cell_type": "code",
   "execution_count": 77,
   "metadata": {},
   "outputs": [
    {
     "data": {
      "text/html": [
       "<div>\n",
       "<style scoped>\n",
       "    .dataframe tbody tr th:only-of-type {\n",
       "        vertical-align: middle;\n",
       "    }\n",
       "\n",
       "    .dataframe tbody tr th {\n",
       "        vertical-align: top;\n",
       "    }\n",
       "\n",
       "    .dataframe thead th {\n",
       "        text-align: right;\n",
       "    }\n",
       "</style>\n",
       "<table border=\"1\" class=\"dataframe\">\n",
       "  <thead>\n",
       "    <tr style=\"text-align: right;\">\n",
       "      <th></th>\n",
       "      <th></th>\n",
       "      <th>CrossStreet</th>\n",
       "      <th>ReportedAddress</th>\n",
       "      <th>ReportedDate</th>\n",
       "      <th>State</th>\n",
       "      <th>concate</th>\n",
       "      <th>f</th>\n",
       "    </tr>\n",
       "    <tr>\n",
       "      <th>Town</th>\n",
       "      <th>Endingleakgrade</th>\n",
       "      <th></th>\n",
       "      <th></th>\n",
       "      <th></th>\n",
       "      <th></th>\n",
       "      <th></th>\n",
       "      <th></th>\n",
       "    </tr>\n",
       "  </thead>\n",
       "  <tbody>\n",
       "    <tr>\n",
       "      <th>ABINGTON</th>\n",
       "      <th>3</th>\n",
       "      <td>0</td>\n",
       "      <td>44</td>\n",
       "      <td>44</td>\n",
       "      <td>44</td>\n",
       "      <td>44</td>\n",
       "      <td>44</td>\n",
       "    </tr>\n",
       "    <tr>\n",
       "      <th rowspan=\"3\" valign=\"top\">ACTON</th>\n",
       "      <th>2</th>\n",
       "      <td>0</td>\n",
       "      <td>3</td>\n",
       "      <td>3</td>\n",
       "      <td>3</td>\n",
       "      <td>3</td>\n",
       "      <td>3</td>\n",
       "    </tr>\n",
       "    <tr>\n",
       "      <th>2A</th>\n",
       "      <td>0</td>\n",
       "      <td>1</td>\n",
       "      <td>1</td>\n",
       "      <td>1</td>\n",
       "      <td>1</td>\n",
       "      <td>1</td>\n",
       "    </tr>\n",
       "    <tr>\n",
       "      <th>3</th>\n",
       "      <td>20</td>\n",
       "      <td>216</td>\n",
       "      <td>216</td>\n",
       "      <td>216</td>\n",
       "      <td>216</td>\n",
       "      <td>216</td>\n",
       "    </tr>\n",
       "    <tr>\n",
       "      <th>AMESBURY</th>\n",
       "      <th>3</th>\n",
       "      <td>0</td>\n",
       "      <td>16</td>\n",
       "      <td>16</td>\n",
       "      <td>16</td>\n",
       "      <td>16</td>\n",
       "      <td>16</td>\n",
       "    </tr>\n",
       "  </tbody>\n",
       "</table>\n",
       "</div>"
      ],
      "text/plain": [
       "                          CrossStreet  ReportedAddress  ReportedDate  State  \\\n",
       "Town     Endingleakgrade                                                      \n",
       "ABINGTON 3                          0               44            44     44   \n",
       "ACTON    2                          0                3             3      3   \n",
       "         2A                         0                1             1      1   \n",
       "         3                         20              216           216    216   \n",
       "AMESBURY 3                          0               16            16     16   \n",
       "\n",
       "                          concate    f  \n",
       "Town     Endingleakgrade                \n",
       "ABINGTON 3                     44   44  \n",
       "ACTON    2                      3    3  \n",
       "         2A                     1    1  \n",
       "         3                    216  216  \n",
       "AMESBURY 3                     16   16  "
      ]
     },
     "execution_count": 77,
     "metadata": {},
     "output_type": "execute_result"
    }
   ],
   "source": [
    "gasleaks.pivot_table(index=['Town','Endingleakgrade'], aggfunc='count').head()"
   ]
  },
  {
   "cell_type": "code",
   "execution_count": null,
   "metadata": {},
   "outputs": [],
   "source": []
  },
  {
   "cell_type": "markdown",
   "metadata": {},
   "source": [
    "##### List Number of leaks by town in descending order.\n",
    "\n",
    "(there has got to be a quicker way than this- but that is for later)"
   ]
  },
  {
   "cell_type": "markdown",
   "metadata": {},
   "source": [
    "https://pandas.pydata.org/pandas-docs/stable/reference/api/pandas.DataFrame.sort_values.html"
   ]
  },
  {
   "cell_type": "raw",
   "metadata": {},
   "source": [
    "DataFrame.sort_values(by, axis=0, ascending=True, inplace=False, kind='quicksort', na_position='last')[source]\n",
    "Sort by the values along either axis"
   ]
  },
  {
   "cell_type": "code",
   "execution_count": 57,
   "metadata": {},
   "outputs": [],
   "source": [
    "df1 = gasleaks[['Town','f']]"
   ]
  },
  {
   "cell_type": "code",
   "execution_count": 78,
   "metadata": {},
   "outputs": [],
   "source": [
    "#df1.pivot_table(index=['Town'], aggfunc='count',sort_values= True)"
   ]
  },
  {
   "cell_type": "code",
   "execution_count": 79,
   "metadata": {},
   "outputs": [],
   "source": [
    "#df.sort_values('2')\n",
    "#df1.sort_values(\"f\", ascending=False)"
   ]
  },
  {
   "cell_type": "code",
   "execution_count": 71,
   "metadata": {},
   "outputs": [],
   "source": [
    "#df1.pivot_table(index=['Town'], aggfunc='count',sort_values=False)\n",
    " df2 = df1.pivot_table(index=['Town'], aggfunc='count')"
   ]
  },
  {
   "cell_type": "code",
   "execution_count": 75,
   "metadata": {},
   "outputs": [],
   "source": [
    "df3 = df2.sort_values(by=\"f\", ascending=False)"
   ]
  },
  {
   "cell_type": "code",
   "execution_count": 76,
   "metadata": {},
   "outputs": [
    {
     "data": {
      "text/html": [
       "<div>\n",
       "<style scoped>\n",
       "    .dataframe tbody tr th:only-of-type {\n",
       "        vertical-align: middle;\n",
       "    }\n",
       "\n",
       "    .dataframe tbody tr th {\n",
       "        vertical-align: top;\n",
       "    }\n",
       "\n",
       "    .dataframe thead th {\n",
       "        text-align: right;\n",
       "    }\n",
       "</style>\n",
       "<table border=\"1\" class=\"dataframe\">\n",
       "  <thead>\n",
       "    <tr style=\"text-align: right;\">\n",
       "      <th></th>\n",
       "      <th>f</th>\n",
       "    </tr>\n",
       "    <tr>\n",
       "      <th>Town</th>\n",
       "      <th></th>\n",
       "    </tr>\n",
       "  </thead>\n",
       "  <tbody>\n",
       "    <tr>\n",
       "      <th>NEWTON</th>\n",
       "      <td>690</td>\n",
       "    </tr>\n",
       "    <tr>\n",
       "      <th>QUINCY</th>\n",
       "      <td>526</td>\n",
       "    </tr>\n",
       "    <tr>\n",
       "      <th>DORCHESTER</th>\n",
       "      <td>514</td>\n",
       "    </tr>\n",
       "    <tr>\n",
       "      <th>ARLINGTON</th>\n",
       "      <td>313</td>\n",
       "    </tr>\n",
       "    <tr>\n",
       "      <th>MEDFORD</th>\n",
       "      <td>296</td>\n",
       "    </tr>\n",
       "    <tr>\n",
       "      <th>BOSTON</th>\n",
       "      <td>293</td>\n",
       "    </tr>\n",
       "    <tr>\n",
       "      <th>WEYMOUTH</th>\n",
       "      <td>291</td>\n",
       "    </tr>\n",
       "    <tr>\n",
       "      <th>BROOKLINE</th>\n",
       "      <td>275</td>\n",
       "    </tr>\n",
       "    <tr>\n",
       "      <th>WELLESLEY</th>\n",
       "      <td>261</td>\n",
       "    </tr>\n",
       "    <tr>\n",
       "      <th>MILTON</th>\n",
       "      <td>236</td>\n",
       "    </tr>\n",
       "    <tr>\n",
       "      <th>WEST ROXBURY</th>\n",
       "      <td>222</td>\n",
       "    </tr>\n",
       "    <tr>\n",
       "      <th>ACTON</th>\n",
       "      <td>220</td>\n",
       "    </tr>\n",
       "    <tr>\n",
       "      <th>WALTHAM</th>\n",
       "      <td>215</td>\n",
       "    </tr>\n",
       "    <tr>\n",
       "      <th>MALDEN</th>\n",
       "      <td>184</td>\n",
       "    </tr>\n",
       "    <tr>\n",
       "      <th>WESTON</th>\n",
       "      <td>175</td>\n",
       "    </tr>\n",
       "    <tr>\n",
       "      <th>BRAINTREE</th>\n",
       "      <td>164</td>\n",
       "    </tr>\n",
       "    <tr>\n",
       "      <th>LYNN</th>\n",
       "      <td>164</td>\n",
       "    </tr>\n",
       "    <tr>\n",
       "      <th>PEABODY</th>\n",
       "      <td>157</td>\n",
       "    </tr>\n",
       "    <tr>\n",
       "      <th>LEXINGTON</th>\n",
       "      <td>155</td>\n",
       "    </tr>\n",
       "    <tr>\n",
       "      <th>CONCORD</th>\n",
       "      <td>145</td>\n",
       "    </tr>\n",
       "    <tr>\n",
       "      <th>SAUGUS</th>\n",
       "      <td>142</td>\n",
       "    </tr>\n",
       "    <tr>\n",
       "      <th>BRIGHTON</th>\n",
       "      <td>141</td>\n",
       "    </tr>\n",
       "    <tr>\n",
       "      <th>SUDBURY</th>\n",
       "      <td>139</td>\n",
       "    </tr>\n",
       "    <tr>\n",
       "      <th>REVERE</th>\n",
       "      <td>139</td>\n",
       "    </tr>\n",
       "    <tr>\n",
       "      <th>HAVERHILL</th>\n",
       "      <td>136</td>\n",
       "    </tr>\n",
       "    <tr>\n",
       "      <th>HINGHAM</th>\n",
       "      <td>131</td>\n",
       "    </tr>\n",
       "    <tr>\n",
       "      <th>NORWOOD</th>\n",
       "      <td>131</td>\n",
       "    </tr>\n",
       "    <tr>\n",
       "      <th>LYNNFIELD</th>\n",
       "      <td>130</td>\n",
       "    </tr>\n",
       "    <tr>\n",
       "      <th>MARBLEHEAD</th>\n",
       "      <td>128</td>\n",
       "    </tr>\n",
       "    <tr>\n",
       "      <th>ROXBURY</th>\n",
       "      <td>128</td>\n",
       "    </tr>\n",
       "    <tr>\n",
       "      <th>...</th>\n",
       "      <td>...</td>\n",
       "    </tr>\n",
       "    <tr>\n",
       "      <th>AMESBURY</th>\n",
       "      <td>16</td>\n",
       "    </tr>\n",
       "    <tr>\n",
       "      <th>BOXFORD</th>\n",
       "      <td>14</td>\n",
       "    </tr>\n",
       "    <tr>\n",
       "      <th>NORTH BROOKFIELD</th>\n",
       "      <td>14</td>\n",
       "    </tr>\n",
       "    <tr>\n",
       "      <th>EAST BROOKFIELD</th>\n",
       "      <td>14</td>\n",
       "    </tr>\n",
       "    <tr>\n",
       "      <th>SPENCER</th>\n",
       "      <td>12</td>\n",
       "    </tr>\n",
       "    <tr>\n",
       "      <th>HARVARD</th>\n",
       "      <td>12</td>\n",
       "    </tr>\n",
       "    <tr>\n",
       "      <th>MERRIMAC</th>\n",
       "      <td>11</td>\n",
       "    </tr>\n",
       "    <tr>\n",
       "      <th>ROWLEY</th>\n",
       "      <td>11</td>\n",
       "    </tr>\n",
       "    <tr>\n",
       "      <th>GEORGETOWN</th>\n",
       "      <td>11</td>\n",
       "    </tr>\n",
       "    <tr>\n",
       "      <th>IPSWICH</th>\n",
       "      <td>10</td>\n",
       "    </tr>\n",
       "    <tr>\n",
       "      <th>MANCHESTER</th>\n",
       "      <td>8</td>\n",
       "    </tr>\n",
       "    <tr>\n",
       "      <th>LEICESTER</th>\n",
       "      <td>8</td>\n",
       "    </tr>\n",
       "    <tr>\n",
       "      <th>MIDDLETON</th>\n",
       "      <td>8</td>\n",
       "    </tr>\n",
       "    <tr>\n",
       "      <th>SHIRLEY</th>\n",
       "      <td>7</td>\n",
       "    </tr>\n",
       "    <tr>\n",
       "      <th>WAKEFIELD</th>\n",
       "      <td>6</td>\n",
       "    </tr>\n",
       "    <tr>\n",
       "      <th>WENHAM</th>\n",
       "      <td>5</td>\n",
       "    </tr>\n",
       "    <tr>\n",
       "      <th>BOXBOROUGH</th>\n",
       "      <td>5</td>\n",
       "    </tr>\n",
       "    <tr>\n",
       "      <th>HAMILTON</th>\n",
       "      <td>5</td>\n",
       "    </tr>\n",
       "    <tr>\n",
       "      <th>BYFIELD</th>\n",
       "      <td>5</td>\n",
       "    </tr>\n",
       "    <tr>\n",
       "      <th>ESSEX</th>\n",
       "      <td>4</td>\n",
       "    </tr>\n",
       "    <tr>\n",
       "      <th>CAMBRIDGE</th>\n",
       "      <td>2</td>\n",
       "    </tr>\n",
       "    <tr>\n",
       "      <th>LOWELL</th>\n",
       "      <td>2</td>\n",
       "    </tr>\n",
       "    <tr>\n",
       "      <th>ROCKPORT</th>\n",
       "      <td>2</td>\n",
       "    </tr>\n",
       "    <tr>\n",
       "      <th>MARSTONS MILLS</th>\n",
       "      <td>1</td>\n",
       "    </tr>\n",
       "    <tr>\n",
       "      <th>BREWSTER</th>\n",
       "      <td>1</td>\n",
       "    </tr>\n",
       "    <tr>\n",
       "      <th>SWIFTS BEACH</th>\n",
       "      <td>1</td>\n",
       "    </tr>\n",
       "    <tr>\n",
       "      <th>LUNENBURG</th>\n",
       "      <td>1</td>\n",
       "    </tr>\n",
       "    <tr>\n",
       "      <th>WEST NEWBURY</th>\n",
       "      <td>1</td>\n",
       "    </tr>\n",
       "    <tr>\n",
       "      <th>CENTERVILLE</th>\n",
       "      <td>1</td>\n",
       "    </tr>\n",
       "    <tr>\n",
       "      <th>LANCASTER</th>\n",
       "      <td>1</td>\n",
       "    </tr>\n",
       "  </tbody>\n",
       "</table>\n",
       "<p>107 rows × 1 columns</p>\n",
       "</div>"
      ],
      "text/plain": [
       "                    f\n",
       "Town                 \n",
       "NEWTON            690\n",
       "QUINCY            526\n",
       "DORCHESTER        514\n",
       "ARLINGTON         313\n",
       "MEDFORD           296\n",
       "BOSTON            293\n",
       "WEYMOUTH          291\n",
       "BROOKLINE         275\n",
       "WELLESLEY         261\n",
       "MILTON            236\n",
       "WEST ROXBURY      222\n",
       "ACTON             220\n",
       "WALTHAM           215\n",
       "MALDEN            184\n",
       "WESTON            175\n",
       "BRAINTREE         164\n",
       "LYNN              164\n",
       "PEABODY           157\n",
       "LEXINGTON         155\n",
       "CONCORD           145\n",
       "SAUGUS            142\n",
       "BRIGHTON          141\n",
       "SUDBURY           139\n",
       "REVERE            139\n",
       "HAVERHILL         136\n",
       "HINGHAM           131\n",
       "NORWOOD           131\n",
       "LYNNFIELD         130\n",
       "MARBLEHEAD        128\n",
       "ROXBURY           128\n",
       "...               ...\n",
       "AMESBURY           16\n",
       "BOXFORD            14\n",
       "NORTH BROOKFIELD   14\n",
       "EAST BROOKFIELD    14\n",
       "SPENCER            12\n",
       "HARVARD            12\n",
       "MERRIMAC           11\n",
       "ROWLEY             11\n",
       "GEORGETOWN         11\n",
       "IPSWICH            10\n",
       "MANCHESTER          8\n",
       "LEICESTER           8\n",
       "MIDDLETON           8\n",
       "SHIRLEY             7\n",
       "WAKEFIELD           6\n",
       "WENHAM              5\n",
       "BOXBOROUGH          5\n",
       "HAMILTON            5\n",
       "BYFIELD             5\n",
       "ESSEX               4\n",
       "CAMBRIDGE           2\n",
       "LOWELL              2\n",
       "ROCKPORT            2\n",
       "MARSTONS MILLS      1\n",
       "BREWSTER            1\n",
       "SWIFTS BEACH        1\n",
       "LUNENBURG           1\n",
       "WEST NEWBURY        1\n",
       "CENTERVILLE         1\n",
       "LANCASTER           1\n",
       "\n",
       "[107 rows x 1 columns]"
      ]
     },
     "execution_count": 76,
     "metadata": {},
     "output_type": "execute_result"
    }
   ],
   "source": [
    "df3"
   ]
  },
  {
   "cell_type": "markdown",
   "metadata": {},
   "source": [
    "Ultimately we're goint to want to analyze that in terms of population, or some other factor-- perhaps by number of gas lines running through the town--- if we can get that information.  \n",
    "\n",
    "(for consideration--- by centralize-- were lines run through; by median income, race, etc.)  "
   ]
  },
  {
   "cell_type": "markdown",
   "metadata": {},
   "source": [
    "#### Select a Town to investigate"
   ]
  },
  {
   "cell_type": "code",
   "execution_count": 83,
   "metadata": {},
   "outputs": [],
   "source": [
    "Brookline = gasleaks[gasleaks['Town']==\"BROOKLINE\"]"
   ]
  },
  {
   "cell_type": "code",
   "execution_count": 86,
   "metadata": {},
   "outputs": [
    {
     "data": {
      "text/plain": [
       "(275, 8)"
      ]
     },
     "execution_count": 86,
     "metadata": {},
     "output_type": "execute_result"
    }
   ],
   "source": [
    "Brookline.shape"
   ]
  },
  {
   "cell_type": "code",
   "execution_count": 84,
   "metadata": {},
   "outputs": [
    {
     "data": {
      "text/html": [
       "<div>\n",
       "<style scoped>\n",
       "    .dataframe tbody tr th:only-of-type {\n",
       "        vertical-align: middle;\n",
       "    }\n",
       "\n",
       "    .dataframe tbody tr th {\n",
       "        vertical-align: top;\n",
       "    }\n",
       "\n",
       "    .dataframe thead th {\n",
       "        text-align: right;\n",
       "    }\n",
       "</style>\n",
       "<table border=\"1\" class=\"dataframe\">\n",
       "  <thead>\n",
       "    <tr style=\"text-align: right;\">\n",
       "      <th></th>\n",
       "      <th>f</th>\n",
       "      <th>ReportedAddress</th>\n",
       "      <th>CrossStreet</th>\n",
       "      <th>Town</th>\n",
       "      <th>State</th>\n",
       "      <th>concate</th>\n",
       "      <th>ReportedDate</th>\n",
       "      <th>Endingleakgrade</th>\n",
       "    </tr>\n",
       "  </thead>\n",
       "  <tbody>\n",
       "    <tr>\n",
       "      <th>1585</th>\n",
       "      <td>306017</td>\n",
       "      <td>ALLANDALE RD</td>\n",
       "      <td>RISLEY RD</td>\n",
       "      <td>BROOKLINE</td>\n",
       "      <td>MA</td>\n",
       "      <td>ALLANDALE RD BROOKLINE, MA</td>\n",
       "      <td>11/8/2007</td>\n",
       "      <td>3</td>\n",
       "    </tr>\n",
       "    <tr>\n",
       "      <th>1586</th>\n",
       "      <td>305331</td>\n",
       "      <td>AMORY ST</td>\n",
       "      <td>THATCHER ST</td>\n",
       "      <td>BROOKLINE</td>\n",
       "      <td>MA</td>\n",
       "      <td>AMORY ST BROOKLINE, MA</td>\n",
       "      <td>10/12/2007</td>\n",
       "      <td>3</td>\n",
       "    </tr>\n",
       "    <tr>\n",
       "      <th>1587</th>\n",
       "      <td>124015</td>\n",
       "      <td>BARTLETT ST</td>\n",
       "      <td>WASHINGTON ST</td>\n",
       "      <td>BROOKLINE</td>\n",
       "      <td>MA</td>\n",
       "      <td>BARTLETT ST BROOKLINE, MA</td>\n",
       "      <td>5/18/1998</td>\n",
       "      <td>3</td>\n",
       "    </tr>\n",
       "    <tr>\n",
       "      <th>1588</th>\n",
       "      <td>250759</td>\n",
       "      <td>BEACON ST</td>\n",
       "      <td>CHESTNUT HILL AV</td>\n",
       "      <td>BROOKLINE</td>\n",
       "      <td>MA</td>\n",
       "      <td>BEACON ST BROOKLINE, MA</td>\n",
       "      <td>9/2/2003</td>\n",
       "      <td>3</td>\n",
       "    </tr>\n",
       "    <tr>\n",
       "      <th>1589</th>\n",
       "      <td>1050532</td>\n",
       "      <td>BEACON ST</td>\n",
       "      <td>WASHINGTON ST</td>\n",
       "      <td>BROOKLINE</td>\n",
       "      <td>MA</td>\n",
       "      <td>BEACON ST BROOKLINE, MA</td>\n",
       "      <td>9/27/2012</td>\n",
       "      <td>3</td>\n",
       "    </tr>\n",
       "  </tbody>\n",
       "</table>\n",
       "</div>"
      ],
      "text/plain": [
       "            f ReportedAddress        CrossStreet       Town State  \\\n",
       "1585   306017    ALLANDALE RD          RISLEY RD  BROOKLINE    MA   \n",
       "1586   305331        AMORY ST        THATCHER ST  BROOKLINE    MA   \n",
       "1587   124015     BARTLETT ST      WASHINGTON ST  BROOKLINE    MA   \n",
       "1588   250759       BEACON ST   CHESTNUT HILL AV  BROOKLINE    MA   \n",
       "1589  1050532       BEACON ST      WASHINGTON ST  BROOKLINE    MA   \n",
       "\n",
       "                          concate ReportedDate Endingleakgrade  \n",
       "1585   ALLANDALE RD BROOKLINE, MA    11/8/2007               3  \n",
       "1586       AMORY ST BROOKLINE, MA   10/12/2007               3  \n",
       "1587    BARTLETT ST BROOKLINE, MA    5/18/1998               3  \n",
       "1588      BEACON ST BROOKLINE, MA     9/2/2003               3  \n",
       "1589      BEACON ST BROOKLINE, MA    9/27/2012               3  "
      ]
     },
     "execution_count": 84,
     "metadata": {},
     "output_type": "execute_result"
    }
   ],
   "source": [
    "Brookline.head()"
   ]
  },
  {
   "cell_type": "code",
   "execution_count": 88,
   "metadata": {},
   "outputs": [
    {
     "data": {
      "text/html": [
       "<div>\n",
       "<style scoped>\n",
       "    .dataframe tbody tr th:only-of-type {\n",
       "        vertical-align: middle;\n",
       "    }\n",
       "\n",
       "    .dataframe tbody tr th {\n",
       "        vertical-align: top;\n",
       "    }\n",
       "\n",
       "    .dataframe thead th {\n",
       "        text-align: right;\n",
       "    }\n",
       "</style>\n",
       "<table border=\"1\" class=\"dataframe\">\n",
       "  <thead>\n",
       "    <tr style=\"text-align: right;\">\n",
       "      <th>ReportedDate</th>\n",
       "      <th>1/1/2018</th>\n",
       "      <th>1/10/2018</th>\n",
       "      <th>1/16/2002</th>\n",
       "      <th>1/17/2018</th>\n",
       "      <th>1/21/2002</th>\n",
       "      <th>10/11/2010</th>\n",
       "      <th>10/11/2018</th>\n",
       "      <th>10/12/2007</th>\n",
       "      <th>10/12/2010</th>\n",
       "      <th>10/12/2017</th>\n",
       "      <th>...</th>\n",
       "      <th>9/27/2004</th>\n",
       "      <th>9/27/2012</th>\n",
       "      <th>9/27/2018</th>\n",
       "      <th>9/3/2013</th>\n",
       "      <th>9/30/2016</th>\n",
       "      <th>9/4/2013</th>\n",
       "      <th>9/6/2013</th>\n",
       "      <th>9/6/2018</th>\n",
       "      <th>9/8/2018</th>\n",
       "      <th>All</th>\n",
       "    </tr>\n",
       "    <tr>\n",
       "      <th>Town</th>\n",
       "      <th></th>\n",
       "      <th></th>\n",
       "      <th></th>\n",
       "      <th></th>\n",
       "      <th></th>\n",
       "      <th></th>\n",
       "      <th></th>\n",
       "      <th></th>\n",
       "      <th></th>\n",
       "      <th></th>\n",
       "      <th></th>\n",
       "      <th></th>\n",
       "      <th></th>\n",
       "      <th></th>\n",
       "      <th></th>\n",
       "      <th></th>\n",
       "      <th></th>\n",
       "      <th></th>\n",
       "      <th></th>\n",
       "      <th></th>\n",
       "      <th></th>\n",
       "    </tr>\n",
       "  </thead>\n",
       "  <tbody>\n",
       "    <tr>\n",
       "      <th>BROOKLINE</th>\n",
       "      <td>1</td>\n",
       "      <td>1</td>\n",
       "      <td>1</td>\n",
       "      <td>1</td>\n",
       "      <td>1</td>\n",
       "      <td>1</td>\n",
       "      <td>1</td>\n",
       "      <td>1</td>\n",
       "      <td>2</td>\n",
       "      <td>1</td>\n",
       "      <td>...</td>\n",
       "      <td>1</td>\n",
       "      <td>1</td>\n",
       "      <td>1</td>\n",
       "      <td>2</td>\n",
       "      <td>1</td>\n",
       "      <td>2</td>\n",
       "      <td>1</td>\n",
       "      <td>1</td>\n",
       "      <td>1</td>\n",
       "      <td>275</td>\n",
       "    </tr>\n",
       "    <tr>\n",
       "      <th>All</th>\n",
       "      <td>1</td>\n",
       "      <td>1</td>\n",
       "      <td>1</td>\n",
       "      <td>1</td>\n",
       "      <td>1</td>\n",
       "      <td>1</td>\n",
       "      <td>1</td>\n",
       "      <td>1</td>\n",
       "      <td>2</td>\n",
       "      <td>1</td>\n",
       "      <td>...</td>\n",
       "      <td>1</td>\n",
       "      <td>1</td>\n",
       "      <td>1</td>\n",
       "      <td>2</td>\n",
       "      <td>1</td>\n",
       "      <td>2</td>\n",
       "      <td>1</td>\n",
       "      <td>1</td>\n",
       "      <td>1</td>\n",
       "      <td>275</td>\n",
       "    </tr>\n",
       "  </tbody>\n",
       "</table>\n",
       "<p>2 rows × 228 columns</p>\n",
       "</div>"
      ],
      "text/plain": [
       "ReportedDate  1/1/2018  1/10/2018  1/16/2002  1/17/2018  1/21/2002  \\\n",
       "Town                                                                 \n",
       "BROOKLINE            1          1          1          1          1   \n",
       "All                  1          1          1          1          1   \n",
       "\n",
       "ReportedDate  10/11/2010  10/11/2018  10/12/2007  10/12/2010  10/12/2017 ...   \\\n",
       "Town                                                                     ...    \n",
       "BROOKLINE              1           1           1           2           1 ...    \n",
       "All                    1           1           1           2           1 ...    \n",
       "\n",
       "ReportedDate  9/27/2004  9/27/2012  9/27/2018  9/3/2013  9/30/2016  9/4/2013  \\\n",
       "Town                                                                           \n",
       "BROOKLINE             1          1          1         2          1         2   \n",
       "All                   1          1          1         2          1         2   \n",
       "\n",
       "ReportedDate  9/6/2013  9/6/2018  9/8/2018  All  \n",
       "Town                                             \n",
       "BROOKLINE            1         1         1  275  \n",
       "All                  1         1         1  275  \n",
       "\n",
       "[2 rows x 228 columns]"
      ]
     },
     "execution_count": 88,
     "metadata": {},
     "output_type": "execute_result"
    }
   ],
   "source": [
    "pd.crosstab(Brookline.Town, Brookline.ReportedDate, margins=True)"
   ]
  },
  {
   "cell_type": "code",
   "execution_count": 91,
   "metadata": {},
   "outputs": [],
   "source": [
    "# chart this when I have time"
   ]
  },
  {
   "cell_type": "markdown",
   "metadata": {},
   "source": [
    "https://chrisalbon.com/python/data_wrangling/pandas_crosstabs/"
   ]
  },
  {
   "cell_type": "code",
   "execution_count": 90,
   "metadata": {},
   "outputs": [
    {
     "data": {
      "text/html": [
       "<div>\n",
       "<style scoped>\n",
       "    .dataframe tbody tr th:only-of-type {\n",
       "        vertical-align: middle;\n",
       "    }\n",
       "\n",
       "    .dataframe tbody tr th {\n",
       "        vertical-align: top;\n",
       "    }\n",
       "\n",
       "    .dataframe thead th {\n",
       "        text-align: right;\n",
       "    }\n",
       "</style>\n",
       "<table border=\"1\" class=\"dataframe\">\n",
       "  <thead>\n",
       "    <tr style=\"text-align: right;\">\n",
       "      <th>ReportedDate</th>\n",
       "      <th>1/1/2012</th>\n",
       "      <th>1/1/2016</th>\n",
       "      <th>1/1/2017</th>\n",
       "      <th>1/1/2018</th>\n",
       "      <th>1/10/2009</th>\n",
       "      <th>1/10/2012</th>\n",
       "      <th>1/10/2014</th>\n",
       "      <th>1/10/2016</th>\n",
       "      <th>1/10/2017</th>\n",
       "      <th>1/10/2018</th>\n",
       "      <th>...</th>\n",
       "      <th>9/9/2009</th>\n",
       "      <th>9/9/2010</th>\n",
       "      <th>9/9/2011</th>\n",
       "      <th>9/9/2013</th>\n",
       "      <th>9/9/2014</th>\n",
       "      <th>9/9/2015</th>\n",
       "      <th>9/9/2016</th>\n",
       "      <th>9/9/2017</th>\n",
       "      <th>9/9/2018</th>\n",
       "      <th>All</th>\n",
       "    </tr>\n",
       "    <tr>\n",
       "      <th>Town</th>\n",
       "      <th></th>\n",
       "      <th></th>\n",
       "      <th></th>\n",
       "      <th></th>\n",
       "      <th></th>\n",
       "      <th></th>\n",
       "      <th></th>\n",
       "      <th></th>\n",
       "      <th></th>\n",
       "      <th></th>\n",
       "      <th></th>\n",
       "      <th></th>\n",
       "      <th></th>\n",
       "      <th></th>\n",
       "      <th></th>\n",
       "      <th></th>\n",
       "      <th></th>\n",
       "      <th></th>\n",
       "      <th></th>\n",
       "      <th></th>\n",
       "      <th></th>\n",
       "    </tr>\n",
       "  </thead>\n",
       "  <tbody>\n",
       "    <tr>\n",
       "      <th>ABINGTON</th>\n",
       "      <td>0</td>\n",
       "      <td>0</td>\n",
       "      <td>0</td>\n",
       "      <td>0</td>\n",
       "      <td>0</td>\n",
       "      <td>0</td>\n",
       "      <td>0</td>\n",
       "      <td>0</td>\n",
       "      <td>0</td>\n",
       "      <td>0</td>\n",
       "      <td>...</td>\n",
       "      <td>0</td>\n",
       "      <td>0</td>\n",
       "      <td>0</td>\n",
       "      <td>0</td>\n",
       "      <td>0</td>\n",
       "      <td>1</td>\n",
       "      <td>0</td>\n",
       "      <td>0</td>\n",
       "      <td>0</td>\n",
       "      <td>44</td>\n",
       "    </tr>\n",
       "    <tr>\n",
       "      <th>ACTON</th>\n",
       "      <td>0</td>\n",
       "      <td>0</td>\n",
       "      <td>0</td>\n",
       "      <td>0</td>\n",
       "      <td>0</td>\n",
       "      <td>0</td>\n",
       "      <td>0</td>\n",
       "      <td>0</td>\n",
       "      <td>0</td>\n",
       "      <td>0</td>\n",
       "      <td>...</td>\n",
       "      <td>0</td>\n",
       "      <td>0</td>\n",
       "      <td>0</td>\n",
       "      <td>0</td>\n",
       "      <td>0</td>\n",
       "      <td>0</td>\n",
       "      <td>0</td>\n",
       "      <td>0</td>\n",
       "      <td>1</td>\n",
       "      <td>220</td>\n",
       "    </tr>\n",
       "    <tr>\n",
       "      <th>AMESBURY</th>\n",
       "      <td>0</td>\n",
       "      <td>0</td>\n",
       "      <td>0</td>\n",
       "      <td>0</td>\n",
       "      <td>0</td>\n",
       "      <td>0</td>\n",
       "      <td>0</td>\n",
       "      <td>0</td>\n",
       "      <td>0</td>\n",
       "      <td>0</td>\n",
       "      <td>...</td>\n",
       "      <td>0</td>\n",
       "      <td>0</td>\n",
       "      <td>0</td>\n",
       "      <td>0</td>\n",
       "      <td>1</td>\n",
       "      <td>0</td>\n",
       "      <td>0</td>\n",
       "      <td>0</td>\n",
       "      <td>0</td>\n",
       "      <td>16</td>\n",
       "    </tr>\n",
       "    <tr>\n",
       "      <th>ARLINGTON</th>\n",
       "      <td>0</td>\n",
       "      <td>0</td>\n",
       "      <td>0</td>\n",
       "      <td>0</td>\n",
       "      <td>0</td>\n",
       "      <td>0</td>\n",
       "      <td>1</td>\n",
       "      <td>0</td>\n",
       "      <td>0</td>\n",
       "      <td>0</td>\n",
       "      <td>...</td>\n",
       "      <td>0</td>\n",
       "      <td>0</td>\n",
       "      <td>1</td>\n",
       "      <td>0</td>\n",
       "      <td>0</td>\n",
       "      <td>0</td>\n",
       "      <td>0</td>\n",
       "      <td>1</td>\n",
       "      <td>0</td>\n",
       "      <td>313</td>\n",
       "    </tr>\n",
       "    <tr>\n",
       "      <th>AYER</th>\n",
       "      <td>0</td>\n",
       "      <td>0</td>\n",
       "      <td>0</td>\n",
       "      <td>0</td>\n",
       "      <td>0</td>\n",
       "      <td>0</td>\n",
       "      <td>0</td>\n",
       "      <td>0</td>\n",
       "      <td>0</td>\n",
       "      <td>0</td>\n",
       "      <td>...</td>\n",
       "      <td>0</td>\n",
       "      <td>0</td>\n",
       "      <td>0</td>\n",
       "      <td>0</td>\n",
       "      <td>0</td>\n",
       "      <td>0</td>\n",
       "      <td>0</td>\n",
       "      <td>0</td>\n",
       "      <td>0</td>\n",
       "      <td>32</td>\n",
       "    </tr>\n",
       "  </tbody>\n",
       "</table>\n",
       "<p>5 rows × 3537 columns</p>\n",
       "</div>"
      ],
      "text/plain": [
       "ReportedDate  1/1/2012  1/1/2016  1/1/2017  1/1/2018  1/10/2009  1/10/2012  \\\n",
       "Town                                                                         \n",
       "ABINGTON             0         0         0         0          0          0   \n",
       "ACTON                0         0         0         0          0          0   \n",
       "AMESBURY             0         0         0         0          0          0   \n",
       "ARLINGTON            0         0         0         0          0          0   \n",
       "AYER                 0         0         0         0          0          0   \n",
       "\n",
       "ReportedDate  1/10/2014  1/10/2016  1/10/2017  1/10/2018 ...   9/9/2009  \\\n",
       "Town                                                     ...              \n",
       "ABINGTON              0          0          0          0 ...          0   \n",
       "ACTON                 0          0          0          0 ...          0   \n",
       "AMESBURY              0          0          0          0 ...          0   \n",
       "ARLINGTON             1          0          0          0 ...          0   \n",
       "AYER                  0          0          0          0 ...          0   \n",
       "\n",
       "ReportedDate  9/9/2010  9/9/2011  9/9/2013  9/9/2014  9/9/2015  9/9/2016  \\\n",
       "Town                                                                       \n",
       "ABINGTON             0         0         0         0         1         0   \n",
       "ACTON                0         0         0         0         0         0   \n",
       "AMESBURY             0         0         0         1         0         0   \n",
       "ARLINGTON            0         1         0         0         0         0   \n",
       "AYER                 0         0         0         0         0         0   \n",
       "\n",
       "ReportedDate  9/9/2017  9/9/2018  All  \n",
       "Town                                   \n",
       "ABINGTON             0         0   44  \n",
       "ACTON                0         1  220  \n",
       "AMESBURY             0         0   16  \n",
       "ARLINGTON            1         0  313  \n",
       "AYER                 0         0   32  \n",
       "\n",
       "[5 rows x 3537 columns]"
      ]
     },
     "execution_count": 90,
     "metadata": {},
     "output_type": "execute_result"
    }
   ],
   "source": [
    "#pd.crosstab(gasleaks.Town, gasleaks.ReportedDate, margins=True)\n",
    "\n",
    "pd.crosstab(gasleaks.Town, gasleaks.ReportedDate, margins=True).head()"
   ]
  },
  {
   "cell_type": "markdown",
   "metadata": {},
   "source": [
    "https://pandas.pydata.org/pandas-docs/version/0.22/generated/pandas.crosstab.html"
   ]
  },
  {
   "cell_type": "raw",
   "metadata": {},
   "source": [
    "# Plot the responses for different events and regions\n",
    "sns.lineplot(x=\"ReportedDate\", y=\"Town\",\n",
    "             hue=\"region\", style=\"event\",\n",
    "             data=gasleaks)\n",
    "\n",
    "#https://stackoverflow.com/questions/51846948/seaborn-lineplot-module-object-has-no-attribute-lineplot?rq=1\n",
    "\n",
    "# fix this later"
   ]
  },
  {
   "cell_type": "code",
   "execution_count": null,
   "metadata": {},
   "outputs": [],
   "source": []
  },
  {
   "cell_type": "code",
   "execution_count": null,
   "metadata": {},
   "outputs": [],
   "source": []
  },
  {
   "cell_type": "code",
   "execution_count": 46,
   "metadata": {},
   "outputs": [],
   "source": [
    "#sns.lmplot('ReportedDate', 'Town', data=gasleaks, fit_reg=False)"
   ]
  },
  {
   "cell_type": "code",
   "execution_count": 92,
   "metadata": {},
   "outputs": [
    {
     "data": {
      "text/plain": [
       "(10027, 8)"
      ]
     },
     "execution_count": 92,
     "metadata": {},
     "output_type": "execute_result"
    }
   ],
   "source": [
    "gasleaks.shape"
   ]
  },
  {
   "cell_type": "markdown",
   "metadata": {},
   "source": [
    "https://chrisalbon.com/machine_learning/preprocessing_structured_data/deleting_missing_values/"
   ]
  },
  {
   "cell_type": "raw",
   "metadata": {},
   "source": [
    "# Load data as a data frame\n",
    "gasleaks_clean = pd.DataFrame(gasleaks, columns=['Town', 'Endingleakgrade'])\n",
    "\n",
    "# Remove observations with missing values\n",
    "gasleaks_clean.dropna()"
   ]
  },
  {
   "cell_type": "code",
   "execution_count": null,
   "metadata": {},
   "outputs": [],
   "source": []
  },
  {
   "cell_type": "code",
   "execution_count": 54,
   "metadata": {},
   "outputs": [
    {
     "ename": "TypeError",
     "evalue": "ufunc 'isnan' not supported for the input types, and the inputs could not be safely coerced to any supported types according to the casting rule ''safe''",
     "output_type": "error",
     "traceback": [
      "\u001b[0;31m---------------------------------------------------------------------------\u001b[0m",
      "\u001b[0;31mTypeError\u001b[0m                                 Traceback (most recent call last)",
      "\u001b[0;32m<ipython-input-54-685f80706840>\u001b[0m in \u001b[0;36m<module>\u001b[0;34m\u001b[0m\n\u001b[0;32m----> 1\u001b[0;31m \u001b[0msns\u001b[0m\u001b[0;34m.\u001b[0m\u001b[0mheatmap\u001b[0m\u001b[0;34m(\u001b[0m\u001b[0;34m[\u001b[0m\u001b[0mgasleaks_clean\u001b[0m\u001b[0;34m.\u001b[0m\u001b[0mTown\u001b[0m\u001b[0;34m,\u001b[0m \u001b[0mgasleaks\u001b[0m\u001b[0;34m.\u001b[0m\u001b[0mEndingleakgrade\u001b[0m\u001b[0;34m]\u001b[0m\u001b[0;34m,\u001b[0m \u001b[0mannot\u001b[0m\u001b[0;34m=\u001b[0m\u001b[0;32mTrue\u001b[0m\u001b[0;34m,\u001b[0m \u001b[0mfmt\u001b[0m\u001b[0;34m=\u001b[0m\u001b[0;34m\"d\"\u001b[0m\u001b[0;34m)\u001b[0m\u001b[0;34m\u001b[0m\u001b[0m\n\u001b[0m",
      "\u001b[0;32m~/anaconda3/lib/python3.5/site-packages/seaborn/matrix.py\u001b[0m in \u001b[0;36mheatmap\u001b[0;34m(data, vmin, vmax, cmap, center, robust, annot, fmt, annot_kws, linewidths, linecolor, cbar, cbar_kws, cbar_ax, square, ax, xticklabels, yticklabels, mask, **kwargs)\u001b[0m\n\u001b[1;32m    450\u001b[0m     plotter = _HeatMapper(data, vmin, vmax, cmap, center, robust, annot, fmt,\n\u001b[1;32m    451\u001b[0m                           \u001b[0mannot_kws\u001b[0m\u001b[0;34m,\u001b[0m \u001b[0mcbar\u001b[0m\u001b[0;34m,\u001b[0m \u001b[0mcbar_kws\u001b[0m\u001b[0;34m,\u001b[0m \u001b[0mxticklabels\u001b[0m\u001b[0;34m,\u001b[0m \u001b[0myticklabels\u001b[0m\u001b[0;34m,\u001b[0m\u001b[0;34m\u001b[0m\u001b[0m\n\u001b[0;32m--> 452\u001b[0;31m                           mask)\n\u001b[0m\u001b[1;32m    453\u001b[0m \u001b[0;34m\u001b[0m\u001b[0m\n\u001b[1;32m    454\u001b[0m     \u001b[0;31m# Add the pcolormesh kwargs here\u001b[0m\u001b[0;34m\u001b[0m\u001b[0;34m\u001b[0m\u001b[0m\n",
      "\u001b[0;32m~/anaconda3/lib/python3.5/site-packages/seaborn/matrix.py\u001b[0m in \u001b[0;36m__init__\u001b[0;34m(self, data, vmin, vmax, cmap, center, robust, annot, fmt, annot_kws, cbar, cbar_kws, xticklabels, yticklabels, mask)\u001b[0m\n\u001b[1;32m    156\u001b[0m         \u001b[0;31m# Determine good default values for the colormapping\u001b[0m\u001b[0;34m\u001b[0m\u001b[0;34m\u001b[0m\u001b[0m\n\u001b[1;32m    157\u001b[0m         self._determine_cmap_params(plot_data, vmin, vmax,\n\u001b[0;32m--> 158\u001b[0;31m                                     cmap, center, robust)\n\u001b[0m\u001b[1;32m    159\u001b[0m \u001b[0;34m\u001b[0m\u001b[0m\n\u001b[1;32m    160\u001b[0m         \u001b[0;31m# Save other attributes to the object\u001b[0m\u001b[0;34m\u001b[0m\u001b[0;34m\u001b[0m\u001b[0m\n",
      "\u001b[0;32m~/anaconda3/lib/python3.5/site-packages/seaborn/matrix.py\u001b[0m in \u001b[0;36m_determine_cmap_params\u001b[0;34m(self, plot_data, vmin, vmax, cmap, center, robust)\u001b[0m\n\u001b[1;32m    170\u001b[0m                                cmap, center, robust):\n\u001b[1;32m    171\u001b[0m         \u001b[0;34m\"\"\"Use some heuristics to set good defaults for colorbar and range.\"\"\"\u001b[0m\u001b[0;34m\u001b[0m\u001b[0m\n\u001b[0;32m--> 172\u001b[0;31m         \u001b[0mcalc_data\u001b[0m \u001b[0;34m=\u001b[0m \u001b[0mplot_data\u001b[0m\u001b[0;34m.\u001b[0m\u001b[0mdata\u001b[0m\u001b[0;34m[\u001b[0m\u001b[0;34m~\u001b[0m\u001b[0mnp\u001b[0m\u001b[0;34m.\u001b[0m\u001b[0misnan\u001b[0m\u001b[0;34m(\u001b[0m\u001b[0mplot_data\u001b[0m\u001b[0;34m.\u001b[0m\u001b[0mdata\u001b[0m\u001b[0;34m)\u001b[0m\u001b[0;34m]\u001b[0m\u001b[0;34m\u001b[0m\u001b[0m\n\u001b[0m\u001b[1;32m    173\u001b[0m         \u001b[0;32mif\u001b[0m \u001b[0mvmin\u001b[0m \u001b[0;32mis\u001b[0m \u001b[0;32mNone\u001b[0m\u001b[0;34m:\u001b[0m\u001b[0;34m\u001b[0m\u001b[0m\n\u001b[1;32m    174\u001b[0m             \u001b[0mvmin\u001b[0m \u001b[0;34m=\u001b[0m \u001b[0mnp\u001b[0m\u001b[0;34m.\u001b[0m\u001b[0mpercentile\u001b[0m\u001b[0;34m(\u001b[0m\u001b[0mcalc_data\u001b[0m\u001b[0;34m,\u001b[0m \u001b[0;36m2\u001b[0m\u001b[0;34m)\u001b[0m \u001b[0;32mif\u001b[0m \u001b[0mrobust\u001b[0m \u001b[0;32melse\u001b[0m \u001b[0mcalc_data\u001b[0m\u001b[0;34m.\u001b[0m\u001b[0mmin\u001b[0m\u001b[0;34m(\u001b[0m\u001b[0;34m)\u001b[0m\u001b[0;34m\u001b[0m\u001b[0m\n",
      "\u001b[0;31mTypeError\u001b[0m: ufunc 'isnan' not supported for the input types, and the inputs could not be safely coerced to any supported types according to the casting rule ''safe''"
     ]
    }
   ],
   "source": [
    "sns.heatmap([gasleaks_clean.Town, gasleaks.Endingleakgrade], annot=True, fmt=\"d\")"
   ]
  },
  {
   "cell_type": "markdown",
   "metadata": {},
   "source": [
    "Deal with this issue;\n",
    "\n",
    "TypeError: ufunc 'isnan' not supported for the input types, and the inputs could not be safely coerced to any supported types according to the casting rule ''safe''"
   ]
  },
  {
   "cell_type": "markdown",
   "metadata": {},
   "source": [
    "#pd.to_numeric(df['gasleaks_clean'], errors='coerce')\n",
    "\n",
    "but it is not fully numeric-- 2A, etc."
   ]
  },
  {
   "cell_type": "code",
   "execution_count": null,
   "metadata": {},
   "outputs": [],
   "source": []
  },
  {
   "cell_type": "code",
   "execution_count": null,
   "metadata": {},
   "outputs": [],
   "source": []
  },
  {
   "cell_type": "code",
   "execution_count": null,
   "metadata": {},
   "outputs": [],
   "source": []
  },
  {
   "cell_type": "code",
   "execution_count": null,
   "metadata": {},
   "outputs": [],
   "source": []
  },
  {
   "cell_type": "markdown",
   "metadata": {},
   "source": [
    "## REFERENCES"
   ]
  },
  {
   "cell_type": "code",
   "execution_count": null,
   "metadata": {},
   "outputs": [],
   "source": []
  },
  {
   "cell_type": "code",
   "execution_count": null,
   "metadata": {},
   "outputs": [],
   "source": []
  },
  {
   "cell_type": "markdown",
   "metadata": {},
   "source": [
    "https://uszipcode.readthedocs.io/01-Tutorial/index.html#search-by-city-and-state"
   ]
  },
  {
   "cell_type": "markdown",
   "metadata": {},
   "source": [
    "https://pypi.org/project/uszipcode/"
   ]
  },
  {
   "cell_type": "code",
   "execution_count": null,
   "metadata": {},
   "outputs": [],
   "source": []
  },
  {
   "cell_type": "markdown",
   "metadata": {},
   "source": [
    "Import the data:"
   ]
  },
  {
   "cell_type": "markdown",
   "metadata": {},
   "source": [
    "https://chrisalbon.com/python/data_wrangling/load_excel_file_into_pandas/"
   ]
  },
  {
   "cell_type": "code",
   "execution_count": null,
   "metadata": {},
   "outputs": [],
   "source": []
  },
  {
   "cell_type": "code",
   "execution_count": null,
   "metadata": {},
   "outputs": [],
   "source": []
  },
  {
   "cell_type": "code",
   "execution_count": null,
   "metadata": {},
   "outputs": [],
   "source": []
  },
  {
   "cell_type": "markdown",
   "metadata": {},
   "source": [
    "Use this (or deduplicate in Excel) to get the unique town names.  \n",
    "(if we are going to get zip codes, just by town; not by street address as well):"
   ]
  },
  {
   "cell_type": "markdown",
   "metadata": {},
   "source": [
    "https://chrisalbon.com/python/data_wrangling/pandas_list_unique_values_in_column/"
   ]
  },
  {
   "cell_type": "code",
   "execution_count": null,
   "metadata": {},
   "outputs": [],
   "source": []
  },
  {
   "cell_type": "code",
   "execution_count": null,
   "metadata": {},
   "outputs": [],
   "source": []
  },
  {
   "cell_type": "markdown",
   "metadata": {},
   "source": [
    "Converting a physical address or location into latitude/longitude:\n",
    "\n",
    "Need to add the zipcodes to do this"
   ]
  },
  {
   "cell_type": "markdown",
   "metadata": {},
   "source": [
    "https://chrisalbon.com/python/data_wrangling/geocoding_and_reverse_geocoding/"
   ]
  },
  {
   "cell_type": "markdown",
   "metadata": {},
   "source": [
    "Address the geo-coding issue:  \n",
    "https://stackoverflow.com/questions/3212550/google-geocoding-api-request-denied"
   ]
  },
  {
   "cell_type": "markdown",
   "metadata": {},
   "source": [
    "Use this to match the Zipcode info with the NGrid data?:"
   ]
  },
  {
   "cell_type": "markdown",
   "metadata": {},
   "source": [
    "https://chrisalbon.com/python/data_wrangling/pandas_join_merge_dataframe/"
   ]
  },
  {
   "cell_type": "code",
   "execution_count": null,
   "metadata": {},
   "outputs": [],
   "source": []
  },
  {
   "cell_type": "markdown",
   "metadata": {},
   "source": [
    "Just use city?  mm\n",
    "\n",
    "not address?   \n",
    "\n",
    "https://chrisalbon.com/python/data_wrangling/geolocate_a_city_and_country/"
   ]
  },
  {
   "cell_type": "code",
   "execution_count": null,
   "metadata": {},
   "outputs": [],
   "source": []
  },
  {
   "cell_type": "code",
   "execution_count": null,
   "metadata": {},
   "outputs": [],
   "source": []
  },
  {
   "cell_type": "code",
   "execution_count": null,
   "metadata": {},
   "outputs": [],
   "source": []
  },
  {
   "cell_type": "markdown",
   "metadata": {},
   "source": [
    "Group a time period?"
   ]
  },
  {
   "cell_type": "markdown",
   "metadata": {},
   "source": [
    "https://chrisalbon.com/python/data_wrangling/pandas_group_by_time/"
   ]
  },
  {
   "cell_type": "code",
   "execution_count": null,
   "metadata": {},
   "outputs": [],
   "source": [
    "#df.truncate(before='1/2/2014', after='1/3/2014')"
   ]
  },
  {
   "cell_type": "code",
   "execution_count": null,
   "metadata": {},
   "outputs": [],
   "source": []
  },
  {
   "cell_type": "markdown",
   "metadata": {},
   "source": [
    "Use this to get the zipcode output (a list) into a pandas dataframe:  \n",
    "https://www.geeksforgeeks.org/create-a-pandas-dataframe-from-lists/"
   ]
  },
  {
   "cell_type": "markdown",
   "metadata": {},
   "source": [
    "This might be useful:  \n",
    "    https://chrisalbon.com/python/data_wrangling/pandas_create_column_with_loop"
   ]
  },
  {
   "cell_type": "markdown",
   "metadata": {},
   "source": [
    "https://chrisalbon.com/python/data_wrangling/pandas_crosstabs/"
   ]
  },
  {
   "cell_type": "markdown",
   "metadata": {},
   "source": [
    "If we just work with Towns, not addresses, we might want remove duplicate info:   \n",
    "    https://chrisalbon.com/python/data_wrangling/pandas_delete_duplicates/   \n",
    "        \n",
    "        But then we loose information about the leaks   "
   ]
  },
  {
   "cell_type": "markdown",
   "metadata": {},
   "source": [
    "or us this:   \n",
    "    \n",
    "\n",
    "https://chrisalbon.com/python/data_wrangling/pandas_find_unique_values/"
   ]
  },
  {
   "cell_type": "markdown",
   "metadata": {},
   "source": [
    "Map values in a DF:\n",
    "    \n",
    "https://chrisalbon.com/python/data_wrangling/pandas_map_values_to_values/"
   ]
  },
  {
   "cell_type": "raw",
   "metadata": {},
   "source": [
    "city_to_state = { 'San Francisco' : 'California', \n",
    "                  'Baltimore' : 'Maryland', \n",
    "                  'Miami' : 'Florida', \n",
    "                  'Douglas' : 'Arizona', \n",
    "                  'Boston' : 'Massachusetts'}"
   ]
  },
  {
   "cell_type": "raw",
   "metadata": {},
   "source": [
    "df['state'] = df['city'].map(city_to_state)\n",
    "df"
   ]
  },
  {
   "cell_type": "markdown",
   "metadata": {},
   "source": [
    "https://chrisalbon.com/python/data_wrangling/pandas_rename_multiple_columns/"
   ]
  },
  {
   "cell_type": "code",
   "execution_count": null,
   "metadata": {},
   "outputs": [],
   "source": []
  },
  {
   "cell_type": "code",
   "execution_count": null,
   "metadata": {},
   "outputs": [],
   "source": []
  },
  {
   "cell_type": "code",
   "execution_count": null,
   "metadata": {},
   "outputs": [],
   "source": []
  },
  {
   "cell_type": "code",
   "execution_count": null,
   "metadata": {},
   "outputs": [],
   "source": [
    "Grab rows based on column values\n",
    "value_list = ['Tina', 'Molly', 'Jason']\n",
    "#Grab DataFrame rows where column has certain values\n",
    "df[df.name.isin(value_list)]"
   ]
  },
  {
   "cell_type": "markdown",
   "metadata": {},
   "source": [
    "https://chrisalbon.com/python/data_wrangling/pandas_select_rows_when_column_has_certain_values/"
   ]
  },
  {
   "cell_type": "markdown",
   "metadata": {},
   "source": [
    "https://chrisalbon.com/python/data_wrangling/pandas_time_series_basics/"
   ]
  },
  {
   "cell_type": "code",
   "execution_count": null,
   "metadata": {},
   "outputs": [],
   "source": []
  },
  {
   "cell_type": "code",
   "execution_count": null,
   "metadata": {},
   "outputs": [],
   "source": []
  },
  {
   "cell_type": "markdown",
   "metadata": {},
   "source": [
    "Charting"
   ]
  },
  {
   "cell_type": "markdown",
   "metadata": {},
   "source": [
    "https://seaborn.pydata.org/examples/errorband_lineplots.html"
   ]
  },
  {
   "cell_type": "markdown",
   "metadata": {},
   "source": [
    "check the versions  \n",
    "\n",
    "https://stackoverflow.com/questions/51846948/seaborn-lineplot-module-object-has-no-attribute-lineplot?rq=1"
   ]
  }
 ],
 "metadata": {
  "kernelspec": {
   "display_name": "Python 3",
   "language": "python",
   "name": "python3"
  },
  "language_info": {
   "codemirror_mode": {
    "name": "ipython",
    "version": 3
   },
   "file_extension": ".py",
   "mimetype": "text/x-python",
   "name": "python",
   "nbconvert_exporter": "python",
   "pygments_lexer": "ipython3",
   "version": "3.5.5"
  }
 },
 "nbformat": 4,
 "nbformat_minor": 2
}
