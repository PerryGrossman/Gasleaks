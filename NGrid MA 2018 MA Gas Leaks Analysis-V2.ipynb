{
 "cells": [
  {
   "cell_type": "markdown",
   "metadata": {},
   "source": [
    "# Analysis of National Grid Massachusetts Gas Leaks 2018 V2"
   ]
  },
  {
   "cell_type": "markdown",
   "metadata": {},
   "source": [
    "#### Goal:  \n",
    "Provide insights into National Grid Massachusetts gas leaks.   \n",
    "Provide a visualization of the leaks.   \n",
    "Add socio-demographic information.  \n",
    "Spur action on this critical issue.  \n",
    "\n",
    "\n",
    "    "
   ]
  },
  {
   "cell_type": "markdown",
   "metadata": {},
   "source": [
    "-------\n",
    "People, this is an important issue!"
   ]
  },
  {
   "cell_type": "markdown",
   "metadata": {},
   "source": [
    "##### Worcester Residents Demand Gas Leak Repairs  \n",
    "There are growing concerns that five natural gas leaks near schools in Worcester are causing health issues associated with asthma.  \n",
    "\n",
    "(Published Tuesday, Jun 18, 2019 | Credit: Cassy Arsenault)\n",
    "\n",
    "https://www.necn.com/multimedia/Worcester-Residents-Demand-Gas-Leak-Repairs_NECN-511476042.html"
   ]
  },
  {
   "cell_type": "markdown",
   "metadata": {},
   "source": [
    "https://heetma.org/gas-leaks/"
   ]
  },
  {
   "cell_type": "markdown",
   "metadata": {},
   "source": [
    "#### Steps:  \n",
    "Load needed libraries  \n",
    "Import NGrid data   \n",
    "Add Zipcodes  --- *** Can anyone provide advice on this? See below ****\n",
    "\n",
    "\n",
    "Add soci-demographic information. --- *** Can anyone provide advice on this? See below. **** \n",
    "\n",
    "    - how to loop over several addresses\n",
    "    - How to get the zipcode output into a pandas dataframe?\n",
    "\n",
    "\n",
    "\n",
    "\n",
    "Provide visualizations  \n",
    "Do analytics  "
   ]
  },
  {
   "cell_type": "markdown",
   "metadata": {},
   "source": [
    "#### Data Info   \n",
    "Data generously provide by Audrey Schulman, HEET (https://heetma.org)  Co-founder and Executive Director:   \n",
    "\n",
    "The first number is the National Grid ID number.  \n",
    " \n",
    "The ending grade is defined by potential for explosion.  \n",
    "\n",
    "To generalize:   \n",
    "Grade 1 is in a contained space  \n",
    "\n",
    "Grade 2 is close to a building,  \n",
    "\n",
    "(2A? Unknown. I recoded those to 2 in a new column)\n",
    "\n",
    "Grade 3 is everything else.   \n",
    "\n",
    "Grades having nothing to do with volume of emissions.  "
   ]
  },
  {
   "cell_type": "code",
   "execution_count": 64,
   "metadata": {},
   "outputs": [],
   "source": [
    "# import modules\n",
    "\n",
    "import pandas as pd\n",
    "import matplotlib.pyplot as plt\n",
    "import seaborn as sns"
   ]
  },
  {
   "cell_type": "markdown",
   "metadata": {},
   "source": [
    "#### Import NGrid data"
   ]
  },
  {
   "cell_type": "markdown",
   "metadata": {},
   "source": [
    "https://chrisalbon.com/python/data_wrangling/load_excel_file_into_pandas/"
   ]
  },
  {
   "cell_type": "code",
   "execution_count": 65,
   "metadata": {},
   "outputs": [],
   "source": [
    "# Import the excel file and call it xls_file\n",
    "gasleaks = pd.read_csv('0-Boston_Gas_2018_SQ_Report_3-1-19_unrepaired_pg.csv')\n"
   ]
  },
  {
   "cell_type": "code",
   "execution_count": 66,
   "metadata": {},
   "outputs": [
    {
     "data": {
      "text/html": [
       "<div>\n",
       "<style scoped>\n",
       "    .dataframe tbody tr th:only-of-type {\n",
       "        vertical-align: middle;\n",
       "    }\n",
       "\n",
       "    .dataframe tbody tr th {\n",
       "        vertical-align: top;\n",
       "    }\n",
       "\n",
       "    .dataframe thead th {\n",
       "        text-align: right;\n",
       "    }\n",
       "</style>\n",
       "<table border=\"1\" class=\"dataframe\">\n",
       "  <thead>\n",
       "    <tr style=\"text-align: right;\">\n",
       "      <th></th>\n",
       "      <th>f</th>\n",
       "      <th>ReportedAddress</th>\n",
       "      <th>CrossStreet</th>\n",
       "      <th>Town</th>\n",
       "      <th>State</th>\n",
       "      <th>concate</th>\n",
       "      <th>ReportedDate</th>\n",
       "      <th>Endingleakgrade</th>\n",
       "      <th>Endingleakgradenumber</th>\n",
       "    </tr>\n",
       "  </thead>\n",
       "  <tbody>\n",
       "    <tr>\n",
       "      <th>0</th>\n",
       "      <td>6015776</td>\n",
       "      <td>1070 BEDFORD ST</td>\n",
       "      <td>NaN</td>\n",
       "      <td>ABINGTON</td>\n",
       "      <td>MA</td>\n",
       "      <td>1070 BEDFORD ST ABINGTON, MA</td>\n",
       "      <td>9/9/2015</td>\n",
       "      <td>3</td>\n",
       "      <td>3</td>\n",
       "    </tr>\n",
       "    <tr>\n",
       "      <th>1</th>\n",
       "      <td>1505591</td>\n",
       "      <td>11 ADLEY DR</td>\n",
       "      <td>NaN</td>\n",
       "      <td>ABINGTON</td>\n",
       "      <td>MA</td>\n",
       "      <td>11 ADLEY DR ABINGTON, MA</td>\n",
       "      <td>9/26/2013</td>\n",
       "      <td>3</td>\n",
       "      <td>3</td>\n",
       "    </tr>\n",
       "    <tr>\n",
       "      <th>2</th>\n",
       "      <td>7333066</td>\n",
       "      <td>123 CATHERINE DR</td>\n",
       "      <td>NaN</td>\n",
       "      <td>ABINGTON</td>\n",
       "      <td>MA</td>\n",
       "      <td>123 CATHERINE DR ABINGTON, MA</td>\n",
       "      <td>4/5/2017</td>\n",
       "      <td>3</td>\n",
       "      <td>3</td>\n",
       "    </tr>\n",
       "    <tr>\n",
       "      <th>3</th>\n",
       "      <td>7321083</td>\n",
       "      <td>1233 WASHINGTON ST</td>\n",
       "      <td>NaN</td>\n",
       "      <td>ABINGTON</td>\n",
       "      <td>MA</td>\n",
       "      <td>1233 WASHINGTON ST ABINGTON, MA</td>\n",
       "      <td>9/10/2015</td>\n",
       "      <td>3</td>\n",
       "      <td>3</td>\n",
       "    </tr>\n",
       "    <tr>\n",
       "      <th>4</th>\n",
       "      <td>251670</td>\n",
       "      <td>1241 WASHINGTON ST</td>\n",
       "      <td>NaN</td>\n",
       "      <td>ABINGTON</td>\n",
       "      <td>MA</td>\n",
       "      <td>1241 WASHINGTON ST ABINGTON, MA</td>\n",
       "      <td>9/26/2003</td>\n",
       "      <td>3</td>\n",
       "      <td>3</td>\n",
       "    </tr>\n",
       "    <tr>\n",
       "      <th>5</th>\n",
       "      <td>7323314</td>\n",
       "      <td>138 RANDOLPH ST</td>\n",
       "      <td>NaN</td>\n",
       "      <td>ABINGTON</td>\n",
       "      <td>MA</td>\n",
       "      <td>138 RANDOLPH ST ABINGTON, MA</td>\n",
       "      <td>8/1/2014</td>\n",
       "      <td>3</td>\n",
       "      <td>3</td>\n",
       "    </tr>\n",
       "    <tr>\n",
       "      <th>6</th>\n",
       "      <td>7337464</td>\n",
       "      <td>140 CHESTNUT ST</td>\n",
       "      <td>NaN</td>\n",
       "      <td>ABINGTON</td>\n",
       "      <td>MA</td>\n",
       "      <td>140 CHESTNUT ST ABINGTON, MA</td>\n",
       "      <td>8/14/2017</td>\n",
       "      <td>3</td>\n",
       "      <td>3</td>\n",
       "    </tr>\n",
       "    <tr>\n",
       "      <th>7</th>\n",
       "      <td>1740971</td>\n",
       "      <td>141 CHAPEL ST</td>\n",
       "      <td>NaN</td>\n",
       "      <td>ABINGTON</td>\n",
       "      <td>MA</td>\n",
       "      <td>141 CHAPEL ST ABINGTON, MA</td>\n",
       "      <td>9/3/2014</td>\n",
       "      <td>3</td>\n",
       "      <td>3</td>\n",
       "    </tr>\n",
       "    <tr>\n",
       "      <th>8</th>\n",
       "      <td>2950638</td>\n",
       "      <td>16 HARRISON AVE</td>\n",
       "      <td>NaN</td>\n",
       "      <td>ABINGTON</td>\n",
       "      <td>MA</td>\n",
       "      <td>16 HARRISON AVE ABINGTON, MA</td>\n",
       "      <td>1/31/2015</td>\n",
       "      <td>3</td>\n",
       "      <td>3</td>\n",
       "    </tr>\n",
       "    <tr>\n",
       "      <th>9</th>\n",
       "      <td>851846</td>\n",
       "      <td>177 CENTRAL ST</td>\n",
       "      <td>NaN</td>\n",
       "      <td>ABINGTON</td>\n",
       "      <td>MA</td>\n",
       "      <td>177 CENTRAL ST ABINGTON, MA</td>\n",
       "      <td>4/18/2012</td>\n",
       "      <td>3</td>\n",
       "      <td>3</td>\n",
       "    </tr>\n",
       "    <tr>\n",
       "      <th>10</th>\n",
       "      <td>1505600</td>\n",
       "      <td>177 MARGARET RD</td>\n",
       "      <td>NaN</td>\n",
       "      <td>ABINGTON</td>\n",
       "      <td>MA</td>\n",
       "      <td>177 MARGARET RD ABINGTON, MA</td>\n",
       "      <td>9/26/2013</td>\n",
       "      <td>3</td>\n",
       "      <td>3</td>\n",
       "    </tr>\n",
       "    <tr>\n",
       "      <th>11</th>\n",
       "      <td>321520</td>\n",
       "      <td>18 WASHINGTON ST</td>\n",
       "      <td>NaN</td>\n",
       "      <td>ABINGTON</td>\n",
       "      <td>MA</td>\n",
       "      <td>18 WASHINGTON ST ABINGTON, MA</td>\n",
       "      <td>4/14/2009</td>\n",
       "      <td>3</td>\n",
       "      <td>3</td>\n",
       "    </tr>\n",
       "    <tr>\n",
       "      <th>12</th>\n",
       "      <td>235571</td>\n",
       "      <td>21 WALKER LN</td>\n",
       "      <td>NaN</td>\n",
       "      <td>ABINGTON</td>\n",
       "      <td>MA</td>\n",
       "      <td>21 WALKER LN ABINGTON, MA</td>\n",
       "      <td>9/10/2002</td>\n",
       "      <td>3</td>\n",
       "      <td>3</td>\n",
       "    </tr>\n",
       "    <tr>\n",
       "      <th>13</th>\n",
       "      <td>7345234</td>\n",
       "      <td>222 LINWOOD ST</td>\n",
       "      <td>NaN</td>\n",
       "      <td>ABINGTON</td>\n",
       "      <td>MA</td>\n",
       "      <td>222 LINWOOD ST ABINGTON, MA</td>\n",
       "      <td>6/28/2018</td>\n",
       "      <td>3</td>\n",
       "      <td>3</td>\n",
       "    </tr>\n",
       "    <tr>\n",
       "      <th>14</th>\n",
       "      <td>303321</td>\n",
       "      <td>238 WASHINGTON ST</td>\n",
       "      <td>NaN</td>\n",
       "      <td>ABINGTON</td>\n",
       "      <td>MA</td>\n",
       "      <td>238 WASHINGTON ST ABINGTON, MA</td>\n",
       "      <td>8/8/2007</td>\n",
       "      <td>3</td>\n",
       "      <td>3</td>\n",
       "    </tr>\n",
       "    <tr>\n",
       "      <th>15</th>\n",
       "      <td>7323312</td>\n",
       "      <td>240 NORTH AVE</td>\n",
       "      <td>NaN</td>\n",
       "      <td>ABINGTON</td>\n",
       "      <td>MA</td>\n",
       "      <td>240 NORTH AVE ABINGTON, MA</td>\n",
       "      <td>8/19/2014</td>\n",
       "      <td>3</td>\n",
       "      <td>3</td>\n",
       "    </tr>\n",
       "    <tr>\n",
       "      <th>16</th>\n",
       "      <td>7323307</td>\n",
       "      <td>262 ADAMS ST</td>\n",
       "      <td>NaN</td>\n",
       "      <td>ABINGTON</td>\n",
       "      <td>MA</td>\n",
       "      <td>262 ADAMS ST ABINGTON, MA</td>\n",
       "      <td>8/19/2014</td>\n",
       "      <td>3</td>\n",
       "      <td>3</td>\n",
       "    </tr>\n",
       "    <tr>\n",
       "      <th>17</th>\n",
       "      <td>266424</td>\n",
       "      <td>27 HIGHLAND ST</td>\n",
       "      <td>NaN</td>\n",
       "      <td>ABINGTON</td>\n",
       "      <td>MA</td>\n",
       "      <td>27 HIGHLAND ST ABINGTON, MA</td>\n",
       "      <td>9/30/2004</td>\n",
       "      <td>3</td>\n",
       "      <td>3</td>\n",
       "    </tr>\n",
       "    <tr>\n",
       "      <th>18</th>\n",
       "      <td>7323315</td>\n",
       "      <td>27 ROCKLAND ST</td>\n",
       "      <td>NaN</td>\n",
       "      <td>ABINGTON</td>\n",
       "      <td>MA</td>\n",
       "      <td>27 ROCKLAND ST ABINGTON, MA</td>\n",
       "      <td>9/10/2014</td>\n",
       "      <td>3</td>\n",
       "      <td>3</td>\n",
       "    </tr>\n",
       "    <tr>\n",
       "      <th>19</th>\n",
       "      <td>7349726</td>\n",
       "      <td>32 ASHLAND ST</td>\n",
       "      <td>NaN</td>\n",
       "      <td>ABINGTON</td>\n",
       "      <td>MA</td>\n",
       "      <td>32 ASHLAND ST ABINGTON, MA</td>\n",
       "      <td>12/1/2018</td>\n",
       "      <td>3</td>\n",
       "      <td>3</td>\n",
       "    </tr>\n",
       "  </tbody>\n",
       "</table>\n",
       "</div>"
      ],
      "text/plain": [
       "          f     ReportedAddress CrossStreet      Town State  \\\n",
       "0   6015776     1070 BEDFORD ST         NaN  ABINGTON    MA   \n",
       "1   1505591         11 ADLEY DR         NaN  ABINGTON    MA   \n",
       "2   7333066    123 CATHERINE DR         NaN  ABINGTON    MA   \n",
       "3   7321083  1233 WASHINGTON ST         NaN  ABINGTON    MA   \n",
       "4    251670  1241 WASHINGTON ST         NaN  ABINGTON    MA   \n",
       "5   7323314     138 RANDOLPH ST         NaN  ABINGTON    MA   \n",
       "6   7337464     140 CHESTNUT ST         NaN  ABINGTON    MA   \n",
       "7   1740971       141 CHAPEL ST         NaN  ABINGTON    MA   \n",
       "8   2950638     16 HARRISON AVE         NaN  ABINGTON    MA   \n",
       "9    851846      177 CENTRAL ST         NaN  ABINGTON    MA   \n",
       "10  1505600     177 MARGARET RD         NaN  ABINGTON    MA   \n",
       "11   321520    18 WASHINGTON ST         NaN  ABINGTON    MA   \n",
       "12   235571        21 WALKER LN         NaN  ABINGTON    MA   \n",
       "13  7345234      222 LINWOOD ST         NaN  ABINGTON    MA   \n",
       "14   303321   238 WASHINGTON ST         NaN  ABINGTON    MA   \n",
       "15  7323312       240 NORTH AVE         NaN  ABINGTON    MA   \n",
       "16  7323307        262 ADAMS ST         NaN  ABINGTON    MA   \n",
       "17   266424      27 HIGHLAND ST         NaN  ABINGTON    MA   \n",
       "18  7323315      27 ROCKLAND ST         NaN  ABINGTON    MA   \n",
       "19  7349726       32 ASHLAND ST         NaN  ABINGTON    MA   \n",
       "\n",
       "                            concate ReportedDate Endingleakgrade  \\\n",
       "0      1070 BEDFORD ST ABINGTON, MA     9/9/2015               3   \n",
       "1          11 ADLEY DR ABINGTON, MA    9/26/2013               3   \n",
       "2     123 CATHERINE DR ABINGTON, MA     4/5/2017               3   \n",
       "3   1233 WASHINGTON ST ABINGTON, MA    9/10/2015               3   \n",
       "4   1241 WASHINGTON ST ABINGTON, MA    9/26/2003               3   \n",
       "5      138 RANDOLPH ST ABINGTON, MA     8/1/2014               3   \n",
       "6      140 CHESTNUT ST ABINGTON, MA    8/14/2017               3   \n",
       "7        141 CHAPEL ST ABINGTON, MA     9/3/2014               3   \n",
       "8      16 HARRISON AVE ABINGTON, MA    1/31/2015               3   \n",
       "9       177 CENTRAL ST ABINGTON, MA    4/18/2012               3   \n",
       "10     177 MARGARET RD ABINGTON, MA    9/26/2013               3   \n",
       "11    18 WASHINGTON ST ABINGTON, MA    4/14/2009               3   \n",
       "12        21 WALKER LN ABINGTON, MA    9/10/2002               3   \n",
       "13      222 LINWOOD ST ABINGTON, MA    6/28/2018               3   \n",
       "14   238 WASHINGTON ST ABINGTON, MA     8/8/2007               3   \n",
       "15       240 NORTH AVE ABINGTON, MA    8/19/2014               3   \n",
       "16        262 ADAMS ST ABINGTON, MA    8/19/2014               3   \n",
       "17      27 HIGHLAND ST ABINGTON, MA    9/30/2004               3   \n",
       "18      27 ROCKLAND ST ABINGTON, MA    9/10/2014               3   \n",
       "19       32 ASHLAND ST ABINGTON, MA    12/1/2018               3   \n",
       "\n",
       "    Endingleakgradenumber  \n",
       "0                       3  \n",
       "1                       3  \n",
       "2                       3  \n",
       "3                       3  \n",
       "4                       3  \n",
       "5                       3  \n",
       "6                       3  \n",
       "7                       3  \n",
       "8                       3  \n",
       "9                       3  \n",
       "10                      3  \n",
       "11                      3  \n",
       "12                      3  \n",
       "13                      3  \n",
       "14                      3  \n",
       "15                      3  \n",
       "16                      3  \n",
       "17                      3  \n",
       "18                      3  \n",
       "19                      3  "
      ]
     },
     "execution_count": 66,
     "metadata": {},
     "output_type": "execute_result"
    }
   ],
   "source": [
    "gasleaks.head(20)"
   ]
  },
  {
   "cell_type": "code",
   "execution_count": 67,
   "metadata": {},
   "outputs": [
    {
     "data": {
      "text/html": [
       "<div>\n",
       "<style scoped>\n",
       "    .dataframe tbody tr th:only-of-type {\n",
       "        vertical-align: middle;\n",
       "    }\n",
       "\n",
       "    .dataframe tbody tr th {\n",
       "        vertical-align: top;\n",
       "    }\n",
       "\n",
       "    .dataframe thead th {\n",
       "        text-align: right;\n",
       "    }\n",
       "</style>\n",
       "<table border=\"1\" class=\"dataframe\">\n",
       "  <thead>\n",
       "    <tr style=\"text-align: right;\">\n",
       "      <th></th>\n",
       "      <th>f</th>\n",
       "      <th>ReportedAddress</th>\n",
       "      <th>CrossStreet</th>\n",
       "      <th>Town</th>\n",
       "      <th>State</th>\n",
       "      <th>concate</th>\n",
       "      <th>ReportedDate</th>\n",
       "      <th>Endingleakgrade</th>\n",
       "      <th>Endingleakgradenumber</th>\n",
       "    </tr>\n",
       "  </thead>\n",
       "  <tbody>\n",
       "    <tr>\n",
       "      <th>10022</th>\n",
       "      <td>7337986</td>\n",
       "      <td>79 SCHOOL ST</td>\n",
       "      <td>NaN</td>\n",
       "      <td>WOBURN</td>\n",
       "      <td>MA</td>\n",
       "      <td>79 SCHOOL ST WOBURN, MA</td>\n",
       "      <td>8/25/2017</td>\n",
       "      <td>3</td>\n",
       "      <td>3</td>\n",
       "    </tr>\n",
       "    <tr>\n",
       "      <th>10023</th>\n",
       "      <td>7348019</td>\n",
       "      <td>8 MARION AVE</td>\n",
       "      <td>NaN</td>\n",
       "      <td>WOBURN</td>\n",
       "      <td>MA</td>\n",
       "      <td>8 MARION AVE WOBURN, MA</td>\n",
       "      <td>10/9/2018</td>\n",
       "      <td>3</td>\n",
       "      <td>3</td>\n",
       "    </tr>\n",
       "    <tr>\n",
       "      <th>10024</th>\n",
       "      <td>417453</td>\n",
       "      <td>9 ARLINGTON RD</td>\n",
       "      <td>NaN</td>\n",
       "      <td>WOBURN</td>\n",
       "      <td>MA</td>\n",
       "      <td>9 ARLINGTON RD WOBURN, MA</td>\n",
       "      <td>9/29/2011</td>\n",
       "      <td>3</td>\n",
       "      <td>3</td>\n",
       "    </tr>\n",
       "    <tr>\n",
       "      <th>10025</th>\n",
       "      <td>7338268</td>\n",
       "      <td>9 LYNN ST</td>\n",
       "      <td>NaN</td>\n",
       "      <td>WOBURN</td>\n",
       "      <td>MA</td>\n",
       "      <td>9 LYNN ST WOBURN, MA</td>\n",
       "      <td>9/12/2017</td>\n",
       "      <td>3</td>\n",
       "      <td>3</td>\n",
       "    </tr>\n",
       "    <tr>\n",
       "      <th>10026</th>\n",
       "      <td>7345770</td>\n",
       "      <td>94 PLEASANT ST</td>\n",
       "      <td>NaN</td>\n",
       "      <td>WOBURN</td>\n",
       "      <td>MA</td>\n",
       "      <td>94 PLEASANT ST WOBURN, MA</td>\n",
       "      <td>7/18/2018</td>\n",
       "      <td>2</td>\n",
       "      <td>2</td>\n",
       "    </tr>\n",
       "  </tbody>\n",
       "</table>\n",
       "</div>"
      ],
      "text/plain": [
       "             f ReportedAddress CrossStreet    Town State  \\\n",
       "10022  7337986    79 SCHOOL ST         NaN  WOBURN    MA   \n",
       "10023  7348019    8 MARION AVE         NaN  WOBURN    MA   \n",
       "10024   417453  9 ARLINGTON RD         NaN  WOBURN    MA   \n",
       "10025  7338268       9 LYNN ST         NaN  WOBURN    MA   \n",
       "10026  7345770  94 PLEASANT ST         NaN  WOBURN    MA   \n",
       "\n",
       "                         concate ReportedDate Endingleakgrade  \\\n",
       "10022    79 SCHOOL ST WOBURN, MA    8/25/2017               3   \n",
       "10023    8 MARION AVE WOBURN, MA    10/9/2018               3   \n",
       "10024  9 ARLINGTON RD WOBURN, MA    9/29/2011               3   \n",
       "10025       9 LYNN ST WOBURN, MA    9/12/2017               3   \n",
       "10026  94 PLEASANT ST WOBURN, MA    7/18/2018               2   \n",
       "\n",
       "       Endingleakgradenumber  \n",
       "10022                      3  \n",
       "10023                      3  \n",
       "10024                      3  \n",
       "10025                      3  \n",
       "10026                      2  "
      ]
     },
     "execution_count": 67,
     "metadata": {},
     "output_type": "execute_result"
    }
   ],
   "source": [
    "gasleaks.tail()"
   ]
  },
  {
   "cell_type": "markdown",
   "metadata": {},
   "source": [
    "##### These data have no zip codes, which means we can't convert the locations to lat/long, which means we can't plot this the way we want."
   ]
  },
  {
   "cell_type": "markdown",
   "metadata": {},
   "source": [
    "There are a variety of sites online where you can find zipcodes for an address, but we have over 10,000 cases so we need a better solution than these, searching one-by-one:\n",
    "    \n",
    "https://tools.usps.com/go/zip-code-lookup.htm\n",
    "        \n",
    "        \n",
    "https://www.unitedstateszipcodes.org/\n",
    "        \n",
    "        "
   ]
  },
  {
   "cell_type": "markdown",
   "metadata": {},
   "source": [
    "#### We want to do geocoding to work with the data\n",
    "\n",
    "The pygeocoder solution looks cool:  \n",
    "\n",
    "It allows you to directly convert an address to coordinates or vice versa. It also allows you to validate, format and split addresses into civic number, street name, city etc.\n",
    "\n",
    "But we need the zipcodes (ideally, by the specific location; not just by the town.)\n",
    "\n",
    "\n",
    "someone recommended geocoder. First attempt with conda bricked conda and jypyter notebook; so did an Anaconda reinstall."
   ]
  },
  {
   "cell_type": "code",
   "execution_count": 68,
   "metadata": {},
   "outputs": [],
   "source": [
    "# Load packages\n",
    "# https://geocoder.readthedocs.io/\n",
    "##from pygeocoder import Geocoder\n",
    "#import pandas as pd\n",
    "##import numpy as np"
   ]
  },
  {
   "cell_type": "markdown",
   "metadata": {},
   "source": [
    "Maybe try this (in10k batches) by try geocoder for now."
   ]
  },
  {
   "cell_type": "markdown",
   "metadata": {},
   "source": [
    "\n",
    "\n",
    "https://geocoding.geo.census.gov/"
   ]
  },
  {
   "cell_type": "markdown",
   "metadata": {},
   "source": [
    "##### Install geocoder (on ubuntu 18.04)"
   ]
  },
  {
   "cell_type": "code",
   "execution_count": null,
   "metadata": {},
   "outputs": [],
   "source": []
  },
  {
   "cell_type": "raw",
   "metadata": {},
   "source": [
    "#sudo snap install geocoder"
   ]
  },
  {
   "cell_type": "code",
   "execution_count": null,
   "metadata": {},
   "outputs": [],
   "source": []
  },
  {
   "cell_type": "markdown",
   "metadata": {},
   "source": [
    "But that was a mistake; did not install to my environment; so try this:  \n",
    "example:  \n",
    "conda install --name my_env35 numpy\n",
    "\n",
    "conda install --name my_env35 geocoder\n",
    "\n",
    "did not work.\n",
    "\n",
    "\n",
    "but creating a new environment (pg_geocode); then pip install geocoder seems to have worked."
   ]
  },
  {
   "cell_type": "markdown",
   "metadata": {},
   "source": [
    "https://geocoder.readthedocs.io/"
   ]
  },
  {
   "cell_type": "code",
   "execution_count": null,
   "metadata": {},
   "outputs": [],
   "source": []
  },
  {
   "cell_type": "markdown",
   "metadata": {},
   "source": [
    "https://docs.snapcraft.io/getting-started"
   ]
  },
  {
   "cell_type": "code",
   "execution_count": 69,
   "metadata": {},
   "outputs": [],
   "source": [
    "import geocoder"
   ]
  },
  {
   "cell_type": "raw",
   "metadata": {},
   "source": [
    "#### Environment Variables¶\n",
    "To make sure your API key is stored safely on your computer, you can define that API key using your system’s environment variables.  \n",
    "\n",
    "$ export GOOGLE_API_KEY=<Secret API Key>  \n",
    "$ export GOOGLE_CLIENT=<Secret Client>  \n",
    "$ export GOOGLE_CLIENT_SECRET=<Secret Client Secret>  "
   ]
  },
  {
   "cell_type": "raw",
   "metadata": {},
   "source": [
    "$ export GOOGLE_API_KEY=<Secret API Key>\n",
    "$ export GOOGLE_CLIENT=<Secret Client>\n",
    "$ export GOOGLE_CLIENT_SECRET=<Secret Client Secret>"
   ]
  },
  {
   "cell_type": "code",
   "execution_count": null,
   "metadata": {},
   "outputs": [],
   "source": []
  },
  {
   "cell_type": "markdown",
   "metadata": {},
   "source": [
    "https://geocoder.readthedocs.io/api.html#house-addresses"
   ]
  },
  {
   "cell_type": "raw",
   "metadata": {},
   "source": [
    "# example  \n",
    ">>> g = geocoder.google(\"453 Booth Street, Ottawa ON\")\n",
    ">>> g.housenumber\n",
    ">>> g.postal\n",
    ">>> g.street\n",
    ">>> g.street_long"
   ]
  },
  {
   "cell_type": "code",
   "execution_count": 70,
   "metadata": {},
   "outputs": [],
   "source": [
    "g = geocoder.google(\"453 Booth Street, Ottawa ON\")"
   ]
  },
  {
   "cell_type": "code",
   "execution_count": 71,
   "metadata": {},
   "outputs": [
    {
     "name": "stdout",
     "output_type": "stream",
     "text": [
      "None\n"
     ]
    }
   ],
   "source": [
    "print(g.street)"
   ]
  },
  {
   "cell_type": "code",
   "execution_count": null,
   "metadata": {},
   "outputs": [],
   "source": []
  },
  {
   "cell_type": "code",
   "execution_count": 74,
   "metadata": {},
   "outputs": [],
   "source": [
    "#g = geocoder.Bing(\"453 Booth Street, Ottawa ON\")\n",
    "\n",
    "\n",
    "#AttributeError: module 'geocoder' has no attribute 'Bing'"
   ]
  },
  {
   "cell_type": "code",
   "execution_count": 75,
   "metadata": {},
   "outputs": [],
   "source": [
    "g = geocoder.google(\"453 Booth Street, Ottawa ON\")\n",
    "g.housenumber\n",
    "g.postal\n",
    "g.street\n",
    "g.street_long"
   ]
  },
  {
   "cell_type": "code",
   "execution_count": 76,
   "metadata": {},
   "outputs": [],
   "source": [
    "g.postal"
   ]
  },
  {
   "cell_type": "code",
   "execution_count": 77,
   "metadata": {},
   "outputs": [
    {
     "data": {
      "text/plain": [
       "<[REQUEST_DENIED] Google - Geocode [empty]>"
      ]
     },
     "execution_count": 77,
     "metadata": {},
     "output_type": "execute_result"
    }
   ],
   "source": [
    "g"
   ]
  },
  {
   "cell_type": "raw",
   "metadata": {},
   "source": [
    "g = geocoder.geonames('Mountain View, CA')\n"
   ]
  },
  {
   "cell_type": "code",
   "execution_count": 78,
   "metadata": {},
   "outputs": [],
   "source": [
    "g.latlng"
   ]
  },
  {
   "cell_type": "markdown",
   "metadata": {},
   "source": [
    "$ 5. 00\n",
    "price/1K requests\n",
    "0 - 100K\n",
    "requests/month"
   ]
  },
  {
   "cell_type": "markdown",
   "metadata": {},
   "source": [
    "https://console.cloud.google.com/marketplace/details/google/geocoding-backend.googleapis.com"
   ]
  },
  {
   "cell_type": "markdown",
   "metadata": {},
   "source": [
    "https://nominatim.org/release-docs/develop/api/Search/"
   ]
  },
  {
   "cell_type": "markdown",
   "metadata": {},
   "source": [
    "would cost me aboug $50 dollars to do that"
   ]
  },
  {
   "cell_type": "code",
   "execution_count": null,
   "metadata": {},
   "outputs": [],
   "source": []
  },
  {
   "cell_type": "code",
   "execution_count": null,
   "metadata": {},
   "outputs": [],
   "source": []
  },
  {
   "cell_type": "code",
   "execution_count": null,
   "metadata": {},
   "outputs": [],
   "source": []
  },
  {
   "cell_type": "code",
   "execution_count": null,
   "metadata": {},
   "outputs": [],
   "source": []
  },
  {
   "cell_type": "code",
   "execution_count": null,
   "metadata": {},
   "outputs": [],
   "source": []
  },
  {
   "cell_type": "raw",
   "metadata": {},
   "source": [
    "Using a Session\n",
    "In case you have several addresses to encode, to use persistent HTTP connection as recommended by the request-library http://docs.python-requests.org/en/master/user/advanced/#session-objects you might use the following:\n",
    "\n",
    ">>> with requests.Session() as session:\n",
    ">>>    berlin = geocoder.google(\"Ritterstr. 12, 10969 Berlin\", session=session)\n",
    ">>>    ottawa = geocoder.google(\"453 Booth Street, Ottawa ON\", session=session)"
   ]
  },
  {
   "cell_type": "code",
   "execution_count": null,
   "metadata": {},
   "outputs": [],
   "source": []
  },
  {
   "cell_type": "code",
   "execution_count": null,
   "metadata": {},
   "outputs": [],
   "source": []
  },
  {
   "cell_type": "markdown",
   "metadata": {},
   "source": [
    "https://pypi.org/project/uszipcode/0.0.8/"
   ]
  },
  {
   "cell_type": "markdown",
   "metadata": {},
   "source": [
    "Shut Notebook, and terminal; did pip install; but not showing up"
   ]
  },
  {
   "cell_type": "code",
   "execution_count": null,
   "metadata": {},
   "outputs": [],
   "source": []
  },
  {
   "cell_type": "code",
   "execution_count": null,
   "metadata": {},
   "outputs": [],
   "source": []
  },
  {
   "cell_type": "markdown",
   "metadata": {},
   "source": [
    "#### This uszipcode library has cool info we could match up to our data-- \n",
    "\n",
    "We don't have zipcodes for the street addresses.\n",
    "\n",
    "But we can get zipcodes for the towns, generally."
   ]
  },
  {
   "cell_type": "markdown",
   "metadata": {},
   "source": [
    "https://uszipcode.readthedocs.io/index.html"
   ]
  },
  {
   "cell_type": "markdown",
   "metadata": {},
   "source": [
    "https://pypi.org/project/uszipcode/             (incomplete)"
   ]
  },
  {
   "cell_type": "code",
   "execution_count": 79,
   "metadata": {},
   "outputs": [],
   "source": [
    "from uszipcode import SearchEngine\n",
    "search = SearchEngine(simple_zipcode=True) # set simple_zipcode=False to use rich info database\n",
    "zipcode = search.by_zipcode(\"10001\")\n"
   ]
  },
  {
   "cell_type": "code",
   "execution_count": 80,
   "metadata": {},
   "outputs": [
    {
     "data": {
      "text/plain": [
       "SimpleZipcode(zipcode='10001', zipcode_type='Standard', major_city='New York', post_office_city='New York, NY', common_city_list=['New York'], county='New York County', state='NY', lat=40.75, lng=-73.99, timezone='Eastern', radius_in_miles=0.9090909090909091, area_code_list=['718', '917', '347', '646'], population=21102, population_density=33959.0, land_area_in_sqmi=0.62, water_area_in_sqmi=0.0, housing_units=12476, occupied_housing_units=11031, median_home_value=650200, median_household_income=81671, bounds_west=-74.008621, bounds_east=-73.984076, bounds_north=40.759731, bounds_south=40.743451)"
      ]
     },
     "execution_count": 80,
     "metadata": {},
     "output_type": "execute_result"
    }
   ],
   "source": [
    "zipcode"
   ]
  },
  {
   "cell_type": "code",
   "execution_count": 81,
   "metadata": {},
   "outputs": [
    {
     "data": {
      "text/plain": [
       "[SimpleZipcode(zipcode='60601', zipcode_type='Standard', major_city='Chicago', post_office_city='Chicago, IL', common_city_list=['Chicago'], county='Cook County', state='IL', lat=41.88, lng=-87.62, timezone='Central', radius_in_miles=0.7954545454545454, area_code_list=['312', '773', '872'], population=11110, population_density=28793.0, land_area_in_sqmi=0.39, water_area_in_sqmi=0.0, housing_units=8594, occupied_housing_units=6739, median_home_value=494200, median_household_income=95556, bounds_west=-87.633967, bounds_east=-87.61328, bounds_north=41.889045, bounds_south=41.880829),\n",
       " SimpleZipcode(zipcode='60602', zipcode_type='Standard', major_city='Chicago', post_office_city='Chicago, IL', common_city_list=['Chicago'], county='Cook County', state='IL', lat=41.883, lng=-87.628, timezone='Central', radius_in_miles=0.45454545454545453, area_code_list=['312', '708', '773', '872'], population=1204, population_density=13833.0, land_area_in_sqmi=0.09, water_area_in_sqmi=0.0, housing_units=791, occupied_housing_units=569, median_home_value=325700, median_household_income=79957, bounds_west=-87.633895, bounds_east=-87.624296, bounds_north=41.884498, bounds_south=41.880743),\n",
       " SimpleZipcode(zipcode='60603', zipcode_type='Standard', major_city='Chicago', post_office_city='Chicago, IL', common_city_list=['Chicago'], county='Cook County', state='IL', lat=41.88, lng=-87.629, timezone='Central', radius_in_miles=0.3977272727272727, area_code_list=['217', '224', '312', '847', '872', '630', '773', '815', '708'], population=493, population_density=3402.0, land_area_in_sqmi=0.14, water_area_in_sqmi=0.0, housing_units=749, occupied_housing_units=187, median_home_value=643800, median_household_income=107419, bounds_west=-87.633824, bounds_east=-87.6172, bounds_north=41.882119, bounds_south=41.878278),\n",
       " SimpleZipcode(zipcode='60604', zipcode_type='Standard', major_city='Chicago', post_office_city='Chicago, IL', common_city_list=['Chicago'], county='Cook County', state='IL', lat=41.88, lng=-87.625, timezone='Central', radius_in_miles=0.625, area_code_list=['708', '217', '224', '312', '630', '773', '847', '872'], population=570, population_density=6157.0, land_area_in_sqmi=0.09, water_area_in_sqmi=0.0, housing_units=496, occupied_housing_units=358, median_home_value=528100, median_household_income=132188, bounds_west=-87.633759, bounds_east=-87.622985, bounds_north=41.879555, bounds_south=41.875882),\n",
       " SimpleZipcode(zipcode='60605', zipcode_type='Standard', major_city='Chicago', post_office_city='Chicago, IL', common_city_list=['Chicago'], county='Cook County', state='IL', lat=41.87, lng=-87.62, timezone='Central', radius_in_miles=1.0, area_code_list=['217', '224', '312', '630', '708', '773', '847', '872'], population=24668, population_density=19806.0, land_area_in_sqmi=1.25, water_area_in_sqmi=0.78, housing_units=14805, occupied_housing_units=12703, median_home_value=344300, median_household_income=75426, bounds_west=-87.636035, bounds_east=-87.603387, bounds_north=41.882335, bounds_south=41.850106)]"
      ]
     },
     "execution_count": 81,
     "metadata": {},
     "output_type": "execute_result"
    }
   ],
   "source": [
    "# Looking for Chicago and IL, but entered wrong spelling.\n",
    "res = search.by_city_and_state(\"Chicago\", \"il\")\n",
    "res"
   ]
  },
  {
   "cell_type": "code",
   "execution_count": 82,
   "metadata": {},
   "outputs": [
    {
     "data": {
      "text/plain": [
       "5"
      ]
     },
     "execution_count": 82,
     "metadata": {},
     "output_type": "execute_result"
    }
   ],
   "source": [
    "len(res) # 56 zipcodes in Chicago"
   ]
  },
  {
   "cell_type": "raw",
   "metadata": {},
   "source": [
    "# I'm trying to figure out how to work with the zipcode output; but I get errors:\n",
    "len(zipcode)\n",
    "\n",
    "TypeError: object of type 'SimpleZipcode' has no len()"
   ]
  },
  {
   "cell_type": "code",
   "execution_count": 83,
   "metadata": {},
   "outputs": [],
   "source": [
    "#res.describe()\n",
    "\n",
    "#AttributeError: 'list' object has no attribute 'describe'"
   ]
  },
  {
   "cell_type": "markdown",
   "metadata": {},
   "source": [
    "So the output is a list. \n",
    "\n",
    "How to export it to an array or a data frame so we can match it back to our data?"
   ]
  },
  {
   "cell_type": "raw",
   "metadata": {},
   "source": [
    "res.type()\n",
    "\n",
    "AttributeError: 'list' object has no attribute 'type'"
   ]
  },
  {
   "cell_type": "code",
   "execution_count": 84,
   "metadata": {},
   "outputs": [],
   "source": [
    "zipcode = res[0]"
   ]
  },
  {
   "cell_type": "code",
   "execution_count": 85,
   "metadata": {},
   "outputs": [
    {
     "data": {
      "text/plain": [
       "'Chicago'"
      ]
     },
     "execution_count": 85,
     "metadata": {},
     "output_type": "execute_result"
    }
   ],
   "source": [
    "zipcode.major_city"
   ]
  },
  {
   "cell_type": "code",
   "execution_count": 86,
   "metadata": {},
   "outputs": [
    {
     "data": {
      "text/plain": [
       "'IL'"
      ]
     },
     "execution_count": 86,
     "metadata": {},
     "output_type": "execute_result"
    }
   ],
   "source": [
    "zipcode.state_abbr"
   ]
  },
  {
   "cell_type": "code",
   "execution_count": 87,
   "metadata": {},
   "outputs": [
    {
     "data": {
      "text/plain": [
       "SimpleZipcode(zipcode='60601', zipcode_type='Standard', major_city='Chicago', post_office_city='Chicago, IL', common_city_list=['Chicago'], county='Cook County', state='IL', lat=41.88, lng=-87.62, timezone='Central', radius_in_miles=0.7954545454545454, area_code_list=['312', '773', '872'], population=11110, population_density=28793.0, land_area_in_sqmi=0.39, water_area_in_sqmi=0.0, housing_units=8594, occupied_housing_units=6739, median_home_value=494200, median_household_income=95556, bounds_west=-87.633967, bounds_east=-87.61328, bounds_north=41.889045, bounds_south=41.880829)"
      ]
     },
     "execution_count": 87,
     "metadata": {},
     "output_type": "execute_result"
    }
   ],
   "source": [
    "zipcode"
   ]
  },
  {
   "cell_type": "code",
   "execution_count": 88,
   "metadata": {},
   "outputs": [
    {
     "data": {
      "text/plain": [
       "'60601'"
      ]
     },
     "execution_count": 88,
     "metadata": {},
     "output_type": "execute_result"
    }
   ],
   "source": [
    "zipcode.zipcode"
   ]
  },
  {
   "cell_type": "markdown",
   "metadata": {},
   "source": [
    "https://uszipcode.readthedocs.io/index.html"
   ]
  },
  {
   "cell_type": "code",
   "execution_count": 89,
   "metadata": {},
   "outputs": [
    {
     "data": {
      "text/plain": [
       "['60601',\n",
       " 'Standard',\n",
       " 'Chicago',\n",
       " 'Chicago, IL',\n",
       " ['Chicago'],\n",
       " 'Cook County',\n",
       " 'IL',\n",
       " 41.88,\n",
       " -87.62,\n",
       " 'Central',\n",
       " 0.7954545454545454,\n",
       " ['312', '773', '872'],\n",
       " 11110,\n",
       " 28793.0,\n",
       " 0.39,\n",
       " 0.0,\n",
       " 8594,\n",
       " 6739,\n",
       " 494200,\n",
       " 95556,\n",
       " -87.633967,\n",
       " -87.61328,\n",
       " 41.889045,\n",
       " 41.880829]"
      ]
     },
     "execution_count": 89,
     "metadata": {},
     "output_type": "execute_result"
    }
   ],
   "source": [
    "zipcode.values()"
   ]
  },
  {
   "cell_type": "code",
   "execution_count": null,
   "metadata": {},
   "outputs": [],
   "source": []
  },
  {
   "cell_type": "markdown",
   "metadata": {},
   "source": [
    "#### We can search by city and state. But that is not a great solution, because we want to leverage the street information too."
   ]
  },
  {
   "cell_type": "markdown",
   "metadata": {},
   "source": [
    "Below is a long way to do it (made easier with some copy/pasting in Excel); but this would probably be better done by looping over the data."
   ]
  },
  {
   "cell_type": "markdown",
   "metadata": {},
   "source": [
    "**** I can review loops, but if anyone has advice on how we could do that loop that would be great****"
   ]
  },
  {
   "cell_type": "raw",
   "metadata": {},
   "source": [
    "res1=search.by_city_and_state(\"ABINGTON\", \"MA\")\n",
    "res2=search.by_city_and_state(\"ACTON\", \"MA\")\n",
    "res3=search.by_city_and_state(\"AMESBURY\", \"MA\")\n",
    "res4=search.by_city_and_state(\"ARLINGTON\", \"MA\")\n",
    "res5=search.by_city_and_state(\"AYER\", \"MA\")\n",
    "res6=search.by_city_and_state(\"BEDFORD\", \"MA\")\n",
    "res7=search.by_city_and_state(\"BELMONT\", \"MA\")\n",
    "res8=search.by_city_and_state(\"BEVERLY\", \"MA\")\n",
    "res9=search.by_city_and_state(\"BOSTON\", \"MA\")\n",
    "res10=search.by_city_and_state(\"BOXBOROUGH\", \"MA\")\n",
    "res11=search.by_city_and_state(\"BOXFORD\", \"MA\")\n",
    "res12=search.by_city_and_state(\"BRAINTREE\", \"MA\")\n",
    "res13=search.by_city_and_state(\"BREWSTER\", \"MA\")\n",
    "res14=search.by_city_and_state(\"BRIGHTON\", \"MA\")\n",
    "res15=search.by_city_and_state(\"BROOKFIELD\", \"MA\")\n",
    "res16=search.by_city_and_state(\"BROOKLINE\", \"MA\")\n",
    "res17=search.by_city_and_state(\"BURLINGTON\", \"MA\")\n",
    "res18=search.by_city_and_state(\"BYFIELD\", \"MA\")\n",
    "res19=search.by_city_and_state(\"CAMBRIDGE\", \"MA\")\n",
    "res20=search.by_city_and_state(\"CARLISLE\", \"MA\")\n",
    "res21=search.by_city_and_state(\"CENTERVILLE\", \"MA\")\n",
    "res22=search.by_city_and_state(\"CHARLESTOWN\", \"MA\")\n",
    "res23=search.by_city_and_state(\"CHELSEA\", \"MA\")\n",
    "res24=search.by_city_and_state(\"CLINTON\", \"MA\")\n",
    "res25=search.by_city_and_state(\"COHASSET\", \"MA\")\n",
    "res26=search.by_city_and_state(\"CONCORD\", \"MA\")\n",
    "res27=search.by_city_and_state(\"DANVERS\", \"MA\")\n",
    "res28=search.by_city_and_state(\"DORCHESTER\", \"MA\")\n",
    "res29=search.by_city_and_state(\"DUDLEY\", \"MA\")\n",
    "res30=search.by_city_and_state(\"EAST BOSTON\", \"MA\")\n",
    "res31=search.by_city_and_state(\"EAST BROOKFIELD\", \"MA\")\n",
    "res32=search.by_city_and_state(\"ESSEX\", \"MA\")\n",
    "res33=search.by_city_and_state(\"EVERETT\", \"MA\")\n",
    "res34=search.by_city_and_state(\"GEORGETOWN\", \"MA\")\n",
    "res35=search.by_city_and_state(\"GLOUCESTER\", \"MA\")\n",
    "res36=search.by_city_and_state(\"GROTON\", \"MA\")\n",
    "res37=search.by_city_and_state(\"GROVELAND\", \"MA\")\n",
    "res38=search.by_city_and_state(\"HAMILTON\", \"MA\")\n",
    "res39=search.by_city_and_state(\"HARVARD\", \"MA\")\n",
    "res40=search.by_city_and_state(\"HAVERHILL\", \"MA\")\n",
    "res41=search.by_city_and_state(\"HINGHAM\", \"MA\")\n",
    "res42=search.by_city_and_state(\"HULL\", \"MA\")\n",
    "res43=search.by_city_and_state(\"IPSWICH\", \"MA\")\n",
    "res44=search.by_city_and_state(\"JAMAICA PLAIN\", \"MA\")\n",
    "res45=search.by_city_and_state(\"LANCASTER\", \"MA\")\n",
    "res46=search.by_city_and_state(\"LEICESTER\", \"MA\")\n",
    "res47=search.by_city_and_state(\"LEOMINSTER\", \"MA\")\n",
    "res48=search.by_city_and_state(\"LEXINGTON\", \"MA\")\n",
    "res49=search.by_city_and_state(\"LINCOLN\", \"MA\")\n",
    "res50=search.by_city_and_state(\"LITTLETON\", \"MA\")\n",
    "res51=search.by_city_and_state(\"LOWELL\", \"MA\")\n",
    "res52=search.by_city_and_state(\"LUNENBURG\", \"MA\")\n",
    "res53=search.by_city_and_state(\"LYNN\", \"MA\")\n",
    "res54=search.by_city_and_state(\"LYNNFIELD\", \"MA\")\n",
    "res55=search.by_city_and_state(\"MALDEN\", \"MA\")\n",
    "res56=search.by_city_and_state(\"MANCHESTER\", \"MA\")\n",
    "res57=search.by_city_and_state(\"MARBLEHEAD\", \"MA\")\n",
    "res58=search.by_city_and_state(\"MARSTONS MILLS\", \"MA\")\n",
    "res59=search.by_city_and_state(\"MEDFORD\", \"MA\")\n",
    "res60=search.by_city_and_state(\"MELROSE\", \"MA\")\n",
    "res61=search.by_city_and_state(\"MERRIMAC\", \"MA\")\n",
    "res62=search.by_city_and_state(\"MIDDLETON\", \"MA\")\n",
    "res63=search.by_city_and_state(\"MILTON\", \"MA\")\n",
    "res64=search.by_city_and_state(\"NAHANT\", \"MA\")\n",
    "res65=search.by_city_and_state(\"NEWBURYPORT\", \"MA\")\n",
    "res66=search.by_city_and_state(\"NEWTON\", \"MA\")\n",
    "res67=search.by_city_and_state(\"NORTH BROOKFIELD\", \"MA\")\n",
    "res68=search.by_city_and_state(\"NORWOOD\", \"MA\")\n",
    "res69=search.by_city_and_state(\"PEABODY\", \"MA\")\n",
    "res70=search.by_city_and_state(\"QUINCY\", \"MA\")\n",
    "res71=search.by_city_and_state(\"READING\", \"MA\")\n",
    "res72=search.by_city_and_state(\"REVERE\", \"MA\")\n",
    "res73=search.by_city_and_state(\"ROCKLAND\", \"MA\")\n",
    "res74=search.by_city_and_state(\"ROCKPORT\", \"MA\")\n",
    "res75=search.by_city_and_state(\"ROSLINDALE\", \"MA\")\n",
    "res76=search.by_city_and_state(\"ROWLEY\", \"MA\")\n",
    "res77=search.by_city_and_state(\"ROXBURY\", \"MA\")\n",
    "res78=search.by_city_and_state(\"SALEM\", \"MA\")\n",
    "res79=search.by_city_and_state(\"SALISBURY\", \"MA\")\n",
    "res80=search.by_city_and_state(\"SAUGUS\", \"MA\")\n",
    "res81=search.by_city_and_state(\"SHIRLEY\", \"MA\")\n",
    "res82=search.by_city_and_state(\"SOMERVILLE\", \"MA\")\n",
    "res83=search.by_city_and_state(\"SOUTH BOSTON\", \"MA\")\n",
    "res84=search.by_city_and_state(\"SOUTHBRIDGE\", \"MA\")\n",
    "res85=search.by_city_and_state(\"SPENCER\", \"MA\")\n",
    "res86=search.by_city_and_state(\"STONEHAM\", \"MA\")\n",
    "res87=search.by_city_and_state(\"SUDBURY\", \"MA\")\n",
    "res88=search.by_city_and_state(\"SWAMPSCOTT\", \"MA\")\n",
    "res89=search.by_city_and_state(\"SWIFTS BEACH\", \"MA\")\n",
    "res90=search.by_city_and_state(\"TOPSFIELD\", \"MA\")\n",
    "res91=search.by_city_and_state(\"WAKEFIELD\", \"MA\")\n",
    "res92=search.by_city_and_state(\"WALTHAM\", \"MA\")\n",
    "res93=search.by_city_and_state(\"WARREN\", \"MA\")\n",
    "res94=search.by_city_and_state(\"WATERTOWN\", \"MA\")\n",
    "res95=search.by_city_and_state(\"WAYLAND\", \"MA\")\n",
    "res96=search.by_city_and_state(\"WEBSTER\", \"MA\")\n",
    "res97=search.by_city_and_state(\"WELLESLEY\", \"MA\")\n",
    "res98=search.by_city_and_state(\"WENHAM\", \"MA\")\n",
    "res99=search.by_city_and_state(\"WEST BROOKFIELD\", \"MA\")\n",
    "res100=search.by_city_and_state(\"WEST NEWBURY\", \"MA\")\n",
    "res101=search.by_city_and_state(\"WEST ROXBURY\", \"MA\")\n",
    "res102=search.by_city_and_state(\"WESTON\", \"MA\")\n",
    "res103=search.by_city_and_state(\"WEYMOUTH\", \"MA\")\n",
    "res104=search.by_city_and_state(\"WHITMAN\", \"MA\")\n",
    "res105=search.by_city_and_state(\"WINCHESTER\", \"MA\")\n",
    "res106=search.by_city_and_state(\"WINTHROP\", \"MA\")\n",
    "res107=search.by_city_and_state(\"WOBURN\", \"MA\")\n",
    "\n"
   ]
  },
  {
   "cell_type": "raw",
   "metadata": {},
   "source": [
    "res1\n",
    "\n",
    "#res2"
   ]
  },
  {
   "cell_type": "markdown",
   "metadata": {},
   "source": [
    "Ideally, we would get the zipcodes by street, but this information might be good enough;   \n",
    "\n",
    "#### How can we get it into a dataframe and match it back to the data???\n",
    "\n"
   ]
  },
  {
   "cell_type": "code",
   "execution_count": 90,
   "metadata": {},
   "outputs": [
    {
     "data": {
      "text/plain": [
       "<bound method ExtendedBase.values of SimpleZipcode(zipcode='60601', zipcode_type='Standard', major_city='Chicago', post_office_city='Chicago, IL', common_city_list=['Chicago'], county='Cook County', state='IL', lat=41.88, lng=-87.62, timezone='Central', radius_in_miles=0.7954545454545454, area_code_list=['312', '773', '872'], population=11110, population_density=28793.0, land_area_in_sqmi=0.39, water_area_in_sqmi=0.0, housing_units=8594, occupied_housing_units=6739, median_home_value=494200, median_household_income=95556, bounds_west=-87.633967, bounds_east=-87.61328, bounds_north=41.889045, bounds_south=41.880829)>"
      ]
     },
     "execution_count": 90,
     "metadata": {},
     "output_type": "execute_result"
    }
   ],
   "source": [
    "# make a list\n",
    "zipcode.values\n"
   ]
  },
  {
   "cell_type": "raw",
   "metadata": {},
   "source": [
    "res1.values()  \n",
    "\n",
    "\n",
    "\n",
    "\n",
    "---------------------------------------------------------------------------\n",
    "AttributeError                            Traceback (most recent call last)\n",
    "<ipython-input-36-0d2138205d95> in <module>\n",
    "----> 1 res1.values()\n",
    "\n",
    "AttributeError: 'list' object has no attribute 'values'"
   ]
  },
  {
   "cell_type": "code",
   "execution_count": null,
   "metadata": {},
   "outputs": [],
   "source": []
  },
  {
   "cell_type": "code",
   "execution_count": null,
   "metadata": {},
   "outputs": [],
   "source": []
  },
  {
   "cell_type": "markdown",
   "metadata": {},
   "source": [
    "https://chrisalbon.com/python/basics/applying_functions_to_list_items/"
   ]
  },
  {
   "cell_type": "markdown",
   "metadata": {},
   "source": [
    "https://chrisalbon.com/python/basics/function_basics/"
   ]
  },
  {
   "cell_type": "code",
   "execution_count": null,
   "metadata": {},
   "outputs": [],
   "source": []
  },
  {
   "cell_type": "markdown",
   "metadata": {},
   "source": [
    "# Drop Duplicates"
   ]
  },
  {
   "cell_type": "code",
   "execution_count": 91,
   "metadata": {},
   "outputs": [],
   "source": [
    "gasleaks_unique = gasleaks[[\"Town\",\"State\"]].drop_duplicates()"
   ]
  },
  {
   "cell_type": "code",
   "execution_count": 92,
   "metadata": {},
   "outputs": [
    {
     "data": {
      "text/html": [
       "<div>\n",
       "<style scoped>\n",
       "    .dataframe tbody tr th:only-of-type {\n",
       "        vertical-align: middle;\n",
       "    }\n",
       "\n",
       "    .dataframe tbody tr th {\n",
       "        vertical-align: top;\n",
       "    }\n",
       "\n",
       "    .dataframe thead th {\n",
       "        text-align: right;\n",
       "    }\n",
       "</style>\n",
       "<table border=\"1\" class=\"dataframe\">\n",
       "  <thead>\n",
       "    <tr style=\"text-align: right;\">\n",
       "      <th></th>\n",
       "      <th>Town</th>\n",
       "      <th>State</th>\n",
       "    </tr>\n",
       "  </thead>\n",
       "  <tbody>\n",
       "    <tr>\n",
       "      <th>0</th>\n",
       "      <td>ABINGTON</td>\n",
       "      <td>MA</td>\n",
       "    </tr>\n",
       "    <tr>\n",
       "      <th>44</th>\n",
       "      <td>ACTON</td>\n",
       "      <td>MA</td>\n",
       "    </tr>\n",
       "    <tr>\n",
       "      <th>264</th>\n",
       "      <td>AMESBURY</td>\n",
       "      <td>MA</td>\n",
       "    </tr>\n",
       "    <tr>\n",
       "      <th>280</th>\n",
       "      <td>ARLINGTON</td>\n",
       "      <td>MA</td>\n",
       "    </tr>\n",
       "    <tr>\n",
       "      <th>593</th>\n",
       "      <td>AYER</td>\n",
       "      <td>MA</td>\n",
       "    </tr>\n",
       "  </tbody>\n",
       "</table>\n",
       "</div>"
      ],
      "text/plain": [
       "          Town State\n",
       "0     ABINGTON    MA\n",
       "44       ACTON    MA\n",
       "264   AMESBURY    MA\n",
       "280  ARLINGTON    MA\n",
       "593       AYER    MA"
      ]
     },
     "execution_count": 92,
     "metadata": {},
     "output_type": "execute_result"
    }
   ],
   "source": [
    "gasleaks_unique.head()"
   ]
  },
  {
   "cell_type": "code",
   "execution_count": 104,
   "metadata": {},
   "outputs": [
    {
     "data": {
      "text/html": [
       "<div>\n",
       "<style scoped>\n",
       "    .dataframe tbody tr th:only-of-type {\n",
       "        vertical-align: middle;\n",
       "    }\n",
       "\n",
       "    .dataframe tbody tr th {\n",
       "        vertical-align: top;\n",
       "    }\n",
       "\n",
       "    .dataframe thead th {\n",
       "        text-align: right;\n",
       "    }\n",
       "</style>\n",
       "<table border=\"1\" class=\"dataframe\">\n",
       "  <thead>\n",
       "    <tr style=\"text-align: right;\">\n",
       "      <th></th>\n",
       "      <th>Town</th>\n",
       "      <th>State</th>\n",
       "    </tr>\n",
       "  </thead>\n",
       "  <tbody>\n",
       "    <tr>\n",
       "      <th>9405</th>\n",
       "      <td>WEYMOUTH</td>\n",
       "      <td>MA</td>\n",
       "    </tr>\n",
       "    <tr>\n",
       "      <th>9696</th>\n",
       "      <td>WHITMAN</td>\n",
       "      <td>MA</td>\n",
       "    </tr>\n",
       "    <tr>\n",
       "      <th>9772</th>\n",
       "      <td>WINCHESTER</td>\n",
       "      <td>MA</td>\n",
       "    </tr>\n",
       "    <tr>\n",
       "      <th>9883</th>\n",
       "      <td>WINTHROP</td>\n",
       "      <td>MA</td>\n",
       "    </tr>\n",
       "    <tr>\n",
       "      <th>9930</th>\n",
       "      <td>WOBURN</td>\n",
       "      <td>MA</td>\n",
       "    </tr>\n",
       "  </tbody>\n",
       "</table>\n",
       "</div>"
      ],
      "text/plain": [
       "            Town State\n",
       "9405    WEYMOUTH    MA\n",
       "9696     WHITMAN    MA\n",
       "9772  WINCHESTER    MA\n",
       "9883    WINTHROP    MA\n",
       "9930      WOBURN    MA"
      ]
     },
     "execution_count": 104,
     "metadata": {},
     "output_type": "execute_result"
    }
   ],
   "source": [
    "gasleaks_unique.tail()"
   ]
  },
  {
   "cell_type": "raw",
   "metadata": {},
   "source": [
    "def lookup(town, state):\n",
    "    res = search.by_city_and_state(\"ABINGTON\", \"MA\")\n",
    "    return res[0].zipcode"
   ]
  },
  {
   "cell_type": "code",
   "execution_count": 95,
   "metadata": {},
   "outputs": [],
   "source": [
    "def lookup(town, state):\n",
    "    res = search.by_city_and_state(town, state)\n",
    "    return res[0].zipcode"
   ]
  },
  {
   "cell_type": "code",
   "execution_count": 96,
   "metadata": {},
   "outputs": [
    {
     "data": {
      "text/plain": [
       "'02351'"
      ]
     },
     "execution_count": 96,
     "metadata": {},
     "output_type": "execute_result"
    }
   ],
   "source": [
    "lookup(\"ABINGTON\", \"MA\")"
   ]
  },
  {
   "cell_type": "code",
   "execution_count": 97,
   "metadata": {},
   "outputs": [
    {
     "data": {
      "text/plain": [
       "'02445'"
      ]
     },
     "execution_count": 97,
     "metadata": {},
     "output_type": "execute_result"
    }
   ],
   "source": [
    "lookup(\"BROOKLINE\", \"MA\")"
   ]
  },
  {
   "cell_type": "code",
   "execution_count": 98,
   "metadata": {},
   "outputs": [
    {
     "data": {
      "text/plain": [
       "'01801'"
      ]
     },
     "execution_count": 98,
     "metadata": {},
     "output_type": "execute_result"
    }
   ],
   "source": [
    "lookup(\"WOBURN\", \"MA\")"
   ]
  },
  {
   "cell_type": "code",
   "execution_count": 57,
   "metadata": {},
   "outputs": [],
   "source": [
    "#townstate[\"Town\", \"State\"], apply(lookup)"
   ]
  },
  {
   "cell_type": "code",
   "execution_count": 40,
   "metadata": {},
   "outputs": [],
   "source": [
    "#gasleaks[\"Town\", \"State\"], apply(lookup)"
   ]
  },
  {
   "cell_type": "code",
   "execution_count": null,
   "metadata": {},
   "outputs": [],
   "source": []
  },
  {
   "cell_type": "code",
   "execution_count": null,
   "metadata": {},
   "outputs": [],
   "source": []
  },
  {
   "cell_type": "raw",
   "metadata": {},
   "source": [
    "Do I need to put a list into it?"
   ]
  },
  {
   "cell_type": "raw",
   "metadata": {},
   "source": [
    "townstate = pd.read_csv('townstate.csv') # not full list? only to M?"
   ]
  },
  {
   "cell_type": "code",
   "execution_count": null,
   "metadata": {},
   "outputs": [],
   "source": []
  },
  {
   "cell_type": "raw",
   "metadata": {},
   "source": [
    "def lookuplist(townstate):\n",
    "    res = search.by_city_and_state(townstate)\n",
    "    return res[0].zipcode"
   ]
  },
  {
   "cell_type": "code",
   "execution_count": 37,
   "metadata": {},
   "outputs": [
    {
     "data": {
      "text/plain": [
       "<function __main__.lookuplist(townstate)>"
      ]
     },
     "execution_count": 37,
     "metadata": {},
     "output_type": "execute_result"
    }
   ],
   "source": [
    "lookuplist"
   ]
  },
  {
   "cell_type": "code",
   "execution_count": 100,
   "metadata": {},
   "outputs": [],
   "source": [
    "#townstate bad list"
   ]
  },
  {
   "cell_type": "code",
   "execution_count": 51,
   "metadata": {},
   "outputs": [],
   "source": [
    "def lookup(row):\n",
    "    res = search.by_city_and_state(row[\"Town\"],row[\"State\"])\n",
    "    return res[0].zipcode\n",
    "\n",
    "\n",
    "# if res  then return res[0] else return none\n",
    "# or try except"
   ]
  },
  {
   "cell_type": "code",
   "execution_count": 103,
   "metadata": {},
   "outputs": [
    {
     "data": {
      "text/html": [
       "<div>\n",
       "<style scoped>\n",
       "    .dataframe tbody tr th:only-of-type {\n",
       "        vertical-align: middle;\n",
       "    }\n",
       "\n",
       "    .dataframe tbody tr th {\n",
       "        vertical-align: top;\n",
       "    }\n",
       "\n",
       "    .dataframe thead th {\n",
       "        text-align: right;\n",
       "    }\n",
       "</style>\n",
       "<table border=\"1\" class=\"dataframe\">\n",
       "  <thead>\n",
       "    <tr style=\"text-align: right;\">\n",
       "      <th></th>\n",
       "      <th>Town</th>\n",
       "      <th>State</th>\n",
       "    </tr>\n",
       "  </thead>\n",
       "  <tbody>\n",
       "    <tr>\n",
       "      <th>0</th>\n",
       "      <td>ABINGTON</td>\n",
       "      <td>MA</td>\n",
       "    </tr>\n",
       "    <tr>\n",
       "      <th>44</th>\n",
       "      <td>ACTON</td>\n",
       "      <td>MA</td>\n",
       "    </tr>\n",
       "    <tr>\n",
       "      <th>264</th>\n",
       "      <td>AMESBURY</td>\n",
       "      <td>MA</td>\n",
       "    </tr>\n",
       "    <tr>\n",
       "      <th>280</th>\n",
       "      <td>ARLINGTON</td>\n",
       "      <td>MA</td>\n",
       "    </tr>\n",
       "    <tr>\n",
       "      <th>593</th>\n",
       "      <td>AYER</td>\n",
       "      <td>MA</td>\n",
       "    </tr>\n",
       "    <tr>\n",
       "      <th>625</th>\n",
       "      <td>BEDFORD</td>\n",
       "      <td>MA</td>\n",
       "    </tr>\n",
       "    <tr>\n",
       "      <th>711</th>\n",
       "      <td>BELMONT</td>\n",
       "      <td>MA</td>\n",
       "    </tr>\n",
       "    <tr>\n",
       "      <th>823</th>\n",
       "      <td>BEVERLY</td>\n",
       "      <td>MA</td>\n",
       "    </tr>\n",
       "    <tr>\n",
       "      <th>950</th>\n",
       "      <td>BOSTON</td>\n",
       "      <td>MA</td>\n",
       "    </tr>\n",
       "    <tr>\n",
       "      <th>1243</th>\n",
       "      <td>BOXBOROUGH</td>\n",
       "      <td>MA</td>\n",
       "    </tr>\n",
       "    <tr>\n",
       "      <th>1248</th>\n",
       "      <td>BOXFORD</td>\n",
       "      <td>MA</td>\n",
       "    </tr>\n",
       "    <tr>\n",
       "      <th>1262</th>\n",
       "      <td>BRAINTREE</td>\n",
       "      <td>MA</td>\n",
       "    </tr>\n",
       "    <tr>\n",
       "      <th>1426</th>\n",
       "      <td>BREWSTER</td>\n",
       "      <td>MA</td>\n",
       "    </tr>\n",
       "    <tr>\n",
       "      <th>1427</th>\n",
       "      <td>BRIGHTON</td>\n",
       "      <td>MA</td>\n",
       "    </tr>\n",
       "    <tr>\n",
       "      <th>1568</th>\n",
       "      <td>BROOKFIELD</td>\n",
       "      <td>MA</td>\n",
       "    </tr>\n",
       "    <tr>\n",
       "      <th>1585</th>\n",
       "      <td>BROOKLINE</td>\n",
       "      <td>MA</td>\n",
       "    </tr>\n",
       "    <tr>\n",
       "      <th>1860</th>\n",
       "      <td>BURLINGTON</td>\n",
       "      <td>MA</td>\n",
       "    </tr>\n",
       "    <tr>\n",
       "      <th>1952</th>\n",
       "      <td>BYFIELD</td>\n",
       "      <td>MA</td>\n",
       "    </tr>\n",
       "    <tr>\n",
       "      <th>1957</th>\n",
       "      <td>CAMBRIDGE</td>\n",
       "      <td>MA</td>\n",
       "    </tr>\n",
       "    <tr>\n",
       "      <th>1959</th>\n",
       "      <td>CARLISLE</td>\n",
       "      <td>MA</td>\n",
       "    </tr>\n",
       "    <tr>\n",
       "      <th>1978</th>\n",
       "      <td>CENTERVILLE</td>\n",
       "      <td>MA</td>\n",
       "    </tr>\n",
       "    <tr>\n",
       "      <th>1979</th>\n",
       "      <td>CHARLESTOWN</td>\n",
       "      <td>MA</td>\n",
       "    </tr>\n",
       "    <tr>\n",
       "      <th>2011</th>\n",
       "      <td>CHELSEA</td>\n",
       "      <td>MA</td>\n",
       "    </tr>\n",
       "    <tr>\n",
       "      <th>2076</th>\n",
       "      <td>CLINTON</td>\n",
       "      <td>MA</td>\n",
       "    </tr>\n",
       "    <tr>\n",
       "      <th>2095</th>\n",
       "      <td>COHASSET</td>\n",
       "      <td>MA</td>\n",
       "    </tr>\n",
       "    <tr>\n",
       "      <th>2185</th>\n",
       "      <td>CONCORD</td>\n",
       "      <td>MA</td>\n",
       "    </tr>\n",
       "    <tr>\n",
       "      <th>2330</th>\n",
       "      <td>DANVERS</td>\n",
       "      <td>MA</td>\n",
       "    </tr>\n",
       "    <tr>\n",
       "      <th>2421</th>\n",
       "      <td>DORCHESTER</td>\n",
       "      <td>MA</td>\n",
       "    </tr>\n",
       "    <tr>\n",
       "      <th>2935</th>\n",
       "      <td>DUDLEY</td>\n",
       "      <td>MA</td>\n",
       "    </tr>\n",
       "    <tr>\n",
       "      <th>2976</th>\n",
       "      <td>EAST BOSTON</td>\n",
       "      <td>MA</td>\n",
       "    </tr>\n",
       "    <tr>\n",
       "      <th>...</th>\n",
       "      <td>...</td>\n",
       "      <td>...</td>\n",
       "    </tr>\n",
       "    <tr>\n",
       "      <th>7460</th>\n",
       "      <td>SALEM</td>\n",
       "      <td>MA</td>\n",
       "    </tr>\n",
       "    <tr>\n",
       "      <th>7504</th>\n",
       "      <td>SALISBURY</td>\n",
       "      <td>MA</td>\n",
       "    </tr>\n",
       "    <tr>\n",
       "      <th>7522</th>\n",
       "      <td>SAUGUS</td>\n",
       "      <td>MA</td>\n",
       "    </tr>\n",
       "    <tr>\n",
       "      <th>7664</th>\n",
       "      <td>SHIRLEY</td>\n",
       "      <td>MA</td>\n",
       "    </tr>\n",
       "    <tr>\n",
       "      <th>7671</th>\n",
       "      <td>SOMERVILLE</td>\n",
       "      <td>MA</td>\n",
       "    </tr>\n",
       "    <tr>\n",
       "      <th>7754</th>\n",
       "      <td>SOUTH BOSTON</td>\n",
       "      <td>MA</td>\n",
       "    </tr>\n",
       "    <tr>\n",
       "      <th>7818</th>\n",
       "      <td>SOUTHBRIDGE</td>\n",
       "      <td>MA</td>\n",
       "    </tr>\n",
       "    <tr>\n",
       "      <th>7876</th>\n",
       "      <td>SPENCER</td>\n",
       "      <td>MA</td>\n",
       "    </tr>\n",
       "    <tr>\n",
       "      <th>7888</th>\n",
       "      <td>STONEHAM</td>\n",
       "      <td>MA</td>\n",
       "    </tr>\n",
       "    <tr>\n",
       "      <th>7964</th>\n",
       "      <td>SUDBURY</td>\n",
       "      <td>MA</td>\n",
       "    </tr>\n",
       "    <tr>\n",
       "      <th>8103</th>\n",
       "      <td>SWAMPSCOTT</td>\n",
       "      <td>MA</td>\n",
       "    </tr>\n",
       "    <tr>\n",
       "      <th>8188</th>\n",
       "      <td>SWIFTS BEACH</td>\n",
       "      <td>MA</td>\n",
       "    </tr>\n",
       "    <tr>\n",
       "      <th>8189</th>\n",
       "      <td>TOPSFIELD</td>\n",
       "      <td>MA</td>\n",
       "    </tr>\n",
       "    <tr>\n",
       "      <th>8206</th>\n",
       "      <td>WAKEFIELD</td>\n",
       "      <td>MA</td>\n",
       "    </tr>\n",
       "    <tr>\n",
       "      <th>8212</th>\n",
       "      <td>WALTHAM</td>\n",
       "      <td>MA</td>\n",
       "    </tr>\n",
       "    <tr>\n",
       "      <th>8427</th>\n",
       "      <td>WARREN</td>\n",
       "      <td>MA</td>\n",
       "    </tr>\n",
       "    <tr>\n",
       "      <th>8444</th>\n",
       "      <td>WATERTOWN</td>\n",
       "      <td>MA</td>\n",
       "    </tr>\n",
       "    <tr>\n",
       "      <th>8567</th>\n",
       "      <td>WAYLAND</td>\n",
       "      <td>MA</td>\n",
       "    </tr>\n",
       "    <tr>\n",
       "      <th>8679</th>\n",
       "      <td>WEBSTER</td>\n",
       "      <td>MA</td>\n",
       "    </tr>\n",
       "    <tr>\n",
       "      <th>8717</th>\n",
       "      <td>WELLESLEY</td>\n",
       "      <td>MA</td>\n",
       "    </tr>\n",
       "    <tr>\n",
       "      <th>8978</th>\n",
       "      <td>WENHAM</td>\n",
       "      <td>MA</td>\n",
       "    </tr>\n",
       "    <tr>\n",
       "      <th>8983</th>\n",
       "      <td>WEST BROOKFIELD</td>\n",
       "      <td>MA</td>\n",
       "    </tr>\n",
       "    <tr>\n",
       "      <th>9007</th>\n",
       "      <td>WEST NEWBURY</td>\n",
       "      <td>MA</td>\n",
       "    </tr>\n",
       "    <tr>\n",
       "      <th>9008</th>\n",
       "      <td>WEST ROXBURY</td>\n",
       "      <td>MA</td>\n",
       "    </tr>\n",
       "    <tr>\n",
       "      <th>9230</th>\n",
       "      <td>WESTON</td>\n",
       "      <td>MA</td>\n",
       "    </tr>\n",
       "    <tr>\n",
       "      <th>9405</th>\n",
       "      <td>WEYMOUTH</td>\n",
       "      <td>MA</td>\n",
       "    </tr>\n",
       "    <tr>\n",
       "      <th>9696</th>\n",
       "      <td>WHITMAN</td>\n",
       "      <td>MA</td>\n",
       "    </tr>\n",
       "    <tr>\n",
       "      <th>9772</th>\n",
       "      <td>WINCHESTER</td>\n",
       "      <td>MA</td>\n",
       "    </tr>\n",
       "    <tr>\n",
       "      <th>9883</th>\n",
       "      <td>WINTHROP</td>\n",
       "      <td>MA</td>\n",
       "    </tr>\n",
       "    <tr>\n",
       "      <th>9930</th>\n",
       "      <td>WOBURN</td>\n",
       "      <td>MA</td>\n",
       "    </tr>\n",
       "  </tbody>\n",
       "</table>\n",
       "<p>107 rows × 2 columns</p>\n",
       "</div>"
      ],
      "text/plain": [
       "                 Town State\n",
       "0            ABINGTON    MA\n",
       "44              ACTON    MA\n",
       "264          AMESBURY    MA\n",
       "280         ARLINGTON    MA\n",
       "593              AYER    MA\n",
       "625           BEDFORD    MA\n",
       "711           BELMONT    MA\n",
       "823           BEVERLY    MA\n",
       "950            BOSTON    MA\n",
       "1243       BOXBOROUGH    MA\n",
       "1248          BOXFORD    MA\n",
       "1262        BRAINTREE    MA\n",
       "1426         BREWSTER    MA\n",
       "1427         BRIGHTON    MA\n",
       "1568       BROOKFIELD    MA\n",
       "1585        BROOKLINE    MA\n",
       "1860       BURLINGTON    MA\n",
       "1952          BYFIELD    MA\n",
       "1957        CAMBRIDGE    MA\n",
       "1959         CARLISLE    MA\n",
       "1978      CENTERVILLE    MA\n",
       "1979      CHARLESTOWN    MA\n",
       "2011          CHELSEA    MA\n",
       "2076          CLINTON    MA\n",
       "2095         COHASSET    MA\n",
       "2185          CONCORD    MA\n",
       "2330          DANVERS    MA\n",
       "2421       DORCHESTER    MA\n",
       "2935           DUDLEY    MA\n",
       "2976      EAST BOSTON    MA\n",
       "...               ...   ...\n",
       "7460            SALEM    MA\n",
       "7504        SALISBURY    MA\n",
       "7522           SAUGUS    MA\n",
       "7664          SHIRLEY    MA\n",
       "7671       SOMERVILLE    MA\n",
       "7754     SOUTH BOSTON    MA\n",
       "7818      SOUTHBRIDGE    MA\n",
       "7876          SPENCER    MA\n",
       "7888         STONEHAM    MA\n",
       "7964          SUDBURY    MA\n",
       "8103       SWAMPSCOTT    MA\n",
       "8188     SWIFTS BEACH    MA\n",
       "8189        TOPSFIELD    MA\n",
       "8206        WAKEFIELD    MA\n",
       "8212          WALTHAM    MA\n",
       "8427           WARREN    MA\n",
       "8444        WATERTOWN    MA\n",
       "8567          WAYLAND    MA\n",
       "8679          WEBSTER    MA\n",
       "8717        WELLESLEY    MA\n",
       "8978           WENHAM    MA\n",
       "8983  WEST BROOKFIELD    MA\n",
       "9007     WEST NEWBURY    MA\n",
       "9008     WEST ROXBURY    MA\n",
       "9230           WESTON    MA\n",
       "9405         WEYMOUTH    MA\n",
       "9696          WHITMAN    MA\n",
       "9772       WINCHESTER    MA\n",
       "9883         WINTHROP    MA\n",
       "9930           WOBURN    MA\n",
       "\n",
       "[107 rows x 2 columns]"
      ]
     },
     "execution_count": 103,
     "metadata": {},
     "output_type": "execute_result"
    }
   ],
   "source": [
    "gasleaks_unique\n",
    "# find the row 2976-- then check for that in zipcode- probably missing.\n",
    "\n",
    "# IndexError: ('list index out of range', 'occurred at index 2976')\n",
    "\n"
   ]
  },
  {
   "cell_type": "code",
   "execution_count": 102,
   "metadata": {},
   "outputs": [],
   "source": [
    "#gasleaks_unique[\"zipcode\"] = gasleaks_unique.apply(lookup, axis = 1)\n",
    "\n",
    "# IndexError: ('list index out of range', 'occurred at index 2976')"
   ]
  },
  {
   "cell_type": "code",
   "execution_count": 101,
   "metadata": {},
   "outputs": [
    {
     "name": "stdout",
     "output_type": "stream",
     "text": [
      "Error: (\"lookup() missing 1 required positional argument: 'state'\", 'occurred at index 0')\n",
      "End program\n"
     ]
    }
   ],
   "source": [
    "#\n",
    "# Try to:\n",
    "try:\n",
    "    # Print scores\n",
    "    gasleaks_unique[\"zipcode\"] = gasleaks_unique.apply(lookup, axis = 1)\n",
    "# If you get an error, set the error as 'e',\n",
    "except Exception as e:\n",
    "    # print the error, e\n",
    "    print('Error:', e)\n",
    "# Then,\n",
    "finally:\n",
    "    # print end program\n",
    "    print('End program')\n"
   ]
  },
  {
   "cell_type": "code",
   "execution_count": 105,
   "metadata": {},
   "outputs": [
    {
     "name": "stdout",
     "output_type": "stream",
     "text": [
      "Error: (\"lookup() missing 1 required positional argument: 'state'\", 'occurred at index 0')\n",
      "End program\n"
     ]
    }
   ],
   "source": [
    "#\n",
    "# Try to:\n",
    "try:\n",
    "    # Print scores\n",
    "    gasleaks[\"zipcode\"] = gasleaks.apply(lookup, axis = 1)\n",
    "# If you get an error, set the error as 'e',\n",
    "except Exception as e:\n",
    "    # print the error, e\n",
    "    print('Error:', e)\n",
    "# Then,\n",
    "finally:\n",
    "    # print end program\n",
    "    print('End program')\n"
   ]
  },
  {
   "cell_type": "markdown",
   "metadata": {},
   "source": [
    "Error: (\"lookup() missing 1 required positional argument: 'state'\", 'occurred at index 0')\n",
    "End program\n",
    "\n",
    "\n",
    "Why stopping now?\n",
    "Not full list of columns-- how to deduplicate--- and still keep the other columns?"
   ]
  },
  {
   "cell_type": "code",
   "execution_count": 47,
   "metadata": {},
   "outputs": [
    {
     "ename": "SyntaxError",
     "evalue": "can't assign to function call (<ipython-input-47-3aaab8084fe1>, line 1)",
     "output_type": "error",
     "traceback": [
      "\u001b[0;36m  File \u001b[0;32m\"<ipython-input-47-3aaab8084fe1>\"\u001b[0;36m, line \u001b[0;32m1\u001b[0m\n\u001b[0;31m    townstate(\"zipcode\") = townstate.apply(lookup, axis = 1)\u001b[0m\n\u001b[0m                                                            ^\u001b[0m\n\u001b[0;31mSyntaxError\u001b[0m\u001b[0;31m:\u001b[0m can't assign to function call\n"
     ]
    }
   ],
   "source": [
    "#townstate(\"zipcode\") = townstate.apply(lookup, axis = 1)"
   ]
  },
  {
   "cell_type": "markdown",
   "metadata": {},
   "source": [
    "else --- print town name"
   ]
  },
  {
   "cell_type": "code",
   "execution_count": null,
   "metadata": {},
   "outputs": [],
   "source": []
  },
  {
   "cell_type": "code",
   "execution_count": null,
   "metadata": {},
   "outputs": [],
   "source": []
  },
  {
   "cell_type": "code",
   "execution_count": null,
   "metadata": {},
   "outputs": [],
   "source": []
  },
  {
   "cell_type": "markdown",
   "metadata": {},
   "source": [
    "https://chrisalbon.com/python/data_wrangling/pandas_create_column_with_loop/"
   ]
  },
  {
   "cell_type": "markdown",
   "metadata": {},
   "source": [
    "#### For Loop in Pandas--- not the most recommended way"
   ]
  },
  {
   "cell_type": "code",
   "execution_count": 46,
   "metadata": {},
   "outputs": [],
   "source": [
    "# Create a list to store the data\n",
    "addzipinfo = []\n",
    "\n",
    "# For each row in the column,\n",
    "for row in gasleaks['Town']:\n",
    "    # if more than a value,\n",
    "    if row == \"ABINGTON\":\n",
    "        # Append a letter grade\n",
    "        addzipinfo.append('Jack')\n",
    "\n",
    "    # otherwise,\n",
    "    else:\n",
    "        # Append a failing grade\n",
    "        addzipinfo.append('No first name')\n",
    "        \n",
    "# Create a column from the list\n",
    "gasleaks['zipcode'] = addzipinfo"
   ]
  },
  {
   "cell_type": "code",
   "execution_count": 47,
   "metadata": {},
   "outputs": [
    {
     "data": {
      "text/html": [
       "<div>\n",
       "<style scoped>\n",
       "    .dataframe tbody tr th:only-of-type {\n",
       "        vertical-align: middle;\n",
       "    }\n",
       "\n",
       "    .dataframe tbody tr th {\n",
       "        vertical-align: top;\n",
       "    }\n",
       "\n",
       "    .dataframe thead th {\n",
       "        text-align: right;\n",
       "    }\n",
       "</style>\n",
       "<table border=\"1\" class=\"dataframe\">\n",
       "  <thead>\n",
       "    <tr style=\"text-align: right;\">\n",
       "      <th></th>\n",
       "      <th>f</th>\n",
       "      <th>ReportedAddress</th>\n",
       "      <th>CrossStreet</th>\n",
       "      <th>Town</th>\n",
       "      <th>State</th>\n",
       "      <th>concate</th>\n",
       "      <th>ReportedDate</th>\n",
       "      <th>Endingleakgrade</th>\n",
       "      <th>Endingleakgradenumber</th>\n",
       "      <th>zipcode</th>\n",
       "    </tr>\n",
       "  </thead>\n",
       "  <tbody>\n",
       "    <tr>\n",
       "      <th>0</th>\n",
       "      <td>6015776</td>\n",
       "      <td>1070 BEDFORD ST</td>\n",
       "      <td>NaN</td>\n",
       "      <td>ABINGTON</td>\n",
       "      <td>MA</td>\n",
       "      <td>1070 BEDFORD ST ABINGTON, MA</td>\n",
       "      <td>9/9/2015</td>\n",
       "      <td>3</td>\n",
       "      <td>3</td>\n",
       "      <td>Jack</td>\n",
       "    </tr>\n",
       "    <tr>\n",
       "      <th>1</th>\n",
       "      <td>1505591</td>\n",
       "      <td>11 ADLEY DR</td>\n",
       "      <td>NaN</td>\n",
       "      <td>ABINGTON</td>\n",
       "      <td>MA</td>\n",
       "      <td>11 ADLEY DR ABINGTON, MA</td>\n",
       "      <td>9/26/2013</td>\n",
       "      <td>3</td>\n",
       "      <td>3</td>\n",
       "      <td>Jack</td>\n",
       "    </tr>\n",
       "    <tr>\n",
       "      <th>2</th>\n",
       "      <td>7333066</td>\n",
       "      <td>123 CATHERINE DR</td>\n",
       "      <td>NaN</td>\n",
       "      <td>ABINGTON</td>\n",
       "      <td>MA</td>\n",
       "      <td>123 CATHERINE DR ABINGTON, MA</td>\n",
       "      <td>4/5/2017</td>\n",
       "      <td>3</td>\n",
       "      <td>3</td>\n",
       "      <td>Jack</td>\n",
       "    </tr>\n",
       "    <tr>\n",
       "      <th>3</th>\n",
       "      <td>7321083</td>\n",
       "      <td>1233 WASHINGTON ST</td>\n",
       "      <td>NaN</td>\n",
       "      <td>ABINGTON</td>\n",
       "      <td>MA</td>\n",
       "      <td>1233 WASHINGTON ST ABINGTON, MA</td>\n",
       "      <td>9/10/2015</td>\n",
       "      <td>3</td>\n",
       "      <td>3</td>\n",
       "      <td>Jack</td>\n",
       "    </tr>\n",
       "    <tr>\n",
       "      <th>4</th>\n",
       "      <td>251670</td>\n",
       "      <td>1241 WASHINGTON ST</td>\n",
       "      <td>NaN</td>\n",
       "      <td>ABINGTON</td>\n",
       "      <td>MA</td>\n",
       "      <td>1241 WASHINGTON ST ABINGTON, MA</td>\n",
       "      <td>9/26/2003</td>\n",
       "      <td>3</td>\n",
       "      <td>3</td>\n",
       "      <td>Jack</td>\n",
       "    </tr>\n",
       "    <tr>\n",
       "      <th>5</th>\n",
       "      <td>7323314</td>\n",
       "      <td>138 RANDOLPH ST</td>\n",
       "      <td>NaN</td>\n",
       "      <td>ABINGTON</td>\n",
       "      <td>MA</td>\n",
       "      <td>138 RANDOLPH ST ABINGTON, MA</td>\n",
       "      <td>8/1/2014</td>\n",
       "      <td>3</td>\n",
       "      <td>3</td>\n",
       "      <td>Jack</td>\n",
       "    </tr>\n",
       "    <tr>\n",
       "      <th>6</th>\n",
       "      <td>7337464</td>\n",
       "      <td>140 CHESTNUT ST</td>\n",
       "      <td>NaN</td>\n",
       "      <td>ABINGTON</td>\n",
       "      <td>MA</td>\n",
       "      <td>140 CHESTNUT ST ABINGTON, MA</td>\n",
       "      <td>8/14/2017</td>\n",
       "      <td>3</td>\n",
       "      <td>3</td>\n",
       "      <td>Jack</td>\n",
       "    </tr>\n",
       "    <tr>\n",
       "      <th>7</th>\n",
       "      <td>1740971</td>\n",
       "      <td>141 CHAPEL ST</td>\n",
       "      <td>NaN</td>\n",
       "      <td>ABINGTON</td>\n",
       "      <td>MA</td>\n",
       "      <td>141 CHAPEL ST ABINGTON, MA</td>\n",
       "      <td>9/3/2014</td>\n",
       "      <td>3</td>\n",
       "      <td>3</td>\n",
       "      <td>Jack</td>\n",
       "    </tr>\n",
       "    <tr>\n",
       "      <th>8</th>\n",
       "      <td>2950638</td>\n",
       "      <td>16 HARRISON AVE</td>\n",
       "      <td>NaN</td>\n",
       "      <td>ABINGTON</td>\n",
       "      <td>MA</td>\n",
       "      <td>16 HARRISON AVE ABINGTON, MA</td>\n",
       "      <td>1/31/2015</td>\n",
       "      <td>3</td>\n",
       "      <td>3</td>\n",
       "      <td>Jack</td>\n",
       "    </tr>\n",
       "    <tr>\n",
       "      <th>9</th>\n",
       "      <td>851846</td>\n",
       "      <td>177 CENTRAL ST</td>\n",
       "      <td>NaN</td>\n",
       "      <td>ABINGTON</td>\n",
       "      <td>MA</td>\n",
       "      <td>177 CENTRAL ST ABINGTON, MA</td>\n",
       "      <td>4/18/2012</td>\n",
       "      <td>3</td>\n",
       "      <td>3</td>\n",
       "      <td>Jack</td>\n",
       "    </tr>\n",
       "    <tr>\n",
       "      <th>10</th>\n",
       "      <td>1505600</td>\n",
       "      <td>177 MARGARET RD</td>\n",
       "      <td>NaN</td>\n",
       "      <td>ABINGTON</td>\n",
       "      <td>MA</td>\n",
       "      <td>177 MARGARET RD ABINGTON, MA</td>\n",
       "      <td>9/26/2013</td>\n",
       "      <td>3</td>\n",
       "      <td>3</td>\n",
       "      <td>Jack</td>\n",
       "    </tr>\n",
       "    <tr>\n",
       "      <th>11</th>\n",
       "      <td>321520</td>\n",
       "      <td>18 WASHINGTON ST</td>\n",
       "      <td>NaN</td>\n",
       "      <td>ABINGTON</td>\n",
       "      <td>MA</td>\n",
       "      <td>18 WASHINGTON ST ABINGTON, MA</td>\n",
       "      <td>4/14/2009</td>\n",
       "      <td>3</td>\n",
       "      <td>3</td>\n",
       "      <td>Jack</td>\n",
       "    </tr>\n",
       "    <tr>\n",
       "      <th>12</th>\n",
       "      <td>235571</td>\n",
       "      <td>21 WALKER LN</td>\n",
       "      <td>NaN</td>\n",
       "      <td>ABINGTON</td>\n",
       "      <td>MA</td>\n",
       "      <td>21 WALKER LN ABINGTON, MA</td>\n",
       "      <td>9/10/2002</td>\n",
       "      <td>3</td>\n",
       "      <td>3</td>\n",
       "      <td>Jack</td>\n",
       "    </tr>\n",
       "    <tr>\n",
       "      <th>13</th>\n",
       "      <td>7345234</td>\n",
       "      <td>222 LINWOOD ST</td>\n",
       "      <td>NaN</td>\n",
       "      <td>ABINGTON</td>\n",
       "      <td>MA</td>\n",
       "      <td>222 LINWOOD ST ABINGTON, MA</td>\n",
       "      <td>6/28/2018</td>\n",
       "      <td>3</td>\n",
       "      <td>3</td>\n",
       "      <td>Jack</td>\n",
       "    </tr>\n",
       "    <tr>\n",
       "      <th>14</th>\n",
       "      <td>303321</td>\n",
       "      <td>238 WASHINGTON ST</td>\n",
       "      <td>NaN</td>\n",
       "      <td>ABINGTON</td>\n",
       "      <td>MA</td>\n",
       "      <td>238 WASHINGTON ST ABINGTON, MA</td>\n",
       "      <td>8/8/2007</td>\n",
       "      <td>3</td>\n",
       "      <td>3</td>\n",
       "      <td>Jack</td>\n",
       "    </tr>\n",
       "    <tr>\n",
       "      <th>15</th>\n",
       "      <td>7323312</td>\n",
       "      <td>240 NORTH AVE</td>\n",
       "      <td>NaN</td>\n",
       "      <td>ABINGTON</td>\n",
       "      <td>MA</td>\n",
       "      <td>240 NORTH AVE ABINGTON, MA</td>\n",
       "      <td>8/19/2014</td>\n",
       "      <td>3</td>\n",
       "      <td>3</td>\n",
       "      <td>Jack</td>\n",
       "    </tr>\n",
       "    <tr>\n",
       "      <th>16</th>\n",
       "      <td>7323307</td>\n",
       "      <td>262 ADAMS ST</td>\n",
       "      <td>NaN</td>\n",
       "      <td>ABINGTON</td>\n",
       "      <td>MA</td>\n",
       "      <td>262 ADAMS ST ABINGTON, MA</td>\n",
       "      <td>8/19/2014</td>\n",
       "      <td>3</td>\n",
       "      <td>3</td>\n",
       "      <td>Jack</td>\n",
       "    </tr>\n",
       "    <tr>\n",
       "      <th>17</th>\n",
       "      <td>266424</td>\n",
       "      <td>27 HIGHLAND ST</td>\n",
       "      <td>NaN</td>\n",
       "      <td>ABINGTON</td>\n",
       "      <td>MA</td>\n",
       "      <td>27 HIGHLAND ST ABINGTON, MA</td>\n",
       "      <td>9/30/2004</td>\n",
       "      <td>3</td>\n",
       "      <td>3</td>\n",
       "      <td>Jack</td>\n",
       "    </tr>\n",
       "    <tr>\n",
       "      <th>18</th>\n",
       "      <td>7323315</td>\n",
       "      <td>27 ROCKLAND ST</td>\n",
       "      <td>NaN</td>\n",
       "      <td>ABINGTON</td>\n",
       "      <td>MA</td>\n",
       "      <td>27 ROCKLAND ST ABINGTON, MA</td>\n",
       "      <td>9/10/2014</td>\n",
       "      <td>3</td>\n",
       "      <td>3</td>\n",
       "      <td>Jack</td>\n",
       "    </tr>\n",
       "    <tr>\n",
       "      <th>19</th>\n",
       "      <td>7349726</td>\n",
       "      <td>32 ASHLAND ST</td>\n",
       "      <td>NaN</td>\n",
       "      <td>ABINGTON</td>\n",
       "      <td>MA</td>\n",
       "      <td>32 ASHLAND ST ABINGTON, MA</td>\n",
       "      <td>12/1/2018</td>\n",
       "      <td>3</td>\n",
       "      <td>3</td>\n",
       "      <td>Jack</td>\n",
       "    </tr>\n",
       "    <tr>\n",
       "      <th>20</th>\n",
       "      <td>7324345</td>\n",
       "      <td>32 CLIFF ST</td>\n",
       "      <td>NaN</td>\n",
       "      <td>ABINGTON</td>\n",
       "      <td>MA</td>\n",
       "      <td>32 CLIFF ST ABINGTON, MA</td>\n",
       "      <td>1/12/2013</td>\n",
       "      <td>3</td>\n",
       "      <td>3</td>\n",
       "      <td>Jack</td>\n",
       "    </tr>\n",
       "    <tr>\n",
       "      <th>21</th>\n",
       "      <td>330597</td>\n",
       "      <td>383 ROCKLAND ST</td>\n",
       "      <td>NaN</td>\n",
       "      <td>ABINGTON</td>\n",
       "      <td>MA</td>\n",
       "      <td>383 ROCKLAND ST ABINGTON, MA</td>\n",
       "      <td>2/3/2010</td>\n",
       "      <td>3</td>\n",
       "      <td>3</td>\n",
       "      <td>Jack</td>\n",
       "    </tr>\n",
       "    <tr>\n",
       "      <th>22</th>\n",
       "      <td>287402</td>\n",
       "      <td>4 CHRISTIANSON CIR</td>\n",
       "      <td>NaN</td>\n",
       "      <td>ABINGTON</td>\n",
       "      <td>MA</td>\n",
       "      <td>4 CHRISTIANSON CIR ABINGTON, MA</td>\n",
       "      <td>4/20/2006</td>\n",
       "      <td>3</td>\n",
       "      <td>3</td>\n",
       "      <td>Jack</td>\n",
       "    </tr>\n",
       "    <tr>\n",
       "      <th>23</th>\n",
       "      <td>220341</td>\n",
       "      <td>4 PINE ST</td>\n",
       "      <td>NaN</td>\n",
       "      <td>ABINGTON</td>\n",
       "      <td>MA</td>\n",
       "      <td>4 PINE ST ABINGTON, MA</td>\n",
       "      <td>8/15/2001</td>\n",
       "      <td>3</td>\n",
       "      <td>3</td>\n",
       "      <td>Jack</td>\n",
       "    </tr>\n",
       "    <tr>\n",
       "      <th>24</th>\n",
       "      <td>7349727</td>\n",
       "      <td>428 HIGH ST</td>\n",
       "      <td>NaN</td>\n",
       "      <td>ABINGTON</td>\n",
       "      <td>MA</td>\n",
       "      <td>428 HIGH ST ABINGTON, MA</td>\n",
       "      <td>12/1/2018</td>\n",
       "      <td>3</td>\n",
       "      <td>3</td>\n",
       "      <td>Jack</td>\n",
       "    </tr>\n",
       "    <tr>\n",
       "      <th>25</th>\n",
       "      <td>346527</td>\n",
       "      <td>431 HANCOCK ST</td>\n",
       "      <td>NaN</td>\n",
       "      <td>ABINGTON</td>\n",
       "      <td>MA</td>\n",
       "      <td>431 HANCOCK ST ABINGTON, MA</td>\n",
       "      <td>5/10/2011</td>\n",
       "      <td>3</td>\n",
       "      <td>3</td>\n",
       "      <td>Jack</td>\n",
       "    </tr>\n",
       "    <tr>\n",
       "      <th>26</th>\n",
       "      <td>7341628</td>\n",
       "      <td>45 PEREGRINE RD</td>\n",
       "      <td>NaN</td>\n",
       "      <td>ABINGTON</td>\n",
       "      <td>MA</td>\n",
       "      <td>45 PEREGRINE RD ABINGTON, MA</td>\n",
       "      <td>2/5/2018</td>\n",
       "      <td>3</td>\n",
       "      <td>3</td>\n",
       "      <td>Jack</td>\n",
       "    </tr>\n",
       "    <tr>\n",
       "      <th>27</th>\n",
       "      <td>7327655</td>\n",
       "      <td>467 RANDOLPH ST</td>\n",
       "      <td>NaN</td>\n",
       "      <td>ABINGTON</td>\n",
       "      <td>MA</td>\n",
       "      <td>467 RANDOLPH ST ABINGTON, MA</td>\n",
       "      <td>7/13/2016</td>\n",
       "      <td>3</td>\n",
       "      <td>3</td>\n",
       "      <td>Jack</td>\n",
       "    </tr>\n",
       "    <tr>\n",
       "      <th>28</th>\n",
       "      <td>652840</td>\n",
       "      <td>533 WASHINGTON ST</td>\n",
       "      <td>NaN</td>\n",
       "      <td>ABINGTON</td>\n",
       "      <td>MA</td>\n",
       "      <td>533 WASHINGTON ST ABINGTON, MA</td>\n",
       "      <td>12/19/2011</td>\n",
       "      <td>3</td>\n",
       "      <td>3</td>\n",
       "      <td>Jack</td>\n",
       "    </tr>\n",
       "    <tr>\n",
       "      <th>29</th>\n",
       "      <td>277784</td>\n",
       "      <td>55 MARGARET RD</td>\n",
       "      <td>NaN</td>\n",
       "      <td>ABINGTON</td>\n",
       "      <td>MA</td>\n",
       "      <td>55 MARGARET RD ABINGTON, MA</td>\n",
       "      <td>8/2/2005</td>\n",
       "      <td>3</td>\n",
       "      <td>3</td>\n",
       "      <td>Jack</td>\n",
       "    </tr>\n",
       "    <tr>\n",
       "      <th>...</th>\n",
       "      <td>...</td>\n",
       "      <td>...</td>\n",
       "      <td>...</td>\n",
       "      <td>...</td>\n",
       "      <td>...</td>\n",
       "      <td>...</td>\n",
       "      <td>...</td>\n",
       "      <td>...</td>\n",
       "      <td>...</td>\n",
       "      <td>...</td>\n",
       "    </tr>\n",
       "    <tr>\n",
       "      <th>9997</th>\n",
       "      <td>7337990</td>\n",
       "      <td>45 SHERIDAN ST</td>\n",
       "      <td>NaN</td>\n",
       "      <td>WOBURN</td>\n",
       "      <td>MA</td>\n",
       "      <td>45 SHERIDAN ST WOBURN, MA</td>\n",
       "      <td>8/31/2017</td>\n",
       "      <td>3</td>\n",
       "      <td>3</td>\n",
       "      <td>No first name</td>\n",
       "    </tr>\n",
       "    <tr>\n",
       "      <th>9998</th>\n",
       "      <td>7332414</td>\n",
       "      <td>48 SALEM ST</td>\n",
       "      <td>NaN</td>\n",
       "      <td>WOBURN</td>\n",
       "      <td>MA</td>\n",
       "      <td>48 SALEM ST WOBURN, MA</td>\n",
       "      <td>2/22/2017</td>\n",
       "      <td>3</td>\n",
       "      <td>3</td>\n",
       "      <td>No first name</td>\n",
       "    </tr>\n",
       "    <tr>\n",
       "      <th>9999</th>\n",
       "      <td>7345369</td>\n",
       "      <td>485 WASHINGTON ST</td>\n",
       "      <td>NaN</td>\n",
       "      <td>WOBURN</td>\n",
       "      <td>MA</td>\n",
       "      <td>485 WASHINGTON ST WOBURN, MA</td>\n",
       "      <td>7/3/2018</td>\n",
       "      <td>3</td>\n",
       "      <td>3</td>\n",
       "      <td>No first name</td>\n",
       "    </tr>\n",
       "    <tr>\n",
       "      <th>10000</th>\n",
       "      <td>7347587</td>\n",
       "      <td>49 STURGIS ST</td>\n",
       "      <td>NaN</td>\n",
       "      <td>WOBURN</td>\n",
       "      <td>MA</td>\n",
       "      <td>49 STURGIS ST WOBURN, MA</td>\n",
       "      <td>9/25/2018</td>\n",
       "      <td>3</td>\n",
       "      <td>3</td>\n",
       "      <td>No first name</td>\n",
       "    </tr>\n",
       "    <tr>\n",
       "      <th>10001</th>\n",
       "      <td>278593</td>\n",
       "      <td>5 EXETER DR</td>\n",
       "      <td>NaN</td>\n",
       "      <td>WOBURN</td>\n",
       "      <td>MA</td>\n",
       "      <td>5 EXETER DR WOBURN, MA</td>\n",
       "      <td>8/23/2005</td>\n",
       "      <td>3</td>\n",
       "      <td>3</td>\n",
       "      <td>No first name</td>\n",
       "    </tr>\n",
       "    <tr>\n",
       "      <th>10002</th>\n",
       "      <td>7334955</td>\n",
       "      <td>5 HUDSON ST</td>\n",
       "      <td>NaN</td>\n",
       "      <td>WOBURN</td>\n",
       "      <td>MA</td>\n",
       "      <td>5 HUDSON ST WOBURN, MA</td>\n",
       "      <td>6/1/2017</td>\n",
       "      <td>3</td>\n",
       "      <td>3</td>\n",
       "      <td>No first name</td>\n",
       "    </tr>\n",
       "    <tr>\n",
       "      <th>10003</th>\n",
       "      <td>7335619</td>\n",
       "      <td>51 EATON AVE</td>\n",
       "      <td>NaN</td>\n",
       "      <td>WOBURN</td>\n",
       "      <td>MA</td>\n",
       "      <td>51 EATON AVE WOBURN, MA</td>\n",
       "      <td>6/19/2017</td>\n",
       "      <td>3</td>\n",
       "      <td>3</td>\n",
       "      <td>No first name</td>\n",
       "    </tr>\n",
       "    <tr>\n",
       "      <th>10004</th>\n",
       "      <td>7346770</td>\n",
       "      <td>52 PLEASANT ST</td>\n",
       "      <td>NaN</td>\n",
       "      <td>WOBURN</td>\n",
       "      <td>MA</td>\n",
       "      <td>52 PLEASANT ST WOBURN, MA</td>\n",
       "      <td>8/22/2018</td>\n",
       "      <td>3</td>\n",
       "      <td>3</td>\n",
       "      <td>No first name</td>\n",
       "    </tr>\n",
       "    <tr>\n",
       "      <th>10005</th>\n",
       "      <td>7346771</td>\n",
       "      <td>53 WINTER ST</td>\n",
       "      <td>NaN</td>\n",
       "      <td>WOBURN</td>\n",
       "      <td>MA</td>\n",
       "      <td>53 WINTER ST WOBURN, MA</td>\n",
       "      <td>8/24/2018</td>\n",
       "      <td>3</td>\n",
       "      <td>3</td>\n",
       "      <td>No first name</td>\n",
       "    </tr>\n",
       "    <tr>\n",
       "      <th>10006</th>\n",
       "      <td>7335353</td>\n",
       "      <td>55 KILBY ST</td>\n",
       "      <td>NaN</td>\n",
       "      <td>WOBURN</td>\n",
       "      <td>MA</td>\n",
       "      <td>55 KILBY ST WOBURN, MA</td>\n",
       "      <td>6/9/2017</td>\n",
       "      <td>3</td>\n",
       "      <td>3</td>\n",
       "      <td>No first name</td>\n",
       "    </tr>\n",
       "    <tr>\n",
       "      <th>10007</th>\n",
       "      <td>7335620</td>\n",
       "      <td>56 MISHAWUM RD</td>\n",
       "      <td>NaN</td>\n",
       "      <td>WOBURN</td>\n",
       "      <td>MA</td>\n",
       "      <td>56 MISHAWUM RD WOBURN, MA</td>\n",
       "      <td>6/15/2017</td>\n",
       "      <td>3</td>\n",
       "      <td>3</td>\n",
       "      <td>No first name</td>\n",
       "    </tr>\n",
       "    <tr>\n",
       "      <th>10008</th>\n",
       "      <td>7335355</td>\n",
       "      <td>58 KILBY ST</td>\n",
       "      <td>NaN</td>\n",
       "      <td>WOBURN</td>\n",
       "      <td>MA</td>\n",
       "      <td>58 KILBY ST WOBURN, MA</td>\n",
       "      <td>6/9/2017</td>\n",
       "      <td>3</td>\n",
       "      <td>3</td>\n",
       "      <td>No first name</td>\n",
       "    </tr>\n",
       "    <tr>\n",
       "      <th>10009</th>\n",
       "      <td>7348404</td>\n",
       "      <td>59 LOWELL ST</td>\n",
       "      <td>NaN</td>\n",
       "      <td>WOBURN</td>\n",
       "      <td>MA</td>\n",
       "      <td>59 LOWELL ST WOBURN, MA</td>\n",
       "      <td>10/20/2018</td>\n",
       "      <td>2</td>\n",
       "      <td>2</td>\n",
       "      <td>No first name</td>\n",
       "    </tr>\n",
       "    <tr>\n",
       "      <th>10010</th>\n",
       "      <td>233814</td>\n",
       "      <td>6 PARKER ST</td>\n",
       "      <td>NaN</td>\n",
       "      <td>WOBURN</td>\n",
       "      <td>MA</td>\n",
       "      <td>6 PARKER ST WOBURN, MA</td>\n",
       "      <td>8/6/2002</td>\n",
       "      <td>3</td>\n",
       "      <td>3</td>\n",
       "      <td>No first name</td>\n",
       "    </tr>\n",
       "    <tr>\n",
       "      <th>10011</th>\n",
       "      <td>7346786</td>\n",
       "      <td>6 SURREY RD</td>\n",
       "      <td>NaN</td>\n",
       "      <td>WOBURN</td>\n",
       "      <td>MA</td>\n",
       "      <td>6 SURREY RD WOBURN, MA</td>\n",
       "      <td>9/5/2018</td>\n",
       "      <td>3</td>\n",
       "      <td>3</td>\n",
       "      <td>No first name</td>\n",
       "    </tr>\n",
       "    <tr>\n",
       "      <th>10012</th>\n",
       "      <td>7338002</td>\n",
       "      <td>61 BEDFORD RD</td>\n",
       "      <td>NaN</td>\n",
       "      <td>WOBURN</td>\n",
       "      <td>MA</td>\n",
       "      <td>61 BEDFORD RD WOBURN, MA</td>\n",
       "      <td>8/30/2017</td>\n",
       "      <td>3</td>\n",
       "      <td>3</td>\n",
       "      <td>No first name</td>\n",
       "    </tr>\n",
       "    <tr>\n",
       "      <th>10013</th>\n",
       "      <td>7336629</td>\n",
       "      <td>69 MOUNT PLEASANT ST</td>\n",
       "      <td>NaN</td>\n",
       "      <td>WOBURN</td>\n",
       "      <td>MA</td>\n",
       "      <td>69 MOUNT PLEASANT ST WOBURN, MA</td>\n",
       "      <td>6/8/2017</td>\n",
       "      <td>3</td>\n",
       "      <td>3</td>\n",
       "      <td>No first name</td>\n",
       "    </tr>\n",
       "    <tr>\n",
       "      <th>10014</th>\n",
       "      <td>1175995</td>\n",
       "      <td>7 ALFRED ST</td>\n",
       "      <td>NaN</td>\n",
       "      <td>WOBURN</td>\n",
       "      <td>MA</td>\n",
       "      <td>7 ALFRED ST WOBURN, MA</td>\n",
       "      <td>3/27/2013</td>\n",
       "      <td>3</td>\n",
       "      <td>3</td>\n",
       "      <td>No first name</td>\n",
       "    </tr>\n",
       "    <tr>\n",
       "      <th>10015</th>\n",
       "      <td>7334922</td>\n",
       "      <td>70 WARREN AVE</td>\n",
       "      <td>NaN</td>\n",
       "      <td>WOBURN</td>\n",
       "      <td>MA</td>\n",
       "      <td>70 WARREN AVE WOBURN, MA</td>\n",
       "      <td>6/2/2017</td>\n",
       "      <td>3</td>\n",
       "      <td>3</td>\n",
       "      <td>No first name</td>\n",
       "    </tr>\n",
       "    <tr>\n",
       "      <th>10016</th>\n",
       "      <td>7334953</td>\n",
       "      <td>71 ARLINGTON RD</td>\n",
       "      <td>NaN</td>\n",
       "      <td>WOBURN</td>\n",
       "      <td>MA</td>\n",
       "      <td>71 ARLINGTON RD WOBURN, MA</td>\n",
       "      <td>5/31/2017</td>\n",
       "      <td>3</td>\n",
       "      <td>3</td>\n",
       "      <td>No first name</td>\n",
       "    </tr>\n",
       "    <tr>\n",
       "      <th>10017</th>\n",
       "      <td>7345415</td>\n",
       "      <td>71 WASHINGTON ST</td>\n",
       "      <td>NaN</td>\n",
       "      <td>WOBURN</td>\n",
       "      <td>MA</td>\n",
       "      <td>71 WASHINGTON ST WOBURN, MA</td>\n",
       "      <td>7/6/2018</td>\n",
       "      <td>3</td>\n",
       "      <td>3</td>\n",
       "      <td>No first name</td>\n",
       "    </tr>\n",
       "    <tr>\n",
       "      <th>10018</th>\n",
       "      <td>7342943</td>\n",
       "      <td>73 PLEASANT ST</td>\n",
       "      <td>NaN</td>\n",
       "      <td>WOBURN</td>\n",
       "      <td>MA</td>\n",
       "      <td>73 PLEASANT ST WOBURN, MA</td>\n",
       "      <td>4/10/2018</td>\n",
       "      <td>2</td>\n",
       "      <td>2</td>\n",
       "      <td>No first name</td>\n",
       "    </tr>\n",
       "    <tr>\n",
       "      <th>10019</th>\n",
       "      <td>277423</td>\n",
       "      <td>75 MONTVALE AV</td>\n",
       "      <td>NaN</td>\n",
       "      <td>WOBURN</td>\n",
       "      <td>MA</td>\n",
       "      <td>75 MONTVALE AV WOBURN, MA</td>\n",
       "      <td>7/26/2005</td>\n",
       "      <td>3</td>\n",
       "      <td>3</td>\n",
       "      <td>No first name</td>\n",
       "    </tr>\n",
       "    <tr>\n",
       "      <th>10020</th>\n",
       "      <td>7348022</td>\n",
       "      <td>76 MISHAWUM RD</td>\n",
       "      <td>NaN</td>\n",
       "      <td>WOBURN</td>\n",
       "      <td>MA</td>\n",
       "      <td>76 MISHAWUM RD WOBURN, MA</td>\n",
       "      <td>10/10/2018</td>\n",
       "      <td>3</td>\n",
       "      <td>3</td>\n",
       "      <td>No first name</td>\n",
       "    </tr>\n",
       "    <tr>\n",
       "      <th>10021</th>\n",
       "      <td>7334690</td>\n",
       "      <td>76 MOUNT PLEASANT ST</td>\n",
       "      <td>NaN</td>\n",
       "      <td>WOBURN</td>\n",
       "      <td>MA</td>\n",
       "      <td>76 MOUNT PLEASANT ST WOBURN, MA</td>\n",
       "      <td>5/25/2017</td>\n",
       "      <td>3</td>\n",
       "      <td>3</td>\n",
       "      <td>No first name</td>\n",
       "    </tr>\n",
       "    <tr>\n",
       "      <th>10022</th>\n",
       "      <td>7337986</td>\n",
       "      <td>79 SCHOOL ST</td>\n",
       "      <td>NaN</td>\n",
       "      <td>WOBURN</td>\n",
       "      <td>MA</td>\n",
       "      <td>79 SCHOOL ST WOBURN, MA</td>\n",
       "      <td>8/25/2017</td>\n",
       "      <td>3</td>\n",
       "      <td>3</td>\n",
       "      <td>No first name</td>\n",
       "    </tr>\n",
       "    <tr>\n",
       "      <th>10023</th>\n",
       "      <td>7348019</td>\n",
       "      <td>8 MARION AVE</td>\n",
       "      <td>NaN</td>\n",
       "      <td>WOBURN</td>\n",
       "      <td>MA</td>\n",
       "      <td>8 MARION AVE WOBURN, MA</td>\n",
       "      <td>10/9/2018</td>\n",
       "      <td>3</td>\n",
       "      <td>3</td>\n",
       "      <td>No first name</td>\n",
       "    </tr>\n",
       "    <tr>\n",
       "      <th>10024</th>\n",
       "      <td>417453</td>\n",
       "      <td>9 ARLINGTON RD</td>\n",
       "      <td>NaN</td>\n",
       "      <td>WOBURN</td>\n",
       "      <td>MA</td>\n",
       "      <td>9 ARLINGTON RD WOBURN, MA</td>\n",
       "      <td>9/29/2011</td>\n",
       "      <td>3</td>\n",
       "      <td>3</td>\n",
       "      <td>No first name</td>\n",
       "    </tr>\n",
       "    <tr>\n",
       "      <th>10025</th>\n",
       "      <td>7338268</td>\n",
       "      <td>9 LYNN ST</td>\n",
       "      <td>NaN</td>\n",
       "      <td>WOBURN</td>\n",
       "      <td>MA</td>\n",
       "      <td>9 LYNN ST WOBURN, MA</td>\n",
       "      <td>9/12/2017</td>\n",
       "      <td>3</td>\n",
       "      <td>3</td>\n",
       "      <td>No first name</td>\n",
       "    </tr>\n",
       "    <tr>\n",
       "      <th>10026</th>\n",
       "      <td>7345770</td>\n",
       "      <td>94 PLEASANT ST</td>\n",
       "      <td>NaN</td>\n",
       "      <td>WOBURN</td>\n",
       "      <td>MA</td>\n",
       "      <td>94 PLEASANT ST WOBURN, MA</td>\n",
       "      <td>7/18/2018</td>\n",
       "      <td>2</td>\n",
       "      <td>2</td>\n",
       "      <td>No first name</td>\n",
       "    </tr>\n",
       "  </tbody>\n",
       "</table>\n",
       "<p>10027 rows × 10 columns</p>\n",
       "</div>"
      ],
      "text/plain": [
       "             f       ReportedAddress CrossStreet      Town State  \\\n",
       "0      6015776       1070 BEDFORD ST         NaN  ABINGTON    MA   \n",
       "1      1505591           11 ADLEY DR         NaN  ABINGTON    MA   \n",
       "2      7333066      123 CATHERINE DR         NaN  ABINGTON    MA   \n",
       "3      7321083    1233 WASHINGTON ST         NaN  ABINGTON    MA   \n",
       "4       251670    1241 WASHINGTON ST         NaN  ABINGTON    MA   \n",
       "5      7323314       138 RANDOLPH ST         NaN  ABINGTON    MA   \n",
       "6      7337464       140 CHESTNUT ST         NaN  ABINGTON    MA   \n",
       "7      1740971         141 CHAPEL ST         NaN  ABINGTON    MA   \n",
       "8      2950638       16 HARRISON AVE         NaN  ABINGTON    MA   \n",
       "9       851846        177 CENTRAL ST         NaN  ABINGTON    MA   \n",
       "10     1505600       177 MARGARET RD         NaN  ABINGTON    MA   \n",
       "11      321520      18 WASHINGTON ST         NaN  ABINGTON    MA   \n",
       "12      235571          21 WALKER LN         NaN  ABINGTON    MA   \n",
       "13     7345234        222 LINWOOD ST         NaN  ABINGTON    MA   \n",
       "14      303321     238 WASHINGTON ST         NaN  ABINGTON    MA   \n",
       "15     7323312         240 NORTH AVE         NaN  ABINGTON    MA   \n",
       "16     7323307          262 ADAMS ST         NaN  ABINGTON    MA   \n",
       "17      266424        27 HIGHLAND ST         NaN  ABINGTON    MA   \n",
       "18     7323315        27 ROCKLAND ST         NaN  ABINGTON    MA   \n",
       "19     7349726         32 ASHLAND ST         NaN  ABINGTON    MA   \n",
       "20     7324345           32 CLIFF ST         NaN  ABINGTON    MA   \n",
       "21      330597       383 ROCKLAND ST         NaN  ABINGTON    MA   \n",
       "22      287402    4 CHRISTIANSON CIR         NaN  ABINGTON    MA   \n",
       "23      220341             4 PINE ST         NaN  ABINGTON    MA   \n",
       "24     7349727           428 HIGH ST         NaN  ABINGTON    MA   \n",
       "25      346527        431 HANCOCK ST         NaN  ABINGTON    MA   \n",
       "26     7341628       45 PEREGRINE RD         NaN  ABINGTON    MA   \n",
       "27     7327655       467 RANDOLPH ST         NaN  ABINGTON    MA   \n",
       "28      652840     533 WASHINGTON ST         NaN  ABINGTON    MA   \n",
       "29      277784        55 MARGARET RD         NaN  ABINGTON    MA   \n",
       "...        ...                   ...         ...       ...   ...   \n",
       "9997   7337990        45 SHERIDAN ST         NaN    WOBURN    MA   \n",
       "9998   7332414           48 SALEM ST         NaN    WOBURN    MA   \n",
       "9999   7345369     485 WASHINGTON ST         NaN    WOBURN    MA   \n",
       "10000  7347587         49 STURGIS ST         NaN    WOBURN    MA   \n",
       "10001   278593           5 EXETER DR         NaN    WOBURN    MA   \n",
       "10002  7334955           5 HUDSON ST         NaN    WOBURN    MA   \n",
       "10003  7335619          51 EATON AVE         NaN    WOBURN    MA   \n",
       "10004  7346770        52 PLEASANT ST         NaN    WOBURN    MA   \n",
       "10005  7346771          53 WINTER ST         NaN    WOBURN    MA   \n",
       "10006  7335353           55 KILBY ST         NaN    WOBURN    MA   \n",
       "10007  7335620        56 MISHAWUM RD         NaN    WOBURN    MA   \n",
       "10008  7335355           58 KILBY ST         NaN    WOBURN    MA   \n",
       "10009  7348404          59 LOWELL ST         NaN    WOBURN    MA   \n",
       "10010   233814           6 PARKER ST         NaN    WOBURN    MA   \n",
       "10011  7346786           6 SURREY RD         NaN    WOBURN    MA   \n",
       "10012  7338002         61 BEDFORD RD         NaN    WOBURN    MA   \n",
       "10013  7336629  69 MOUNT PLEASANT ST         NaN    WOBURN    MA   \n",
       "10014  1175995           7 ALFRED ST         NaN    WOBURN    MA   \n",
       "10015  7334922         70 WARREN AVE         NaN    WOBURN    MA   \n",
       "10016  7334953       71 ARLINGTON RD         NaN    WOBURN    MA   \n",
       "10017  7345415      71 WASHINGTON ST         NaN    WOBURN    MA   \n",
       "10018  7342943        73 PLEASANT ST         NaN    WOBURN    MA   \n",
       "10019   277423        75 MONTVALE AV         NaN    WOBURN    MA   \n",
       "10020  7348022        76 MISHAWUM RD         NaN    WOBURN    MA   \n",
       "10021  7334690  76 MOUNT PLEASANT ST         NaN    WOBURN    MA   \n",
       "10022  7337986          79 SCHOOL ST         NaN    WOBURN    MA   \n",
       "10023  7348019          8 MARION AVE         NaN    WOBURN    MA   \n",
       "10024   417453        9 ARLINGTON RD         NaN    WOBURN    MA   \n",
       "10025  7338268             9 LYNN ST         NaN    WOBURN    MA   \n",
       "10026  7345770        94 PLEASANT ST         NaN    WOBURN    MA   \n",
       "\n",
       "                               concate ReportedDate Endingleakgrade  \\\n",
       "0         1070 BEDFORD ST ABINGTON, MA     9/9/2015               3   \n",
       "1             11 ADLEY DR ABINGTON, MA    9/26/2013               3   \n",
       "2        123 CATHERINE DR ABINGTON, MA     4/5/2017               3   \n",
       "3      1233 WASHINGTON ST ABINGTON, MA    9/10/2015               3   \n",
       "4      1241 WASHINGTON ST ABINGTON, MA    9/26/2003               3   \n",
       "5         138 RANDOLPH ST ABINGTON, MA     8/1/2014               3   \n",
       "6         140 CHESTNUT ST ABINGTON, MA    8/14/2017               3   \n",
       "7           141 CHAPEL ST ABINGTON, MA     9/3/2014               3   \n",
       "8         16 HARRISON AVE ABINGTON, MA    1/31/2015               3   \n",
       "9          177 CENTRAL ST ABINGTON, MA    4/18/2012               3   \n",
       "10        177 MARGARET RD ABINGTON, MA    9/26/2013               3   \n",
       "11       18 WASHINGTON ST ABINGTON, MA    4/14/2009               3   \n",
       "12           21 WALKER LN ABINGTON, MA    9/10/2002               3   \n",
       "13         222 LINWOOD ST ABINGTON, MA    6/28/2018               3   \n",
       "14      238 WASHINGTON ST ABINGTON, MA     8/8/2007               3   \n",
       "15          240 NORTH AVE ABINGTON, MA    8/19/2014               3   \n",
       "16           262 ADAMS ST ABINGTON, MA    8/19/2014               3   \n",
       "17         27 HIGHLAND ST ABINGTON, MA    9/30/2004               3   \n",
       "18         27 ROCKLAND ST ABINGTON, MA    9/10/2014               3   \n",
       "19          32 ASHLAND ST ABINGTON, MA    12/1/2018               3   \n",
       "20            32 CLIFF ST ABINGTON, MA    1/12/2013               3   \n",
       "21        383 ROCKLAND ST ABINGTON, MA     2/3/2010               3   \n",
       "22     4 CHRISTIANSON CIR ABINGTON, MA    4/20/2006               3   \n",
       "23              4 PINE ST ABINGTON, MA    8/15/2001               3   \n",
       "24            428 HIGH ST ABINGTON, MA    12/1/2018               3   \n",
       "25         431 HANCOCK ST ABINGTON, MA    5/10/2011               3   \n",
       "26        45 PEREGRINE RD ABINGTON, MA     2/5/2018               3   \n",
       "27        467 RANDOLPH ST ABINGTON, MA    7/13/2016               3   \n",
       "28      533 WASHINGTON ST ABINGTON, MA   12/19/2011               3   \n",
       "29         55 MARGARET RD ABINGTON, MA     8/2/2005               3   \n",
       "...                                ...          ...             ...   \n",
       "9997         45 SHERIDAN ST WOBURN, MA    8/31/2017               3   \n",
       "9998            48 SALEM ST WOBURN, MA    2/22/2017               3   \n",
       "9999      485 WASHINGTON ST WOBURN, MA     7/3/2018               3   \n",
       "10000         49 STURGIS ST WOBURN, MA    9/25/2018               3   \n",
       "10001           5 EXETER DR WOBURN, MA    8/23/2005               3   \n",
       "10002           5 HUDSON ST WOBURN, MA     6/1/2017               3   \n",
       "10003          51 EATON AVE WOBURN, MA    6/19/2017               3   \n",
       "10004        52 PLEASANT ST WOBURN, MA    8/22/2018               3   \n",
       "10005          53 WINTER ST WOBURN, MA    8/24/2018               3   \n",
       "10006           55 KILBY ST WOBURN, MA     6/9/2017               3   \n",
       "10007        56 MISHAWUM RD WOBURN, MA    6/15/2017               3   \n",
       "10008           58 KILBY ST WOBURN, MA     6/9/2017               3   \n",
       "10009          59 LOWELL ST WOBURN, MA   10/20/2018               2   \n",
       "10010           6 PARKER ST WOBURN, MA     8/6/2002               3   \n",
       "10011           6 SURREY RD WOBURN, MA     9/5/2018               3   \n",
       "10012         61 BEDFORD RD WOBURN, MA    8/30/2017               3   \n",
       "10013  69 MOUNT PLEASANT ST WOBURN, MA     6/8/2017               3   \n",
       "10014           7 ALFRED ST WOBURN, MA    3/27/2013               3   \n",
       "10015         70 WARREN AVE WOBURN, MA     6/2/2017               3   \n",
       "10016       71 ARLINGTON RD WOBURN, MA    5/31/2017               3   \n",
       "10017      71 WASHINGTON ST WOBURN, MA     7/6/2018               3   \n",
       "10018        73 PLEASANT ST WOBURN, MA    4/10/2018               2   \n",
       "10019        75 MONTVALE AV WOBURN, MA    7/26/2005               3   \n",
       "10020        76 MISHAWUM RD WOBURN, MA   10/10/2018               3   \n",
       "10021  76 MOUNT PLEASANT ST WOBURN, MA    5/25/2017               3   \n",
       "10022          79 SCHOOL ST WOBURN, MA    8/25/2017               3   \n",
       "10023          8 MARION AVE WOBURN, MA    10/9/2018               3   \n",
       "10024        9 ARLINGTON RD WOBURN, MA    9/29/2011               3   \n",
       "10025             9 LYNN ST WOBURN, MA    9/12/2017               3   \n",
       "10026        94 PLEASANT ST WOBURN, MA    7/18/2018               2   \n",
       "\n",
       "       Endingleakgradenumber        zipcode  \n",
       "0                          3           Jack  \n",
       "1                          3           Jack  \n",
       "2                          3           Jack  \n",
       "3                          3           Jack  \n",
       "4                          3           Jack  \n",
       "5                          3           Jack  \n",
       "6                          3           Jack  \n",
       "7                          3           Jack  \n",
       "8                          3           Jack  \n",
       "9                          3           Jack  \n",
       "10                         3           Jack  \n",
       "11                         3           Jack  \n",
       "12                         3           Jack  \n",
       "13                         3           Jack  \n",
       "14                         3           Jack  \n",
       "15                         3           Jack  \n",
       "16                         3           Jack  \n",
       "17                         3           Jack  \n",
       "18                         3           Jack  \n",
       "19                         3           Jack  \n",
       "20                         3           Jack  \n",
       "21                         3           Jack  \n",
       "22                         3           Jack  \n",
       "23                         3           Jack  \n",
       "24                         3           Jack  \n",
       "25                         3           Jack  \n",
       "26                         3           Jack  \n",
       "27                         3           Jack  \n",
       "28                         3           Jack  \n",
       "29                         3           Jack  \n",
       "...                      ...            ...  \n",
       "9997                       3  No first name  \n",
       "9998                       3  No first name  \n",
       "9999                       3  No first name  \n",
       "10000                      3  No first name  \n",
       "10001                      3  No first name  \n",
       "10002                      3  No first name  \n",
       "10003                      3  No first name  \n",
       "10004                      3  No first name  \n",
       "10005                      3  No first name  \n",
       "10006                      3  No first name  \n",
       "10007                      3  No first name  \n",
       "10008                      3  No first name  \n",
       "10009                      2  No first name  \n",
       "10010                      3  No first name  \n",
       "10011                      3  No first name  \n",
       "10012                      3  No first name  \n",
       "10013                      3  No first name  \n",
       "10014                      3  No first name  \n",
       "10015                      3  No first name  \n",
       "10016                      3  No first name  \n",
       "10017                      3  No first name  \n",
       "10018                      2  No first name  \n",
       "10019                      3  No first name  \n",
       "10020                      3  No first name  \n",
       "10021                      3  No first name  \n",
       "10022                      3  No first name  \n",
       "10023                      3  No first name  \n",
       "10024                      3  No first name  \n",
       "10025                      3  No first name  \n",
       "10026                      2  No first name  \n",
       "\n",
       "[10027 rows x 10 columns]"
      ]
     },
     "execution_count": 47,
     "metadata": {},
     "output_type": "execute_result"
    }
   ],
   "source": [
    "gasleaks"
   ]
  },
  {
   "cell_type": "code",
   "execution_count": null,
   "metadata": {},
   "outputs": [],
   "source": []
  },
  {
   "cell_type": "code",
   "execution_count": null,
   "metadata": {},
   "outputs": [],
   "source": []
  },
  {
   "cell_type": "code",
   "execution_count": 29,
   "metadata": {},
   "outputs": [],
   "source": [
    "res1_info = pd.DataFrame(res1)"
   ]
  },
  {
   "cell_type": "code",
   "execution_count": 30,
   "metadata": {},
   "outputs": [
    {
     "data": {
      "text/html": [
       "<div>\n",
       "<style scoped>\n",
       "    .dataframe tbody tr th:only-of-type {\n",
       "        vertical-align: middle;\n",
       "    }\n",
       "\n",
       "    .dataframe tbody tr th {\n",
       "        vertical-align: top;\n",
       "    }\n",
       "\n",
       "    .dataframe thead th {\n",
       "        text-align: right;\n",
       "    }\n",
       "</style>\n",
       "<table border=\"1\" class=\"dataframe\">\n",
       "  <thead>\n",
       "    <tr style=\"text-align: right;\">\n",
       "      <th></th>\n",
       "      <th>0</th>\n",
       "    </tr>\n",
       "  </thead>\n",
       "  <tbody>\n",
       "    <tr>\n",
       "      <th>0</th>\n",
       "      <td>SimpleZipcode(zipcode='02351', zipcode_type='S...</td>\n",
       "    </tr>\n",
       "  </tbody>\n",
       "</table>\n",
       "</div>"
      ],
      "text/plain": [
       "                                                   0\n",
       "0  SimpleZipcode(zipcode='02351', zipcode_type='S..."
      ]
     },
     "execution_count": 30,
     "metadata": {},
     "output_type": "execute_result"
    }
   ],
   "source": [
    "res1_info"
   ]
  },
  {
   "cell_type": "markdown",
   "metadata": {},
   "source": [
    "Doh! That did not work!"
   ]
  },
  {
   "cell_type": "markdown",
   "metadata": {},
   "source": [
    "https://pandas.pydata.org/pandas-docs/stable/reference/api/pandas.DataFrame.to_csv.html"
   ]
  },
  {
   "cell_type": "raw",
   "metadata": {},
   "source": [
    "DataFrame.to_csv(path_or_buf=None, sep=', ', na_rep='', float_format=None, columns=None, header=True, index=True, index_label=None, mode='w', encoding=None, compression='infer', quoting=None, quotechar='\"', line_terminator=None, chunksize=None, tupleize_cols=None, date_format=None, doublequote=True, escapechar=None, decimal='.')[source]"
   ]
  },
  {
   "cell_type": "markdown",
   "metadata": {},
   "source": [
    "https://chrisalbon.com/python/data_wrangling/pandas_saving_dataframe_as_csv/"
   ]
  },
  {
   "cell_type": "raw",
   "metadata": {},
   "source": [
    "DataFrame.to_csv(path_or_buf=None, sep=', ', na_rep='', float_format=None, columns=None, header=True, index=True, index_label=None, mode='w', encoding=None, compression='infer', quoting=None, quotechar='\"', line_terminator=None, chunksize=None, tupleize_cols=None, date_format=None, doublequote=True, escapechar=None, decimal='.')[source]"
   ]
  },
  {
   "cell_type": "code",
   "execution_count": 31,
   "metadata": {},
   "outputs": [],
   "source": [
    "res1_info.to_csv('res1_info.csv')"
   ]
  },
  {
   "cell_type": "markdown",
   "metadata": {},
   "source": [
    "Works, but then would need to do text to column an \"(\" and \")\" removal, etc. in spreadsheet."
   ]
  },
  {
   "cell_type": "markdown",
   "metadata": {},
   "source": [
    "Maybe keep it in Python and use REGEX or something else to clean it."
   ]
  },
  {
   "cell_type": "code",
   "execution_count": null,
   "metadata": {},
   "outputs": [],
   "source": []
  },
  {
   "cell_type": "markdown",
   "metadata": {},
   "source": [
    "https://pbpython.com/pandas-list-dict.html"
   ]
  },
  {
   "cell_type": "code",
   "execution_count": 32,
   "metadata": {},
   "outputs": [
    {
     "data": {
      "text/plain": [
       "[SimpleZipcode(zipcode='02351', zipcode_type='Standard', major_city='Abington', post_office_city='Abington, MA', common_city_list=['Abington'], county='Plymouth County', state='MA', lat=42.12, lng=-70.96, timezone='Eastern', radius_in_miles=3.0, area_code_list=[], population=16029, population_density=1660.0, land_area_in_sqmi=9.66, water_area_in_sqmi=0.24, housing_units=6399, occupied_housing_units=6099, median_home_value=312400, median_household_income=78395, bounds_west=-71.002354, bounds_east=-70.915787, bounds_north=42.148156, bounds_south=42.087446)]"
      ]
     },
     "execution_count": 32,
     "metadata": {},
     "output_type": "execute_result"
    }
   ],
   "source": [
    "res1"
   ]
  },
  {
   "cell_type": "code",
   "execution_count": 49,
   "metadata": {},
   "outputs": [
    {
     "ename": "TypeError",
     "evalue": "'SimpleZipcode' object is not iterable",
     "output_type": "error",
     "traceback": [
      "\u001b[0;31m---------------------------------------------------------------------------\u001b[0m",
      "\u001b[0;31mTypeError\u001b[0m                                 Traceback (most recent call last)",
      "\u001b[0;32m<ipython-input-49-f2c07a64c4db>\u001b[0m in \u001b[0;36m<module>\u001b[0;34m\u001b[0m\n\u001b[0;32m----> 1\u001b[0;31m \u001b[0mres1_df\u001b[0m \u001b[0;34m=\u001b[0m \u001b[0mpd\u001b[0m\u001b[0;34m.\u001b[0m\u001b[0mDataFrame\u001b[0m\u001b[0;34m.\u001b[0m\u001b[0mfrom_records\u001b[0m\u001b[0;34m(\u001b[0m\u001b[0mres1\u001b[0m\u001b[0;34m)\u001b[0m\u001b[0;34m\u001b[0m\u001b[0;34m\u001b[0m\u001b[0m\n\u001b[0m",
      "\u001b[0;32m~/anaconda3/lib/python3.7/site-packages/pandas/core/frame.py\u001b[0m in \u001b[0;36mfrom_records\u001b[0;34m(cls, data, index, exclude, columns, coerce_float, nrows)\u001b[0m\n\u001b[1;32m   1510\u001b[0m         \u001b[0;32melse\u001b[0m\u001b[0;34m:\u001b[0m\u001b[0;34m\u001b[0m\u001b[0;34m\u001b[0m\u001b[0m\n\u001b[1;32m   1511\u001b[0m             arrays, arr_columns = to_arrays(data, columns,\n\u001b[0;32m-> 1512\u001b[0;31m                                             coerce_float=coerce_float)\n\u001b[0m\u001b[1;32m   1513\u001b[0m \u001b[0;34m\u001b[0m\u001b[0m\n\u001b[1;32m   1514\u001b[0m             \u001b[0marr_columns\u001b[0m \u001b[0;34m=\u001b[0m \u001b[0mensure_index\u001b[0m\u001b[0;34m(\u001b[0m\u001b[0marr_columns\u001b[0m\u001b[0;34m)\u001b[0m\u001b[0;34m\u001b[0m\u001b[0;34m\u001b[0m\u001b[0m\n",
      "\u001b[0;32m~/anaconda3/lib/python3.7/site-packages/pandas/core/internals/construction.py\u001b[0m in \u001b[0;36mto_arrays\u001b[0;34m(data, columns, coerce_float, dtype)\u001b[0m\n\u001b[1;32m    422\u001b[0m     \u001b[0;32melse\u001b[0m\u001b[0;34m:\u001b[0m\u001b[0;34m\u001b[0m\u001b[0;34m\u001b[0m\u001b[0m\n\u001b[1;32m    423\u001b[0m         \u001b[0;31m# last ditch effort\u001b[0m\u001b[0;34m\u001b[0m\u001b[0;34m\u001b[0m\u001b[0;34m\u001b[0m\u001b[0m\n\u001b[0;32m--> 424\u001b[0;31m         \u001b[0mdata\u001b[0m \u001b[0;34m=\u001b[0m \u001b[0mlmap\u001b[0m\u001b[0;34m(\u001b[0m\u001b[0mtuple\u001b[0m\u001b[0;34m,\u001b[0m \u001b[0mdata\u001b[0m\u001b[0;34m)\u001b[0m\u001b[0;34m\u001b[0m\u001b[0;34m\u001b[0m\u001b[0m\n\u001b[0m\u001b[1;32m    425\u001b[0m         return _list_to_arrays(data, columns, coerce_float=coerce_float,\n\u001b[1;32m    426\u001b[0m                                dtype=dtype)\n",
      "\u001b[0;32m~/anaconda3/lib/python3.7/site-packages/pandas/compat/__init__.py\u001b[0m in \u001b[0;36mlmap\u001b[0;34m(*args, **kwargs)\u001b[0m\n\u001b[1;32m    130\u001b[0m \u001b[0;34m\u001b[0m\u001b[0m\n\u001b[1;32m    131\u001b[0m     \u001b[0;32mdef\u001b[0m \u001b[0mlmap\u001b[0m\u001b[0;34m(\u001b[0m\u001b[0;34m*\u001b[0m\u001b[0margs\u001b[0m\u001b[0;34m,\u001b[0m \u001b[0;34m**\u001b[0m\u001b[0mkwargs\u001b[0m\u001b[0;34m)\u001b[0m\u001b[0;34m:\u001b[0m\u001b[0;34m\u001b[0m\u001b[0;34m\u001b[0m\u001b[0m\n\u001b[0;32m--> 132\u001b[0;31m         \u001b[0;32mreturn\u001b[0m \u001b[0mlist\u001b[0m\u001b[0;34m(\u001b[0m\u001b[0mmap\u001b[0m\u001b[0;34m(\u001b[0m\u001b[0;34m*\u001b[0m\u001b[0margs\u001b[0m\u001b[0;34m,\u001b[0m \u001b[0;34m**\u001b[0m\u001b[0mkwargs\u001b[0m\u001b[0;34m)\u001b[0m\u001b[0;34m)\u001b[0m\u001b[0;34m\u001b[0m\u001b[0;34m\u001b[0m\u001b[0m\n\u001b[0m\u001b[1;32m    133\u001b[0m \u001b[0;34m\u001b[0m\u001b[0m\n\u001b[1;32m    134\u001b[0m     \u001b[0;32mdef\u001b[0m \u001b[0mlfilter\u001b[0m\u001b[0;34m(\u001b[0m\u001b[0;34m*\u001b[0m\u001b[0margs\u001b[0m\u001b[0;34m,\u001b[0m \u001b[0;34m**\u001b[0m\u001b[0mkwargs\u001b[0m\u001b[0;34m)\u001b[0m\u001b[0;34m:\u001b[0m\u001b[0;34m\u001b[0m\u001b[0;34m\u001b[0m\u001b[0m\n",
      "\u001b[0;31mTypeError\u001b[0m: 'SimpleZipcode' object is not iterable"
     ]
    }
   ],
   "source": [
    "res1_df = pd.DataFrame.from_records(res1)"
   ]
  },
  {
   "cell_type": "raw",
   "metadata": {},
   "source": [
    "# TypeError: 'SimpleZipcode' object is not iterable"
   ]
  },
  {
   "cell_type": "markdown",
   "metadata": {},
   "source": [
    "What is this SimpleZipcode output? It does not seem like a standard list."
   ]
  },
  {
   "cell_type": "markdown",
   "metadata": {},
   "source": [
    "https://stackoverflow.com/questions/18512491/typeerror-object-is-not-iterable"
   ]
  },
  {
   "cell_type": "markdown",
   "metadata": {},
   "source": [
    "https://stackoverflow.com/questions/19523563/python-typeerror-int-object-is-not-iterable"
   ]
  },
  {
   "cell_type": "code",
   "execution_count": null,
   "metadata": {},
   "outputs": [],
   "source": []
  },
  {
   "cell_type": "code",
   "execution_count": null,
   "metadata": {},
   "outputs": [],
   "source": []
  },
  {
   "cell_type": "code",
   "execution_count": null,
   "metadata": {},
   "outputs": [],
   "source": []
  },
  {
   "cell_type": "code",
   "execution_count": null,
   "metadata": {},
   "outputs": [],
   "source": []
  },
  {
   "cell_type": "code",
   "execution_count": null,
   "metadata": {},
   "outputs": [],
   "source": [
    "DataFrame.to_csv(path_or_buf=None, sep=', ', na_rep='', float_format=None, columns=None, header=True, index=True, index_label=None, mode='w', encoding=None, compression='infer', quoting=None, quotechar='\"', line_terminator=None, chunksize=None, tupleize_cols=None, date_format=None, doublequote=True, escapechar=None, decimal='.')[source]"
   ]
  },
  {
   "cell_type": "code",
   "execution_count": null,
   "metadata": {},
   "outputs": [],
   "source": [
    "DataFrame.to_csv(path_or_buf=None, sep=', ', na_rep='', float_format=None, columns=None, header=True, index=True, index_label=None, mode='w', encoding=None, compression='infer', quoting=None, quotechar='\"', line_terminator=None, chunksize=None, tupleize_cols=None, date_format=None, doublequote=True, escapechar=None, decimal='.')[source]"
   ]
  },
  {
   "cell_type": "code",
   "execution_count": null,
   "metadata": {},
   "outputs": [],
   "source": []
  },
  {
   "cell_type": "code",
   "execution_count": null,
   "metadata": {},
   "outputs": [],
   "source": []
  },
  {
   "cell_type": "code",
   "execution_count": 69,
   "metadata": {},
   "outputs": [
    {
     "data": {
      "text/plain": [
       "SimpleZipcode(zipcode='60601', zipcode_type='Standard', major_city='Chicago', post_office_city='Chicago, IL', common_city_list=['Chicago'], county='Cook County', state='IL', lat=41.88, lng=-87.62, timezone='Central', radius_in_miles=0.7954545454545454, area_code_list=['312', '773', '872'], population=11110, population_density=28793.0, land_area_in_sqmi=0.39, water_area_in_sqmi=0.0, housing_units=8594, occupied_housing_units=6739, median_home_value=494200, median_household_income=95556, bounds_west=-87.633967, bounds_east=-87.61328, bounds_north=41.889045, bounds_south=41.880829)"
      ]
     },
     "execution_count": 69,
     "metadata": {},
     "output_type": "execute_result"
    }
   ],
   "source": [
    "zipcode"
   ]
  },
  {
   "cell_type": "raw",
   "metadata": {},
   "source": [
    "# Maybe try this advice?\n",
    "\n",
    "\n",
    "# import pandas as pd \n",
    "#import pandas as pd \n",
    "  \n",
    "# list of strings \n",
    "lst = ['Geeks', 'For', 'Geeks', 'is',  \n",
    "            'portal', 'for', 'Geeks'] \n",
    "  \n",
    "# Calling DataFrame constructor on list \n",
    "df = pd.DataFrame(lst) \n",
    "df \n",
    "\n",
    "\n",
    "# https://www.geeksforgeeks.org/create-a-pandas-dataframe-from-lists/"
   ]
  },
  {
   "cell_type": "code",
   "execution_count": 50,
   "metadata": {},
   "outputs": [
    {
     "data": {
      "text/html": [
       "<div>\n",
       "<style scoped>\n",
       "    .dataframe tbody tr th:only-of-type {\n",
       "        vertical-align: middle;\n",
       "    }\n",
       "\n",
       "    .dataframe tbody tr th {\n",
       "        vertical-align: top;\n",
       "    }\n",
       "\n",
       "    .dataframe thead th {\n",
       "        text-align: right;\n",
       "    }\n",
       "</style>\n",
       "<table border=\"1\" class=\"dataframe\">\n",
       "  <thead>\n",
       "    <tr style=\"text-align: right;\">\n",
       "      <th></th>\n",
       "      <th>0</th>\n",
       "    </tr>\n",
       "  </thead>\n",
       "  <tbody>\n",
       "    <tr>\n",
       "      <th>0</th>\n",
       "      <td>Geeks</td>\n",
       "    </tr>\n",
       "    <tr>\n",
       "      <th>1</th>\n",
       "      <td>For</td>\n",
       "    </tr>\n",
       "    <tr>\n",
       "      <th>2</th>\n",
       "      <td>Geeks</td>\n",
       "    </tr>\n",
       "    <tr>\n",
       "      <th>3</th>\n",
       "      <td>is</td>\n",
       "    </tr>\n",
       "    <tr>\n",
       "      <th>4</th>\n",
       "      <td>portal</td>\n",
       "    </tr>\n",
       "    <tr>\n",
       "      <th>5</th>\n",
       "      <td>for</td>\n",
       "    </tr>\n",
       "    <tr>\n",
       "      <th>6</th>\n",
       "      <td>Geeks</td>\n",
       "    </tr>\n",
       "  </tbody>\n",
       "</table>\n",
       "</div>"
      ],
      "text/plain": [
       "        0\n",
       "0   Geeks\n",
       "1     For\n",
       "2   Geeks\n",
       "3      is\n",
       "4  portal\n",
       "5     for\n",
       "6   Geeks"
      ]
     },
     "execution_count": 50,
     "metadata": {},
     "output_type": "execute_result"
    }
   ],
   "source": [
    "\n",
    "# list of strings \n",
    "lst = ['Geeks', 'For', 'Geeks', 'is',  \n",
    "            'portal', 'for', 'Geeks'] \n",
    "  \n",
    "# Calling DataFrame constructor on list \n",
    "df = pd.DataFrame(lst) \n",
    "df "
   ]
  },
  {
   "cell_type": "markdown",
   "metadata": {},
   "source": [
    "But this comes out in rows, I want the info to come out across columns."
   ]
  },
  {
   "cell_type": "code",
   "execution_count": null,
   "metadata": {},
   "outputs": [],
   "source": []
  },
  {
   "cell_type": "code",
   "execution_count": 65,
   "metadata": {},
   "outputs": [
    {
     "data": {
      "text/html": [
       "<div>\n",
       "<style scoped>\n",
       "    .dataframe tbody tr th:only-of-type {\n",
       "        vertical-align: middle;\n",
       "    }\n",
       "\n",
       "    .dataframe tbody tr th {\n",
       "        vertical-align: top;\n",
       "    }\n",
       "\n",
       "    .dataframe thead th {\n",
       "        text-align: right;\n",
       "    }\n",
       "</style>\n",
       "<table border=\"1\" class=\"dataframe\">\n",
       "  <thead>\n",
       "    <tr style=\"text-align: right;\">\n",
       "      <th></th>\n",
       "      <th>0</th>\n",
       "    </tr>\n",
       "  </thead>\n",
       "  <tbody>\n",
       "    <tr>\n",
       "      <th>0</th>\n",
       "      <td>SimpleZipcode(zipcode='02351', zipcode_type='S...</td>\n",
       "    </tr>\n",
       "  </tbody>\n",
       "</table>\n",
       "</div>"
      ],
      "text/plain": [
       "                                                   0\n",
       "0  SimpleZipcode(zipcode='02351', zipcode_type='S..."
      ]
     },
     "execution_count": 65,
     "metadata": {},
     "output_type": "execute_result"
    }
   ],
   "source": [
    "res1_info"
   ]
  },
  {
   "cell_type": "code",
   "execution_count": 65,
   "metadata": {},
   "outputs": [
    {
     "data": {
      "text/html": [
       "<div>\n",
       "<style scoped>\n",
       "    .dataframe tbody tr th:only-of-type {\n",
       "        vertical-align: middle;\n",
       "    }\n",
       "\n",
       "    .dataframe tbody tr th {\n",
       "        vertical-align: top;\n",
       "    }\n",
       "\n",
       "    .dataframe thead th {\n",
       "        text-align: right;\n",
       "    }\n",
       "</style>\n",
       "<table border=\"1\" class=\"dataframe\">\n",
       "  <thead>\n",
       "    <tr style=\"text-align: right;\">\n",
       "      <th></th>\n",
       "      <th>0</th>\n",
       "    </tr>\n",
       "  </thead>\n",
       "  <tbody>\n",
       "    <tr>\n",
       "      <th>0</th>\n",
       "      <td>SimpleZipcode(zipcode='02351', zipcode_type='S...</td>\n",
       "    </tr>\n",
       "  </tbody>\n",
       "</table>\n",
       "</div>"
      ],
      "text/plain": [
       "                                                   0\n",
       "0  SimpleZipcode(zipcode='02351', zipcode_type='S..."
      ]
     },
     "execution_count": 65,
     "metadata": {},
     "output_type": "execute_result"
    }
   ],
   "source": [
    "res1_info"
   ]
  },
  {
   "cell_type": "code",
   "execution_count": null,
   "metadata": {},
   "outputs": [],
   "source": []
  },
  {
   "cell_type": "code",
   "execution_count": 62,
   "metadata": {},
   "outputs": [],
   "source": [
    "res1_2_info = pd.DataFrame(res1,res2)\n"
   ]
  },
  {
   "cell_type": "code",
   "execution_count": 63,
   "metadata": {},
   "outputs": [
    {
     "data": {
      "text/html": [
       "<div>\n",
       "<style scoped>\n",
       "    .dataframe tbody tr th:only-of-type {\n",
       "        vertical-align: middle;\n",
       "    }\n",
       "\n",
       "    .dataframe tbody tr th {\n",
       "        vertical-align: top;\n",
       "    }\n",
       "\n",
       "    .dataframe thead th {\n",
       "        text-align: right;\n",
       "    }\n",
       "</style>\n",
       "<table border=\"1\" class=\"dataframe\">\n",
       "  <thead>\n",
       "    <tr style=\"text-align: right;\">\n",
       "      <th></th>\n",
       "      <th>0</th>\n",
       "    </tr>\n",
       "  </thead>\n",
       "  <tbody>\n",
       "    <tr>\n",
       "      <th>SimpleZipcode(zipcode='01720', zipcode_type='Standard', major_city='Acton', post_office_city='Acton, MA', common_city_list=['Acton'], county='Middlesex County', state='MA', lat=42.49, lng=-71.44, timezone='Eastern', radius_in_miles=5.0, area_code_list=['781', '508', '978'], population=21361, population_density=1084.0, land_area_in_sqmi=19.71, water_area_in_sqmi=0.43, housing_units=8294, occupied_housing_units=7962, median_home_value=480700, median_household_income=109578, bounds_west=-71.498546, bounds_east=-71.384899, bounds_north=42.533992, bounds_south=42.436937)</th>\n",
       "      <td>SimpleZipcode(zipcode='02351', zipcode_type='S...</td>\n",
       "    </tr>\n",
       "  </tbody>\n",
       "</table>\n",
       "</div>"
      ],
      "text/plain": [
       "                                                                                                    0\n",
       "SimpleZipcode(zipcode='01720', zipcode_type='St...  SimpleZipcode(zipcode='02351', zipcode_type='S..."
      ]
     },
     "execution_count": 63,
     "metadata": {},
     "output_type": "execute_result"
    }
   ],
   "source": [
    "res1_2_info"
   ]
  },
  {
   "cell_type": "code",
   "execution_count": 58,
   "metadata": {},
   "outputs": [
    {
     "data": {
      "text/plain": [
       "SimpleZipcode(zipcode='60601', zipcode_type='Standard', major_city='Chicago', post_office_city='Chicago, IL', common_city_list=['Chicago'], county='Cook County', state='IL', lat=41.88, lng=-87.62, timezone='Central', radius_in_miles=0.7954545454545454, area_code_list=['312', '773', '872'], population=11110, population_density=28793.0, land_area_in_sqmi=0.39, water_area_in_sqmi=0.0, housing_units=8594, occupied_housing_units=6739, median_home_value=494200, median_household_income=95556, bounds_west=-87.633967, bounds_east=-87.61328, bounds_north=41.889045, bounds_south=41.880829)"
      ]
     },
     "execution_count": 58,
     "metadata": {},
     "output_type": "execute_result"
    }
   ],
   "source": [
    "zipcode"
   ]
  },
  {
   "cell_type": "code",
   "execution_count": 32,
   "metadata": {
    "scrolled": true
   },
   "outputs": [
    {
     "data": {
      "text/plain": [
       "[SimpleZipcode(zipcode='02351', zipcode_type='Standard', major_city='Abington', post_office_city='Abington, MA', common_city_list=['Abington'], county='Plymouth County', state='MA', lat=42.12, lng=-70.96, timezone='Eastern', radius_in_miles=3.0, area_code_list=[], population=16029, population_density=1660.0, land_area_in_sqmi=9.66, water_area_in_sqmi=0.24, housing_units=6399, occupied_housing_units=6099, median_home_value=312400, median_household_income=78395, bounds_west=-71.002354, bounds_east=-70.915787, bounds_north=42.148156, bounds_south=42.087446)]"
      ]
     },
     "execution_count": 32,
     "metadata": {},
     "output_type": "execute_result"
    }
   ],
   "source": [
    "res1"
   ]
  },
  {
   "cell_type": "code",
   "execution_count": null,
   "metadata": {},
   "outputs": [],
   "source": []
  },
  {
   "cell_type": "markdown",
   "metadata": {},
   "source": [
    "## try many in one"
   ]
  },
  {
   "cell_type": "raw",
   "metadata": {},
   "source": [
    "manycityresults =search.by_city_and_state([\"ABINGTON\", \"MA\"],[\"ACTON\", \"MA\"])\n",
    "# AttributeError: 'list' object has no attribute 'upper'\n",
    "\n"
   ]
  },
  {
   "cell_type": "raw",
   "metadata": {},
   "source": [
    "manycityresults =search.by_city_and_state[(\"ABINGTON\", \"MA\")],(\"ACTON\", \"MA\")]\n",
    "\n",
    "# SyntaxError: invalid syntax"
   ]
  },
  {
   "cell_type": "markdown",
   "metadata": {},
   "source": [
    "#create a dictionary or list? then loop over it to get zip information; then print it out- then merge back with the original data."
   ]
  },
  {
   "cell_type": "code",
   "execution_count": null,
   "metadata": {},
   "outputs": [],
   "source": []
  },
  {
   "cell_type": "code",
   "execution_count": null,
   "metadata": {},
   "outputs": [],
   "source": []
  },
  {
   "cell_type": "code",
   "execution_count": null,
   "metadata": {},
   "outputs": [],
   "source": []
  },
  {
   "cell_type": "code",
   "execution_count": null,
   "metadata": {},
   "outputs": [],
   "source": []
  },
  {
   "cell_type": "code",
   "execution_count": null,
   "metadata": {},
   "outputs": [],
   "source": []
  },
  {
   "cell_type": "code",
   "execution_count": null,
   "metadata": {},
   "outputs": [],
   "source": []
  },
  {
   "cell_type": "code",
   "execution_count": null,
   "metadata": {},
   "outputs": [],
   "source": []
  },
  {
   "cell_type": "code",
   "execution_count": null,
   "metadata": {},
   "outputs": [],
   "source": []
  },
  {
   "cell_type": "code",
   "execution_count": null,
   "metadata": {},
   "outputs": [],
   "source": []
  },
  {
   "cell_type": "markdown",
   "metadata": {},
   "source": [
    "#### Summarize the Data"
   ]
  },
  {
   "cell_type": "code",
   "execution_count": 99,
   "metadata": {},
   "outputs": [],
   "source": [
    "#gasleaks.describe()"
   ]
  },
  {
   "cell_type": "markdown",
   "metadata": {},
   "source": [
    "https://chrisalbon.com/python/data_wrangling/pandas_pivot_tables/"
   ]
  },
  {
   "cell_type": "code",
   "execution_count": 87,
   "metadata": {},
   "outputs": [
    {
     "data": {
      "text/html": [
       "<div>\n",
       "<style scoped>\n",
       "    .dataframe tbody tr th:only-of-type {\n",
       "        vertical-align: middle;\n",
       "    }\n",
       "\n",
       "    .dataframe tbody tr th {\n",
       "        vertical-align: top;\n",
       "    }\n",
       "\n",
       "    .dataframe thead th {\n",
       "        text-align: right;\n",
       "    }\n",
       "</style>\n",
       "<table border=\"1\" class=\"dataframe\">\n",
       "  <thead>\n",
       "    <tr style=\"text-align: right;\">\n",
       "      <th></th>\n",
       "      <th>CrossStreet</th>\n",
       "      <th>Endingleakgrade</th>\n",
       "      <th>ReportedAddress</th>\n",
       "      <th>ReportedDate</th>\n",
       "      <th>State</th>\n",
       "      <th>concate</th>\n",
       "      <th>f</th>\n",
       "    </tr>\n",
       "    <tr>\n",
       "      <th>Town</th>\n",
       "      <th></th>\n",
       "      <th></th>\n",
       "      <th></th>\n",
       "      <th></th>\n",
       "      <th></th>\n",
       "      <th></th>\n",
       "      <th></th>\n",
       "    </tr>\n",
       "  </thead>\n",
       "  <tbody>\n",
       "    <tr>\n",
       "      <th>ABINGTON</th>\n",
       "      <td>0</td>\n",
       "      <td>44</td>\n",
       "      <td>44</td>\n",
       "      <td>44</td>\n",
       "      <td>44</td>\n",
       "      <td>44</td>\n",
       "      <td>44</td>\n",
       "    </tr>\n",
       "    <tr>\n",
       "      <th>ACTON</th>\n",
       "      <td>20</td>\n",
       "      <td>220</td>\n",
       "      <td>220</td>\n",
       "      <td>220</td>\n",
       "      <td>220</td>\n",
       "      <td>220</td>\n",
       "      <td>220</td>\n",
       "    </tr>\n",
       "    <tr>\n",
       "      <th>AMESBURY</th>\n",
       "      <td>0</td>\n",
       "      <td>16</td>\n",
       "      <td>16</td>\n",
       "      <td>16</td>\n",
       "      <td>16</td>\n",
       "      <td>16</td>\n",
       "      <td>16</td>\n",
       "    </tr>\n",
       "    <tr>\n",
       "      <th>ARLINGTON</th>\n",
       "      <td>22</td>\n",
       "      <td>313</td>\n",
       "      <td>313</td>\n",
       "      <td>313</td>\n",
       "      <td>313</td>\n",
       "      <td>313</td>\n",
       "      <td>313</td>\n",
       "    </tr>\n",
       "    <tr>\n",
       "      <th>AYER</th>\n",
       "      <td>3</td>\n",
       "      <td>32</td>\n",
       "      <td>32</td>\n",
       "      <td>32</td>\n",
       "      <td>32</td>\n",
       "      <td>32</td>\n",
       "      <td>32</td>\n",
       "    </tr>\n",
       "  </tbody>\n",
       "</table>\n",
       "</div>"
      ],
      "text/plain": [
       "           CrossStreet  Endingleakgrade  ReportedAddress  ReportedDate  State  \\\n",
       "Town                                                                            \n",
       "ABINGTON             0               44               44            44     44   \n",
       "ACTON               20              220              220           220    220   \n",
       "AMESBURY             0               16               16            16     16   \n",
       "ARLINGTON           22              313              313           313    313   \n",
       "AYER                 3               32               32            32     32   \n",
       "\n",
       "           concate    f  \n",
       "Town                     \n",
       "ABINGTON        44   44  \n",
       "ACTON          220  220  \n",
       "AMESBURY        16   16  \n",
       "ARLINGTON      313  313  \n",
       "AYER            32   32  "
      ]
     },
     "execution_count": 87,
     "metadata": {},
     "output_type": "execute_result"
    }
   ],
   "source": [
    "gasleaks.pivot_table(index=['Town'], aggfunc='count').head()"
   ]
  },
  {
   "cell_type": "code",
   "execution_count": null,
   "metadata": {},
   "outputs": [],
   "source": []
  },
  {
   "cell_type": "code",
   "execution_count": 37,
   "metadata": {},
   "outputs": [
    {
     "data": {
      "text/html": [
       "<div>\n",
       "<style scoped>\n",
       "    .dataframe tbody tr th:only-of-type {\n",
       "        vertical-align: middle;\n",
       "    }\n",
       "\n",
       "    .dataframe tbody tr th {\n",
       "        vertical-align: top;\n",
       "    }\n",
       "\n",
       "    .dataframe thead th {\n",
       "        text-align: right;\n",
       "    }\n",
       "</style>\n",
       "<table border=\"1\" class=\"dataframe\">\n",
       "  <thead>\n",
       "    <tr style=\"text-align: right;\">\n",
       "      <th></th>\n",
       "      <th>CrossStreet</th>\n",
       "      <th>ReportedAddress</th>\n",
       "      <th>ReportedDate</th>\n",
       "      <th>State</th>\n",
       "      <th>Town</th>\n",
       "      <th>concate</th>\n",
       "      <th>f</th>\n",
       "    </tr>\n",
       "    <tr>\n",
       "      <th>Endingleakgrade</th>\n",
       "      <th></th>\n",
       "      <th></th>\n",
       "      <th></th>\n",
       "      <th></th>\n",
       "      <th></th>\n",
       "      <th></th>\n",
       "      <th></th>\n",
       "    </tr>\n",
       "  </thead>\n",
       "  <tbody>\n",
       "    <tr>\n",
       "      <th>1</th>\n",
       "      <td>6</td>\n",
       "      <td>45</td>\n",
       "      <td>45</td>\n",
       "      <td>45</td>\n",
       "      <td>45</td>\n",
       "      <td>45</td>\n",
       "      <td>45</td>\n",
       "    </tr>\n",
       "    <tr>\n",
       "      <th>2</th>\n",
       "      <td>104</td>\n",
       "      <td>1150</td>\n",
       "      <td>1150</td>\n",
       "      <td>1150</td>\n",
       "      <td>1150</td>\n",
       "      <td>1150</td>\n",
       "      <td>1150</td>\n",
       "    </tr>\n",
       "    <tr>\n",
       "      <th>2A</th>\n",
       "      <td>10</td>\n",
       "      <td>201</td>\n",
       "      <td>201</td>\n",
       "      <td>201</td>\n",
       "      <td>201</td>\n",
       "      <td>201</td>\n",
       "      <td>201</td>\n",
       "    </tr>\n",
       "    <tr>\n",
       "      <th>3</th>\n",
       "      <td>828</td>\n",
       "      <td>8631</td>\n",
       "      <td>8631</td>\n",
       "      <td>8631</td>\n",
       "      <td>8631</td>\n",
       "      <td>8631</td>\n",
       "      <td>8631</td>\n",
       "    </tr>\n",
       "  </tbody>\n",
       "</table>\n",
       "</div>"
      ],
      "text/plain": [
       "                 CrossStreet  ReportedAddress  ReportedDate  State  Town  \\\n",
       "Endingleakgrade                                                            \n",
       "1                          6               45            45     45    45   \n",
       "2                        104             1150          1150   1150  1150   \n",
       "2A                        10              201           201    201   201   \n",
       "3                        828             8631          8631   8631  8631   \n",
       "\n",
       "                 concate     f  \n",
       "Endingleakgrade                 \n",
       "1                     45    45  \n",
       "2                   1150  1150  \n",
       "2A                   201   201  \n",
       "3                   8631  8631  "
      ]
     },
     "execution_count": 37,
     "metadata": {},
     "output_type": "execute_result"
    }
   ],
   "source": [
    "gasleaks.pivot_table(index=['Endingleakgrade'], aggfunc='count')"
   ]
  },
  {
   "cell_type": "code",
   "execution_count": 77,
   "metadata": {},
   "outputs": [
    {
     "data": {
      "text/html": [
       "<div>\n",
       "<style scoped>\n",
       "    .dataframe tbody tr th:only-of-type {\n",
       "        vertical-align: middle;\n",
       "    }\n",
       "\n",
       "    .dataframe tbody tr th {\n",
       "        vertical-align: top;\n",
       "    }\n",
       "\n",
       "    .dataframe thead th {\n",
       "        text-align: right;\n",
       "    }\n",
       "</style>\n",
       "<table border=\"1\" class=\"dataframe\">\n",
       "  <thead>\n",
       "    <tr style=\"text-align: right;\">\n",
       "      <th></th>\n",
       "      <th></th>\n",
       "      <th>CrossStreet</th>\n",
       "      <th>ReportedAddress</th>\n",
       "      <th>ReportedDate</th>\n",
       "      <th>State</th>\n",
       "      <th>concate</th>\n",
       "      <th>f</th>\n",
       "    </tr>\n",
       "    <tr>\n",
       "      <th>Town</th>\n",
       "      <th>Endingleakgrade</th>\n",
       "      <th></th>\n",
       "      <th></th>\n",
       "      <th></th>\n",
       "      <th></th>\n",
       "      <th></th>\n",
       "      <th></th>\n",
       "    </tr>\n",
       "  </thead>\n",
       "  <tbody>\n",
       "    <tr>\n",
       "      <th>ABINGTON</th>\n",
       "      <th>3</th>\n",
       "      <td>0</td>\n",
       "      <td>44</td>\n",
       "      <td>44</td>\n",
       "      <td>44</td>\n",
       "      <td>44</td>\n",
       "      <td>44</td>\n",
       "    </tr>\n",
       "    <tr>\n",
       "      <th rowspan=\"3\" valign=\"top\">ACTON</th>\n",
       "      <th>2</th>\n",
       "      <td>0</td>\n",
       "      <td>3</td>\n",
       "      <td>3</td>\n",
       "      <td>3</td>\n",
       "      <td>3</td>\n",
       "      <td>3</td>\n",
       "    </tr>\n",
       "    <tr>\n",
       "      <th>2A</th>\n",
       "      <td>0</td>\n",
       "      <td>1</td>\n",
       "      <td>1</td>\n",
       "      <td>1</td>\n",
       "      <td>1</td>\n",
       "      <td>1</td>\n",
       "    </tr>\n",
       "    <tr>\n",
       "      <th>3</th>\n",
       "      <td>20</td>\n",
       "      <td>216</td>\n",
       "      <td>216</td>\n",
       "      <td>216</td>\n",
       "      <td>216</td>\n",
       "      <td>216</td>\n",
       "    </tr>\n",
       "    <tr>\n",
       "      <th>AMESBURY</th>\n",
       "      <th>3</th>\n",
       "      <td>0</td>\n",
       "      <td>16</td>\n",
       "      <td>16</td>\n",
       "      <td>16</td>\n",
       "      <td>16</td>\n",
       "      <td>16</td>\n",
       "    </tr>\n",
       "  </tbody>\n",
       "</table>\n",
       "</div>"
      ],
      "text/plain": [
       "                          CrossStreet  ReportedAddress  ReportedDate  State  \\\n",
       "Town     Endingleakgrade                                                      \n",
       "ABINGTON 3                          0               44            44     44   \n",
       "ACTON    2                          0                3             3      3   \n",
       "         2A                         0                1             1      1   \n",
       "         3                         20              216           216    216   \n",
       "AMESBURY 3                          0               16            16     16   \n",
       "\n",
       "                          concate    f  \n",
       "Town     Endingleakgrade                \n",
       "ABINGTON 3                     44   44  \n",
       "ACTON    2                      3    3  \n",
       "         2A                     1    1  \n",
       "         3                    216  216  \n",
       "AMESBURY 3                     16   16  "
      ]
     },
     "execution_count": 77,
     "metadata": {},
     "output_type": "execute_result"
    }
   ],
   "source": [
    "gasleaks.pivot_table(index=['Town','Endingleakgrade'], aggfunc='count').head()"
   ]
  },
  {
   "cell_type": "code",
   "execution_count": null,
   "metadata": {},
   "outputs": [],
   "source": []
  },
  {
   "cell_type": "markdown",
   "metadata": {},
   "source": [
    "##### List Number of leaks by town in descending order.\n",
    "\n",
    "(there has got to be a quicker way than this- but that is for later)"
   ]
  },
  {
   "cell_type": "markdown",
   "metadata": {},
   "source": [
    "https://pandas.pydata.org/pandas-docs/stable/reference/api/pandas.DataFrame.sort_values.html"
   ]
  },
  {
   "cell_type": "raw",
   "metadata": {},
   "source": [
    "DataFrame.sort_values(by, axis=0, ascending=True, inplace=False, kind='quicksort', na_position='last')[source]\n",
    "Sort by the values along either axis"
   ]
  },
  {
   "cell_type": "code",
   "execution_count": 57,
   "metadata": {},
   "outputs": [],
   "source": [
    "df1 = gasleaks[['Town','f']]"
   ]
  },
  {
   "cell_type": "code",
   "execution_count": 78,
   "metadata": {},
   "outputs": [],
   "source": [
    "#df1.pivot_table(index=['Town'], aggfunc='count',sort_values= True)"
   ]
  },
  {
   "cell_type": "code",
   "execution_count": 79,
   "metadata": {},
   "outputs": [],
   "source": [
    "#df.sort_values('2')\n",
    "#df1.sort_values(\"f\", ascending=False)"
   ]
  },
  {
   "cell_type": "code",
   "execution_count": 71,
   "metadata": {},
   "outputs": [],
   "source": [
    "#df1.pivot_table(index=['Town'], aggfunc='count',sort_values=False)\n",
    " df2 = df1.pivot_table(index=['Town'], aggfunc='count')"
   ]
  },
  {
   "cell_type": "code",
   "execution_count": 75,
   "metadata": {},
   "outputs": [],
   "source": [
    "df3 = df2.sort_values(by=\"f\", ascending=False)"
   ]
  },
  {
   "cell_type": "code",
   "execution_count": 76,
   "metadata": {},
   "outputs": [
    {
     "data": {
      "text/html": [
       "<div>\n",
       "<style scoped>\n",
       "    .dataframe tbody tr th:only-of-type {\n",
       "        vertical-align: middle;\n",
       "    }\n",
       "\n",
       "    .dataframe tbody tr th {\n",
       "        vertical-align: top;\n",
       "    }\n",
       "\n",
       "    .dataframe thead th {\n",
       "        text-align: right;\n",
       "    }\n",
       "</style>\n",
       "<table border=\"1\" class=\"dataframe\">\n",
       "  <thead>\n",
       "    <tr style=\"text-align: right;\">\n",
       "      <th></th>\n",
       "      <th>f</th>\n",
       "    </tr>\n",
       "    <tr>\n",
       "      <th>Town</th>\n",
       "      <th></th>\n",
       "    </tr>\n",
       "  </thead>\n",
       "  <tbody>\n",
       "    <tr>\n",
       "      <th>NEWTON</th>\n",
       "      <td>690</td>\n",
       "    </tr>\n",
       "    <tr>\n",
       "      <th>QUINCY</th>\n",
       "      <td>526</td>\n",
       "    </tr>\n",
       "    <tr>\n",
       "      <th>DORCHESTER</th>\n",
       "      <td>514</td>\n",
       "    </tr>\n",
       "    <tr>\n",
       "      <th>ARLINGTON</th>\n",
       "      <td>313</td>\n",
       "    </tr>\n",
       "    <tr>\n",
       "      <th>MEDFORD</th>\n",
       "      <td>296</td>\n",
       "    </tr>\n",
       "    <tr>\n",
       "      <th>BOSTON</th>\n",
       "      <td>293</td>\n",
       "    </tr>\n",
       "    <tr>\n",
       "      <th>WEYMOUTH</th>\n",
       "      <td>291</td>\n",
       "    </tr>\n",
       "    <tr>\n",
       "      <th>BROOKLINE</th>\n",
       "      <td>275</td>\n",
       "    </tr>\n",
       "    <tr>\n",
       "      <th>WELLESLEY</th>\n",
       "      <td>261</td>\n",
       "    </tr>\n",
       "    <tr>\n",
       "      <th>MILTON</th>\n",
       "      <td>236</td>\n",
       "    </tr>\n",
       "    <tr>\n",
       "      <th>WEST ROXBURY</th>\n",
       "      <td>222</td>\n",
       "    </tr>\n",
       "    <tr>\n",
       "      <th>ACTON</th>\n",
       "      <td>220</td>\n",
       "    </tr>\n",
       "    <tr>\n",
       "      <th>WALTHAM</th>\n",
       "      <td>215</td>\n",
       "    </tr>\n",
       "    <tr>\n",
       "      <th>MALDEN</th>\n",
       "      <td>184</td>\n",
       "    </tr>\n",
       "    <tr>\n",
       "      <th>WESTON</th>\n",
       "      <td>175</td>\n",
       "    </tr>\n",
       "    <tr>\n",
       "      <th>BRAINTREE</th>\n",
       "      <td>164</td>\n",
       "    </tr>\n",
       "    <tr>\n",
       "      <th>LYNN</th>\n",
       "      <td>164</td>\n",
       "    </tr>\n",
       "    <tr>\n",
       "      <th>PEABODY</th>\n",
       "      <td>157</td>\n",
       "    </tr>\n",
       "    <tr>\n",
       "      <th>LEXINGTON</th>\n",
       "      <td>155</td>\n",
       "    </tr>\n",
       "    <tr>\n",
       "      <th>CONCORD</th>\n",
       "      <td>145</td>\n",
       "    </tr>\n",
       "    <tr>\n",
       "      <th>SAUGUS</th>\n",
       "      <td>142</td>\n",
       "    </tr>\n",
       "    <tr>\n",
       "      <th>BRIGHTON</th>\n",
       "      <td>141</td>\n",
       "    </tr>\n",
       "    <tr>\n",
       "      <th>SUDBURY</th>\n",
       "      <td>139</td>\n",
       "    </tr>\n",
       "    <tr>\n",
       "      <th>REVERE</th>\n",
       "      <td>139</td>\n",
       "    </tr>\n",
       "    <tr>\n",
       "      <th>HAVERHILL</th>\n",
       "      <td>136</td>\n",
       "    </tr>\n",
       "    <tr>\n",
       "      <th>HINGHAM</th>\n",
       "      <td>131</td>\n",
       "    </tr>\n",
       "    <tr>\n",
       "      <th>NORWOOD</th>\n",
       "      <td>131</td>\n",
       "    </tr>\n",
       "    <tr>\n",
       "      <th>LYNNFIELD</th>\n",
       "      <td>130</td>\n",
       "    </tr>\n",
       "    <tr>\n",
       "      <th>MARBLEHEAD</th>\n",
       "      <td>128</td>\n",
       "    </tr>\n",
       "    <tr>\n",
       "      <th>ROXBURY</th>\n",
       "      <td>128</td>\n",
       "    </tr>\n",
       "    <tr>\n",
       "      <th>...</th>\n",
       "      <td>...</td>\n",
       "    </tr>\n",
       "    <tr>\n",
       "      <th>AMESBURY</th>\n",
       "      <td>16</td>\n",
       "    </tr>\n",
       "    <tr>\n",
       "      <th>BOXFORD</th>\n",
       "      <td>14</td>\n",
       "    </tr>\n",
       "    <tr>\n",
       "      <th>NORTH BROOKFIELD</th>\n",
       "      <td>14</td>\n",
       "    </tr>\n",
       "    <tr>\n",
       "      <th>EAST BROOKFIELD</th>\n",
       "      <td>14</td>\n",
       "    </tr>\n",
       "    <tr>\n",
       "      <th>SPENCER</th>\n",
       "      <td>12</td>\n",
       "    </tr>\n",
       "    <tr>\n",
       "      <th>HARVARD</th>\n",
       "      <td>12</td>\n",
       "    </tr>\n",
       "    <tr>\n",
       "      <th>MERRIMAC</th>\n",
       "      <td>11</td>\n",
       "    </tr>\n",
       "    <tr>\n",
       "      <th>ROWLEY</th>\n",
       "      <td>11</td>\n",
       "    </tr>\n",
       "    <tr>\n",
       "      <th>GEORGETOWN</th>\n",
       "      <td>11</td>\n",
       "    </tr>\n",
       "    <tr>\n",
       "      <th>IPSWICH</th>\n",
       "      <td>10</td>\n",
       "    </tr>\n",
       "    <tr>\n",
       "      <th>MANCHESTER</th>\n",
       "      <td>8</td>\n",
       "    </tr>\n",
       "    <tr>\n",
       "      <th>LEICESTER</th>\n",
       "      <td>8</td>\n",
       "    </tr>\n",
       "    <tr>\n",
       "      <th>MIDDLETON</th>\n",
       "      <td>8</td>\n",
       "    </tr>\n",
       "    <tr>\n",
       "      <th>SHIRLEY</th>\n",
       "      <td>7</td>\n",
       "    </tr>\n",
       "    <tr>\n",
       "      <th>WAKEFIELD</th>\n",
       "      <td>6</td>\n",
       "    </tr>\n",
       "    <tr>\n",
       "      <th>WENHAM</th>\n",
       "      <td>5</td>\n",
       "    </tr>\n",
       "    <tr>\n",
       "      <th>BOXBOROUGH</th>\n",
       "      <td>5</td>\n",
       "    </tr>\n",
       "    <tr>\n",
       "      <th>HAMILTON</th>\n",
       "      <td>5</td>\n",
       "    </tr>\n",
       "    <tr>\n",
       "      <th>BYFIELD</th>\n",
       "      <td>5</td>\n",
       "    </tr>\n",
       "    <tr>\n",
       "      <th>ESSEX</th>\n",
       "      <td>4</td>\n",
       "    </tr>\n",
       "    <tr>\n",
       "      <th>CAMBRIDGE</th>\n",
       "      <td>2</td>\n",
       "    </tr>\n",
       "    <tr>\n",
       "      <th>LOWELL</th>\n",
       "      <td>2</td>\n",
       "    </tr>\n",
       "    <tr>\n",
       "      <th>ROCKPORT</th>\n",
       "      <td>2</td>\n",
       "    </tr>\n",
       "    <tr>\n",
       "      <th>MARSTONS MILLS</th>\n",
       "      <td>1</td>\n",
       "    </tr>\n",
       "    <tr>\n",
       "      <th>BREWSTER</th>\n",
       "      <td>1</td>\n",
       "    </tr>\n",
       "    <tr>\n",
       "      <th>SWIFTS BEACH</th>\n",
       "      <td>1</td>\n",
       "    </tr>\n",
       "    <tr>\n",
       "      <th>LUNENBURG</th>\n",
       "      <td>1</td>\n",
       "    </tr>\n",
       "    <tr>\n",
       "      <th>WEST NEWBURY</th>\n",
       "      <td>1</td>\n",
       "    </tr>\n",
       "    <tr>\n",
       "      <th>CENTERVILLE</th>\n",
       "      <td>1</td>\n",
       "    </tr>\n",
       "    <tr>\n",
       "      <th>LANCASTER</th>\n",
       "      <td>1</td>\n",
       "    </tr>\n",
       "  </tbody>\n",
       "</table>\n",
       "<p>107 rows × 1 columns</p>\n",
       "</div>"
      ],
      "text/plain": [
       "                    f\n",
       "Town                 \n",
       "NEWTON            690\n",
       "QUINCY            526\n",
       "DORCHESTER        514\n",
       "ARLINGTON         313\n",
       "MEDFORD           296\n",
       "BOSTON            293\n",
       "WEYMOUTH          291\n",
       "BROOKLINE         275\n",
       "WELLESLEY         261\n",
       "MILTON            236\n",
       "WEST ROXBURY      222\n",
       "ACTON             220\n",
       "WALTHAM           215\n",
       "MALDEN            184\n",
       "WESTON            175\n",
       "BRAINTREE         164\n",
       "LYNN              164\n",
       "PEABODY           157\n",
       "LEXINGTON         155\n",
       "CONCORD           145\n",
       "SAUGUS            142\n",
       "BRIGHTON          141\n",
       "SUDBURY           139\n",
       "REVERE            139\n",
       "HAVERHILL         136\n",
       "HINGHAM           131\n",
       "NORWOOD           131\n",
       "LYNNFIELD         130\n",
       "MARBLEHEAD        128\n",
       "ROXBURY           128\n",
       "...               ...\n",
       "AMESBURY           16\n",
       "BOXFORD            14\n",
       "NORTH BROOKFIELD   14\n",
       "EAST BROOKFIELD    14\n",
       "SPENCER            12\n",
       "HARVARD            12\n",
       "MERRIMAC           11\n",
       "ROWLEY             11\n",
       "GEORGETOWN         11\n",
       "IPSWICH            10\n",
       "MANCHESTER          8\n",
       "LEICESTER           8\n",
       "MIDDLETON           8\n",
       "SHIRLEY             7\n",
       "WAKEFIELD           6\n",
       "WENHAM              5\n",
       "BOXBOROUGH          5\n",
       "HAMILTON            5\n",
       "BYFIELD             5\n",
       "ESSEX               4\n",
       "CAMBRIDGE           2\n",
       "LOWELL              2\n",
       "ROCKPORT            2\n",
       "MARSTONS MILLS      1\n",
       "BREWSTER            1\n",
       "SWIFTS BEACH        1\n",
       "LUNENBURG           1\n",
       "WEST NEWBURY        1\n",
       "CENTERVILLE         1\n",
       "LANCASTER           1\n",
       "\n",
       "[107 rows x 1 columns]"
      ]
     },
     "execution_count": 76,
     "metadata": {},
     "output_type": "execute_result"
    }
   ],
   "source": [
    "df3"
   ]
  },
  {
   "cell_type": "markdown",
   "metadata": {},
   "source": [
    "Ultimately we're goint to want to analyze that in terms of population, or some other factor-- perhaps by number of gas lines running through the town--- if we can get that information.  \n",
    "\n",
    "(for consideration--- by centralize-- were lines run through; by median income, race, etc.)  "
   ]
  },
  {
   "cell_type": "markdown",
   "metadata": {},
   "source": [
    "#### Select a Town to investigate"
   ]
  },
  {
   "cell_type": "code",
   "execution_count": 83,
   "metadata": {},
   "outputs": [],
   "source": [
    "Brookline = gasleaks[gasleaks['Town']==\"BROOKLINE\"]"
   ]
  },
  {
   "cell_type": "code",
   "execution_count": 86,
   "metadata": {},
   "outputs": [
    {
     "data": {
      "text/plain": [
       "(275, 8)"
      ]
     },
     "execution_count": 86,
     "metadata": {},
     "output_type": "execute_result"
    }
   ],
   "source": [
    "Brookline.shape"
   ]
  },
  {
   "cell_type": "code",
   "execution_count": 84,
   "metadata": {},
   "outputs": [
    {
     "data": {
      "text/html": [
       "<div>\n",
       "<style scoped>\n",
       "    .dataframe tbody tr th:only-of-type {\n",
       "        vertical-align: middle;\n",
       "    }\n",
       "\n",
       "    .dataframe tbody tr th {\n",
       "        vertical-align: top;\n",
       "    }\n",
       "\n",
       "    .dataframe thead th {\n",
       "        text-align: right;\n",
       "    }\n",
       "</style>\n",
       "<table border=\"1\" class=\"dataframe\">\n",
       "  <thead>\n",
       "    <tr style=\"text-align: right;\">\n",
       "      <th></th>\n",
       "      <th>f</th>\n",
       "      <th>ReportedAddress</th>\n",
       "      <th>CrossStreet</th>\n",
       "      <th>Town</th>\n",
       "      <th>State</th>\n",
       "      <th>concate</th>\n",
       "      <th>ReportedDate</th>\n",
       "      <th>Endingleakgrade</th>\n",
       "    </tr>\n",
       "  </thead>\n",
       "  <tbody>\n",
       "    <tr>\n",
       "      <th>1585</th>\n",
       "      <td>306017</td>\n",
       "      <td>ALLANDALE RD</td>\n",
       "      <td>RISLEY RD</td>\n",
       "      <td>BROOKLINE</td>\n",
       "      <td>MA</td>\n",
       "      <td>ALLANDALE RD BROOKLINE, MA</td>\n",
       "      <td>11/8/2007</td>\n",
       "      <td>3</td>\n",
       "    </tr>\n",
       "    <tr>\n",
       "      <th>1586</th>\n",
       "      <td>305331</td>\n",
       "      <td>AMORY ST</td>\n",
       "      <td>THATCHER ST</td>\n",
       "      <td>BROOKLINE</td>\n",
       "      <td>MA</td>\n",
       "      <td>AMORY ST BROOKLINE, MA</td>\n",
       "      <td>10/12/2007</td>\n",
       "      <td>3</td>\n",
       "    </tr>\n",
       "    <tr>\n",
       "      <th>1587</th>\n",
       "      <td>124015</td>\n",
       "      <td>BARTLETT ST</td>\n",
       "      <td>WASHINGTON ST</td>\n",
       "      <td>BROOKLINE</td>\n",
       "      <td>MA</td>\n",
       "      <td>BARTLETT ST BROOKLINE, MA</td>\n",
       "      <td>5/18/1998</td>\n",
       "      <td>3</td>\n",
       "    </tr>\n",
       "    <tr>\n",
       "      <th>1588</th>\n",
       "      <td>250759</td>\n",
       "      <td>BEACON ST</td>\n",
       "      <td>CHESTNUT HILL AV</td>\n",
       "      <td>BROOKLINE</td>\n",
       "      <td>MA</td>\n",
       "      <td>BEACON ST BROOKLINE, MA</td>\n",
       "      <td>9/2/2003</td>\n",
       "      <td>3</td>\n",
       "    </tr>\n",
       "    <tr>\n",
       "      <th>1589</th>\n",
       "      <td>1050532</td>\n",
       "      <td>BEACON ST</td>\n",
       "      <td>WASHINGTON ST</td>\n",
       "      <td>BROOKLINE</td>\n",
       "      <td>MA</td>\n",
       "      <td>BEACON ST BROOKLINE, MA</td>\n",
       "      <td>9/27/2012</td>\n",
       "      <td>3</td>\n",
       "    </tr>\n",
       "  </tbody>\n",
       "</table>\n",
       "</div>"
      ],
      "text/plain": [
       "            f ReportedAddress        CrossStreet       Town State  \\\n",
       "1585   306017    ALLANDALE RD          RISLEY RD  BROOKLINE    MA   \n",
       "1586   305331        AMORY ST        THATCHER ST  BROOKLINE    MA   \n",
       "1587   124015     BARTLETT ST      WASHINGTON ST  BROOKLINE    MA   \n",
       "1588   250759       BEACON ST   CHESTNUT HILL AV  BROOKLINE    MA   \n",
       "1589  1050532       BEACON ST      WASHINGTON ST  BROOKLINE    MA   \n",
       "\n",
       "                          concate ReportedDate Endingleakgrade  \n",
       "1585   ALLANDALE RD BROOKLINE, MA    11/8/2007               3  \n",
       "1586       AMORY ST BROOKLINE, MA   10/12/2007               3  \n",
       "1587    BARTLETT ST BROOKLINE, MA    5/18/1998               3  \n",
       "1588      BEACON ST BROOKLINE, MA     9/2/2003               3  \n",
       "1589      BEACON ST BROOKLINE, MA    9/27/2012               3  "
      ]
     },
     "execution_count": 84,
     "metadata": {},
     "output_type": "execute_result"
    }
   ],
   "source": [
    "Brookline.head()"
   ]
  },
  {
   "cell_type": "code",
   "execution_count": 88,
   "metadata": {},
   "outputs": [
    {
     "data": {
      "text/html": [
       "<div>\n",
       "<style scoped>\n",
       "    .dataframe tbody tr th:only-of-type {\n",
       "        vertical-align: middle;\n",
       "    }\n",
       "\n",
       "    .dataframe tbody tr th {\n",
       "        vertical-align: top;\n",
       "    }\n",
       "\n",
       "    .dataframe thead th {\n",
       "        text-align: right;\n",
       "    }\n",
       "</style>\n",
       "<table border=\"1\" class=\"dataframe\">\n",
       "  <thead>\n",
       "    <tr style=\"text-align: right;\">\n",
       "      <th>ReportedDate</th>\n",
       "      <th>1/1/2018</th>\n",
       "      <th>1/10/2018</th>\n",
       "      <th>1/16/2002</th>\n",
       "      <th>1/17/2018</th>\n",
       "      <th>1/21/2002</th>\n",
       "      <th>10/11/2010</th>\n",
       "      <th>10/11/2018</th>\n",
       "      <th>10/12/2007</th>\n",
       "      <th>10/12/2010</th>\n",
       "      <th>10/12/2017</th>\n",
       "      <th>...</th>\n",
       "      <th>9/27/2004</th>\n",
       "      <th>9/27/2012</th>\n",
       "      <th>9/27/2018</th>\n",
       "      <th>9/3/2013</th>\n",
       "      <th>9/30/2016</th>\n",
       "      <th>9/4/2013</th>\n",
       "      <th>9/6/2013</th>\n",
       "      <th>9/6/2018</th>\n",
       "      <th>9/8/2018</th>\n",
       "      <th>All</th>\n",
       "    </tr>\n",
       "    <tr>\n",
       "      <th>Town</th>\n",
       "      <th></th>\n",
       "      <th></th>\n",
       "      <th></th>\n",
       "      <th></th>\n",
       "      <th></th>\n",
       "      <th></th>\n",
       "      <th></th>\n",
       "      <th></th>\n",
       "      <th></th>\n",
       "      <th></th>\n",
       "      <th></th>\n",
       "      <th></th>\n",
       "      <th></th>\n",
       "      <th></th>\n",
       "      <th></th>\n",
       "      <th></th>\n",
       "      <th></th>\n",
       "      <th></th>\n",
       "      <th></th>\n",
       "      <th></th>\n",
       "      <th></th>\n",
       "    </tr>\n",
       "  </thead>\n",
       "  <tbody>\n",
       "    <tr>\n",
       "      <th>BROOKLINE</th>\n",
       "      <td>1</td>\n",
       "      <td>1</td>\n",
       "      <td>1</td>\n",
       "      <td>1</td>\n",
       "      <td>1</td>\n",
       "      <td>1</td>\n",
       "      <td>1</td>\n",
       "      <td>1</td>\n",
       "      <td>2</td>\n",
       "      <td>1</td>\n",
       "      <td>...</td>\n",
       "      <td>1</td>\n",
       "      <td>1</td>\n",
       "      <td>1</td>\n",
       "      <td>2</td>\n",
       "      <td>1</td>\n",
       "      <td>2</td>\n",
       "      <td>1</td>\n",
       "      <td>1</td>\n",
       "      <td>1</td>\n",
       "      <td>275</td>\n",
       "    </tr>\n",
       "    <tr>\n",
       "      <th>All</th>\n",
       "      <td>1</td>\n",
       "      <td>1</td>\n",
       "      <td>1</td>\n",
       "      <td>1</td>\n",
       "      <td>1</td>\n",
       "      <td>1</td>\n",
       "      <td>1</td>\n",
       "      <td>1</td>\n",
       "      <td>2</td>\n",
       "      <td>1</td>\n",
       "      <td>...</td>\n",
       "      <td>1</td>\n",
       "      <td>1</td>\n",
       "      <td>1</td>\n",
       "      <td>2</td>\n",
       "      <td>1</td>\n",
       "      <td>2</td>\n",
       "      <td>1</td>\n",
       "      <td>1</td>\n",
       "      <td>1</td>\n",
       "      <td>275</td>\n",
       "    </tr>\n",
       "  </tbody>\n",
       "</table>\n",
       "<p>2 rows × 228 columns</p>\n",
       "</div>"
      ],
      "text/plain": [
       "ReportedDate  1/1/2018  1/10/2018  1/16/2002  1/17/2018  1/21/2002  \\\n",
       "Town                                                                 \n",
       "BROOKLINE            1          1          1          1          1   \n",
       "All                  1          1          1          1          1   \n",
       "\n",
       "ReportedDate  10/11/2010  10/11/2018  10/12/2007  10/12/2010  10/12/2017 ...   \\\n",
       "Town                                                                     ...    \n",
       "BROOKLINE              1           1           1           2           1 ...    \n",
       "All                    1           1           1           2           1 ...    \n",
       "\n",
       "ReportedDate  9/27/2004  9/27/2012  9/27/2018  9/3/2013  9/30/2016  9/4/2013  \\\n",
       "Town                                                                           \n",
       "BROOKLINE             1          1          1         2          1         2   \n",
       "All                   1          1          1         2          1         2   \n",
       "\n",
       "ReportedDate  9/6/2013  9/6/2018  9/8/2018  All  \n",
       "Town                                             \n",
       "BROOKLINE            1         1         1  275  \n",
       "All                  1         1         1  275  \n",
       "\n",
       "[2 rows x 228 columns]"
      ]
     },
     "execution_count": 88,
     "metadata": {},
     "output_type": "execute_result"
    }
   ],
   "source": [
    "pd.crosstab(Brookline.Town, Brookline.ReportedDate, margins=True)"
   ]
  },
  {
   "cell_type": "code",
   "execution_count": 91,
   "metadata": {},
   "outputs": [],
   "source": [
    "# chart this when I have time"
   ]
  },
  {
   "cell_type": "markdown",
   "metadata": {},
   "source": [
    "https://chrisalbon.com/python/data_wrangling/pandas_crosstabs/"
   ]
  },
  {
   "cell_type": "code",
   "execution_count": 90,
   "metadata": {},
   "outputs": [
    {
     "data": {
      "text/html": [
       "<div>\n",
       "<style scoped>\n",
       "    .dataframe tbody tr th:only-of-type {\n",
       "        vertical-align: middle;\n",
       "    }\n",
       "\n",
       "    .dataframe tbody tr th {\n",
       "        vertical-align: top;\n",
       "    }\n",
       "\n",
       "    .dataframe thead th {\n",
       "        text-align: right;\n",
       "    }\n",
       "</style>\n",
       "<table border=\"1\" class=\"dataframe\">\n",
       "  <thead>\n",
       "    <tr style=\"text-align: right;\">\n",
       "      <th>ReportedDate</th>\n",
       "      <th>1/1/2012</th>\n",
       "      <th>1/1/2016</th>\n",
       "      <th>1/1/2017</th>\n",
       "      <th>1/1/2018</th>\n",
       "      <th>1/10/2009</th>\n",
       "      <th>1/10/2012</th>\n",
       "      <th>1/10/2014</th>\n",
       "      <th>1/10/2016</th>\n",
       "      <th>1/10/2017</th>\n",
       "      <th>1/10/2018</th>\n",
       "      <th>...</th>\n",
       "      <th>9/9/2009</th>\n",
       "      <th>9/9/2010</th>\n",
       "      <th>9/9/2011</th>\n",
       "      <th>9/9/2013</th>\n",
       "      <th>9/9/2014</th>\n",
       "      <th>9/9/2015</th>\n",
       "      <th>9/9/2016</th>\n",
       "      <th>9/9/2017</th>\n",
       "      <th>9/9/2018</th>\n",
       "      <th>All</th>\n",
       "    </tr>\n",
       "    <tr>\n",
       "      <th>Town</th>\n",
       "      <th></th>\n",
       "      <th></th>\n",
       "      <th></th>\n",
       "      <th></th>\n",
       "      <th></th>\n",
       "      <th></th>\n",
       "      <th></th>\n",
       "      <th></th>\n",
       "      <th></th>\n",
       "      <th></th>\n",
       "      <th></th>\n",
       "      <th></th>\n",
       "      <th></th>\n",
       "      <th></th>\n",
       "      <th></th>\n",
       "      <th></th>\n",
       "      <th></th>\n",
       "      <th></th>\n",
       "      <th></th>\n",
       "      <th></th>\n",
       "      <th></th>\n",
       "    </tr>\n",
       "  </thead>\n",
       "  <tbody>\n",
       "    <tr>\n",
       "      <th>ABINGTON</th>\n",
       "      <td>0</td>\n",
       "      <td>0</td>\n",
       "      <td>0</td>\n",
       "      <td>0</td>\n",
       "      <td>0</td>\n",
       "      <td>0</td>\n",
       "      <td>0</td>\n",
       "      <td>0</td>\n",
       "      <td>0</td>\n",
       "      <td>0</td>\n",
       "      <td>...</td>\n",
       "      <td>0</td>\n",
       "      <td>0</td>\n",
       "      <td>0</td>\n",
       "      <td>0</td>\n",
       "      <td>0</td>\n",
       "      <td>1</td>\n",
       "      <td>0</td>\n",
       "      <td>0</td>\n",
       "      <td>0</td>\n",
       "      <td>44</td>\n",
       "    </tr>\n",
       "    <tr>\n",
       "      <th>ACTON</th>\n",
       "      <td>0</td>\n",
       "      <td>0</td>\n",
       "      <td>0</td>\n",
       "      <td>0</td>\n",
       "      <td>0</td>\n",
       "      <td>0</td>\n",
       "      <td>0</td>\n",
       "      <td>0</td>\n",
       "      <td>0</td>\n",
       "      <td>0</td>\n",
       "      <td>...</td>\n",
       "      <td>0</td>\n",
       "      <td>0</td>\n",
       "      <td>0</td>\n",
       "      <td>0</td>\n",
       "      <td>0</td>\n",
       "      <td>0</td>\n",
       "      <td>0</td>\n",
       "      <td>0</td>\n",
       "      <td>1</td>\n",
       "      <td>220</td>\n",
       "    </tr>\n",
       "    <tr>\n",
       "      <th>AMESBURY</th>\n",
       "      <td>0</td>\n",
       "      <td>0</td>\n",
       "      <td>0</td>\n",
       "      <td>0</td>\n",
       "      <td>0</td>\n",
       "      <td>0</td>\n",
       "      <td>0</td>\n",
       "      <td>0</td>\n",
       "      <td>0</td>\n",
       "      <td>0</td>\n",
       "      <td>...</td>\n",
       "      <td>0</td>\n",
       "      <td>0</td>\n",
       "      <td>0</td>\n",
       "      <td>0</td>\n",
       "      <td>1</td>\n",
       "      <td>0</td>\n",
       "      <td>0</td>\n",
       "      <td>0</td>\n",
       "      <td>0</td>\n",
       "      <td>16</td>\n",
       "    </tr>\n",
       "    <tr>\n",
       "      <th>ARLINGTON</th>\n",
       "      <td>0</td>\n",
       "      <td>0</td>\n",
       "      <td>0</td>\n",
       "      <td>0</td>\n",
       "      <td>0</td>\n",
       "      <td>0</td>\n",
       "      <td>1</td>\n",
       "      <td>0</td>\n",
       "      <td>0</td>\n",
       "      <td>0</td>\n",
       "      <td>...</td>\n",
       "      <td>0</td>\n",
       "      <td>0</td>\n",
       "      <td>1</td>\n",
       "      <td>0</td>\n",
       "      <td>0</td>\n",
       "      <td>0</td>\n",
       "      <td>0</td>\n",
       "      <td>1</td>\n",
       "      <td>0</td>\n",
       "      <td>313</td>\n",
       "    </tr>\n",
       "    <tr>\n",
       "      <th>AYER</th>\n",
       "      <td>0</td>\n",
       "      <td>0</td>\n",
       "      <td>0</td>\n",
       "      <td>0</td>\n",
       "      <td>0</td>\n",
       "      <td>0</td>\n",
       "      <td>0</td>\n",
       "      <td>0</td>\n",
       "      <td>0</td>\n",
       "      <td>0</td>\n",
       "      <td>...</td>\n",
       "      <td>0</td>\n",
       "      <td>0</td>\n",
       "      <td>0</td>\n",
       "      <td>0</td>\n",
       "      <td>0</td>\n",
       "      <td>0</td>\n",
       "      <td>0</td>\n",
       "      <td>0</td>\n",
       "      <td>0</td>\n",
       "      <td>32</td>\n",
       "    </tr>\n",
       "  </tbody>\n",
       "</table>\n",
       "<p>5 rows × 3537 columns</p>\n",
       "</div>"
      ],
      "text/plain": [
       "ReportedDate  1/1/2012  1/1/2016  1/1/2017  1/1/2018  1/10/2009  1/10/2012  \\\n",
       "Town                                                                         \n",
       "ABINGTON             0         0         0         0          0          0   \n",
       "ACTON                0         0         0         0          0          0   \n",
       "AMESBURY             0         0         0         0          0          0   \n",
       "ARLINGTON            0         0         0         0          0          0   \n",
       "AYER                 0         0         0         0          0          0   \n",
       "\n",
       "ReportedDate  1/10/2014  1/10/2016  1/10/2017  1/10/2018 ...   9/9/2009  \\\n",
       "Town                                                     ...              \n",
       "ABINGTON              0          0          0          0 ...          0   \n",
       "ACTON                 0          0          0          0 ...          0   \n",
       "AMESBURY              0          0          0          0 ...          0   \n",
       "ARLINGTON             1          0          0          0 ...          0   \n",
       "AYER                  0          0          0          0 ...          0   \n",
       "\n",
       "ReportedDate  9/9/2010  9/9/2011  9/9/2013  9/9/2014  9/9/2015  9/9/2016  \\\n",
       "Town                                                                       \n",
       "ABINGTON             0         0         0         0         1         0   \n",
       "ACTON                0         0         0         0         0         0   \n",
       "AMESBURY             0         0         0         1         0         0   \n",
       "ARLINGTON            0         1         0         0         0         0   \n",
       "AYER                 0         0         0         0         0         0   \n",
       "\n",
       "ReportedDate  9/9/2017  9/9/2018  All  \n",
       "Town                                   \n",
       "ABINGTON             0         0   44  \n",
       "ACTON                0         1  220  \n",
       "AMESBURY             0         0   16  \n",
       "ARLINGTON            1         0  313  \n",
       "AYER                 0         0   32  \n",
       "\n",
       "[5 rows x 3537 columns]"
      ]
     },
     "execution_count": 90,
     "metadata": {},
     "output_type": "execute_result"
    }
   ],
   "source": [
    "#pd.crosstab(gasleaks.Town, gasleaks.ReportedDate, margins=True)\n",
    "\n",
    "pd.crosstab(gasleaks.Town, gasleaks.ReportedDate, margins=True).head()"
   ]
  },
  {
   "cell_type": "markdown",
   "metadata": {},
   "source": [
    "https://pandas.pydata.org/pandas-docs/version/0.22/generated/pandas.crosstab.html"
   ]
  },
  {
   "cell_type": "raw",
   "metadata": {},
   "source": [
    "# Plot the responses for different events and regions\n",
    "sns.lineplot(x=\"ReportedDate\", y=\"Town\",\n",
    "             hue=\"region\", style=\"event\",\n",
    "             data=gasleaks)\n",
    "\n",
    "#https://stackoverflow.com/questions/51846948/seaborn-lineplot-module-object-has-no-attribute-lineplot?rq=1\n",
    "\n",
    "# fix this later"
   ]
  },
  {
   "cell_type": "code",
   "execution_count": null,
   "metadata": {},
   "outputs": [],
   "source": []
  },
  {
   "cell_type": "code",
   "execution_count": null,
   "metadata": {},
   "outputs": [],
   "source": []
  },
  {
   "cell_type": "code",
   "execution_count": 46,
   "metadata": {},
   "outputs": [],
   "source": [
    "#sns.lmplot('ReportedDate', 'Town', data=gasleaks, fit_reg=False)"
   ]
  },
  {
   "cell_type": "code",
   "execution_count": 92,
   "metadata": {},
   "outputs": [
    {
     "data": {
      "text/plain": [
       "(10027, 8)"
      ]
     },
     "execution_count": 92,
     "metadata": {},
     "output_type": "execute_result"
    }
   ],
   "source": [
    "gasleaks.shape"
   ]
  },
  {
   "cell_type": "markdown",
   "metadata": {},
   "source": [
    "https://chrisalbon.com/machine_learning/preprocessing_structured_data/deleting_missing_values/"
   ]
  },
  {
   "cell_type": "raw",
   "metadata": {},
   "source": [
    "# Load data as a data frame\n",
    "gasleaks_clean = pd.DataFrame(gasleaks, columns=['Town', 'Endingleakgrade'])\n",
    "\n",
    "# Remove observations with missing values\n",
    "gasleaks_clean.dropna()"
   ]
  },
  {
   "cell_type": "code",
   "execution_count": null,
   "metadata": {},
   "outputs": [],
   "source": []
  },
  {
   "cell_type": "raw",
   "metadata": {},
   "source": [
    "#clean this up later:\n",
    "\n",
    "sns.heatmap([gasleaks_clean.Town, gasleaks.Endingleakgrade], annot=True, fmt=\"d\")"
   ]
  },
  {
   "cell_type": "markdown",
   "metadata": {},
   "source": [
    "Deal with this issue;\n",
    "\n",
    "TypeError: ufunc 'isnan' not supported for the input types, and the inputs could not be safely coerced to any supported types according to the casting rule ''safe''"
   ]
  },
  {
   "cell_type": "markdown",
   "metadata": {},
   "source": [
    "#pd.to_numeric(df['gasleaks_clean'], errors='coerce')\n",
    "\n",
    "but it is not fully numeric-- 2A, etc."
   ]
  },
  {
   "cell_type": "code",
   "execution_count": null,
   "metadata": {},
   "outputs": [],
   "source": []
  },
  {
   "cell_type": "code",
   "execution_count": null,
   "metadata": {},
   "outputs": [],
   "source": []
  },
  {
   "cell_type": "code",
   "execution_count": null,
   "metadata": {},
   "outputs": [],
   "source": []
  },
  {
   "cell_type": "code",
   "execution_count": null,
   "metadata": {},
   "outputs": [],
   "source": []
  },
  {
   "cell_type": "markdown",
   "metadata": {},
   "source": [
    "## REFERENCES"
   ]
  },
  {
   "cell_type": "code",
   "execution_count": null,
   "metadata": {},
   "outputs": [],
   "source": []
  },
  {
   "cell_type": "code",
   "execution_count": null,
   "metadata": {},
   "outputs": [],
   "source": []
  },
  {
   "cell_type": "markdown",
   "metadata": {},
   "source": [
    "https://uszipcode.readthedocs.io/01-Tutorial/index.html#search-by-city-and-state"
   ]
  },
  {
   "cell_type": "markdown",
   "metadata": {},
   "source": [
    "https://pypi.org/project/uszipcode/"
   ]
  },
  {
   "cell_type": "code",
   "execution_count": null,
   "metadata": {},
   "outputs": [],
   "source": []
  },
  {
   "cell_type": "markdown",
   "metadata": {},
   "source": [
    "Import the data:"
   ]
  },
  {
   "cell_type": "markdown",
   "metadata": {},
   "source": [
    "https://chrisalbon.com/python/data_wrangling/load_excel_file_into_pandas/"
   ]
  },
  {
   "cell_type": "code",
   "execution_count": null,
   "metadata": {},
   "outputs": [],
   "source": []
  },
  {
   "cell_type": "markdown",
   "metadata": {},
   "source": [
    "https://pbpython.com/pandas-list-dict.html"
   ]
  },
  {
   "cell_type": "code",
   "execution_count": null,
   "metadata": {},
   "outputs": [],
   "source": []
  },
  {
   "cell_type": "markdown",
   "metadata": {},
   "source": [
    "Use this (or deduplicate in Excel) to get the unique town names.  \n",
    "(if we are going to get zip codes, just by town; not by street address as well):"
   ]
  },
  {
   "cell_type": "markdown",
   "metadata": {},
   "source": [
    "https://chrisalbon.com/python/data_wrangling/pandas_list_unique_values_in_column/"
   ]
  },
  {
   "cell_type": "code",
   "execution_count": null,
   "metadata": {},
   "outputs": [],
   "source": []
  },
  {
   "cell_type": "markdown",
   "metadata": {},
   "source": [
    "#### Geocoding"
   ]
  },
  {
   "cell_type": "markdown",
   "metadata": {},
   "source": [
    "Converting a physical address or location into latitude/longitude:\n",
    "\n",
    "Need to add the zipcodes to do this"
   ]
  },
  {
   "cell_type": "markdown",
   "metadata": {},
   "source": [
    "Jon Cusick [8:53 AM]\n",
    "Hi Perry! I’d suggest taking a look at `geopandas` (http://geopandas.org/) for help with some of the spatial analysis. It essentially adds a geometry column to a regular `pandas` dataframe that allows for traditional GIS-like operations (point-in-polygon, spatial joins, distance measurement, etc.)\n",
    "\n",
    "I haven’t worked with the `pygeocoder` package that you listed in the notebook, but that seems like it could be a promising way to go. An approach I might take would be to try to get the addresses converted to a lat/lon via the geocoder and then use `geopandas` to perform spatial joins (http://geopandas.org/reference/geopandas.sjoin.html) on datasets of interest (zip codes, Census tract boundaries for demographic information, etc, to pull their attribute information into the gas leak location points."
   ]
  },
  {
   "cell_type": "markdown",
   "metadata": {},
   "source": [
    "VN [10:12 AM]\n",
    "@Perry: about 10k records isn't so bad, you can probably slowly, while still observing the request limit of each services, geocode using the free Google Maps API and OpenStreetMap geocoder.\n",
    "\n",
    "The problem with zipcode as I've learned from parsing the world data, zipcode isn't \"location\" base per-se... it's more of a postal/street specific.\n",
    "Since it's mainly for mail delivery route, just checking the zipcode for a city, town isn't enough\n",
    "it's a bit rough and manual, but I think that's probably going to be the best...route as far as I can tell\n",
    "When you geocode, you'll get the actual latlong & zip, which I suspect would be super helpful in plotting them on a map of some sort"
   ]
  },
  {
   "cell_type": "markdown",
   "metadata": {},
   "source": [
    "Itamar: What you want is a geocoding library, e.g. https://geocoder.readthedocs.io/"
   ]
  },
  {
   "cell_type": "code",
   "execution_count": null,
   "metadata": {},
   "outputs": [],
   "source": []
  },
  {
   "cell_type": "markdown",
   "metadata": {},
   "source": [
    "Tyler:  \n",
    "I think BARI (https://www.northeastern.edu/csshresearch/bostonarearesearchinitiative/) tends to do this type of thing. Your specific use case sounds like you need a Geocoder. Google and Bing might be cost prohibitive depending on the size of your data and project budget. I’d encourage you to reach out to BARI if other suggestions aren’t suitable for your use case.\n",
    "\n",
    " "
   ]
  },
  {
   "cell_type": "markdown",
   "metadata": {},
   "source": [
    "https://chrisalbon.com/python/data_wrangling/geocoding_and_reverse_geocoding/"
   ]
  },
  {
   "cell_type": "markdown",
   "metadata": {},
   "source": [
    "Address the geo-coding issue:  \n",
    "https://stackoverflow.com/questions/3212550/google-geocoding-api-request-denied"
   ]
  },
  {
   "cell_type": "markdown",
   "metadata": {},
   "source": [
    "Use this to match the Zipcode info with the NGrid data?:"
   ]
  },
  {
   "cell_type": "markdown",
   "metadata": {},
   "source": [
    "https://chrisalbon.com/python/data_wrangling/pandas_join_merge_dataframe/"
   ]
  },
  {
   "cell_type": "code",
   "execution_count": null,
   "metadata": {},
   "outputs": [],
   "source": []
  },
  {
   "cell_type": "raw",
   "metadata": {},
   "source": [
    "Hi Perry,\n",
    "\n",
    "If the uszipcodes library data is good enough, then it looks like you \n",
    "just need to read through the csv file in your github account and add a \n",
    "zipcode binding derived from the uszipcods library. I haven't looked \n",
    "closely at the data -- zipcodes sometimes cross municipal boundaries. \n",
    "Your address data might be fine.\n",
    "\n",
    "There is a free or very lowcost geocoder provided by Texas A&M \n",
    "University (TAMU), see http://geoservices.tamu.edu/Services/Geocode/ for \n",
    "details. I suspect that the TAMU batch geocoder \n",
    "(http://geoservices.tamu.edu/Services/Geocode/BatchProcess/) might be \n",
    "the easiest way for you get what you want. I suggest making a test file \n",
    "with a handful of rows extracted from your csv file and using that to \n",
    "exercise the TAMU geocoder. I think TAMU uses that same zipcode data, \n",
    "and they've spent more time ensuring its accuracy (and correcting errors).\n",
    "\n",
    "I'd form a sha1 from the \"concate\" field of the data, and use that to \n",
    "index both your map and the results from either batch geocoding or the \n",
    "uszipcodes library. You could also use md5 or anything similar, it's \n",
    "just an easy way to get a key that's easy to use in python dicts and db's.\n",
    "\n",
    "As far as how to loop over the data, I'd probably roll my own since your \n",
    "csv file is pretty simple. Something along the lines of:\n",
    "\n",
    "class GasDataAnalyzer(object):\n",
    "\n",
    "     def getGasLeakData(self):\n",
    "         \"\"\"Answers a dict binding the sha1 of the concate field with\n",
    "            another dict mapping each attribute to its value.\n",
    "         \"\"\"\n",
    "         path = self.pathToCSVFile()\n",
    "         with open(path, mode=r) as leakFile:\n",
    "             # take off the trailing \\n with strip()\n",
    "             header = leakFile.readline().strip()\n",
    "            attributes = header.split(',')\n",
    "            gasLeakData = {}\n",
    "            for leakRow in leakFile:\n",
    "                 # take off the trailing \\n with strip()\n",
    "                 leakRow = leakRow.strip()\n",
    "                 gasLeakItem = {}\n",
    "                leakValues = leakRow.split(',')\n",
    "                 for attribute, leakValue in zip(attributes, leakValues):\n",
    "                     gasLeakItem [attribute] = leakValue\n",
    "                 sha1 = self.sha1FromString(gasLeakItem['concate']\n",
    "                 gasLeakItem['sha1'] = sha1\n",
    "                 zipcode = self.getZipcodeFromGasLeakItem(gasLeakItem)\n",
    "                 gasLeakItem['zipcode'] = zipcode\n",
    "                 gasLeakData[sha1] = gasLeakItem\n",
    "         return gasLeakData\n",
    "\n",
    "     def sha1FromString(self, aString):\n",
    "         \"\"\"Alternatively, you can join several components and form a\n",
    "            sha1 from them.\"\"\"\n",
    "         hashObject = hashlib.sha1(str.encode(aString))\n",
    "        hexSha1 = hashObject.hexDigest()\n",
    "         return hexSha1\n",
    "\n",
    "     def getZipcodeFromGasLeakItem(self, aGasLeakItem):\n",
    "         \"\"\"Answers a zipcode given aGasLeakItem\"\"\"\n",
    "         sha1 = aGasLeakItem['sha1']\n",
    "         zipcode = self.batchGeocodes()[sha1].get('zipcode')\n",
    "         return zipcode\n",
    "\n",
    "     def batchGeocodes(self):\n",
    "         \"\"\"Answers a dictionary where each key is the sha1 of the\n",
    "            concate field and each value is a zipcode answered by\n",
    "            batch geocoder like TAMU from the input data.\n",
    "\n",
    "           This can be precomputed and kept in a db or another csv\n",
    "            file.\n",
    "         \"\"\"\n",
    "         # Roll your own\n",
    "         pass\n",
    "\n",
    "Of course you can put all this in some sort of DB if that's easier for you.\n",
    "\n",
    "You'll have to choose and implement your own vehicle for storage and \n",
    "delivery of the results.\n",
    "\n",
    "I leave the conversion of these open-coded loops to list and dict \n",
    "comprehensions as an exercise for the the reader.\n",
    "\n",
    "This is all written on the fly, not exercised, and done with \n",
    "insufficient caffienation. It is worth approximately what you paid for \n",
    "it. :)\n",
    "\n",
    "Thanks,\n",
    "Tom S."
   ]
  },
  {
   "cell_type": "code",
   "execution_count": null,
   "metadata": {},
   "outputs": [],
   "source": []
  },
  {
   "cell_type": "code",
   "execution_count": null,
   "metadata": {},
   "outputs": [],
   "source": []
  },
  {
   "cell_type": "code",
   "execution_count": null,
   "metadata": {},
   "outputs": [],
   "source": []
  },
  {
   "cell_type": "code",
   "execution_count": null,
   "metadata": {},
   "outputs": [],
   "source": []
  },
  {
   "cell_type": "markdown",
   "metadata": {},
   "source": [
    "Just use city?  mm\n",
    "\n",
    "not address?   \n",
    "\n",
    "https://chrisalbon.com/python/data_wrangling/geolocate_a_city_and_country/"
   ]
  },
  {
   "cell_type": "code",
   "execution_count": null,
   "metadata": {},
   "outputs": [],
   "source": []
  },
  {
   "cell_type": "code",
   "execution_count": null,
   "metadata": {},
   "outputs": [],
   "source": []
  },
  {
   "cell_type": "code",
   "execution_count": null,
   "metadata": {},
   "outputs": [],
   "source": []
  },
  {
   "cell_type": "markdown",
   "metadata": {},
   "source": [
    "Group a time period?"
   ]
  },
  {
   "cell_type": "markdown",
   "metadata": {},
   "source": [
    "https://chrisalbon.com/python/data_wrangling/pandas_group_by_time/"
   ]
  },
  {
   "cell_type": "code",
   "execution_count": null,
   "metadata": {},
   "outputs": [],
   "source": [
    "#df.truncate(before='1/2/2014', after='1/3/2014')"
   ]
  },
  {
   "cell_type": "code",
   "execution_count": null,
   "metadata": {},
   "outputs": [],
   "source": []
  },
  {
   "cell_type": "markdown",
   "metadata": {},
   "source": [
    "Use this to get the zipcode output (a list) into a pandas dataframe:  \n",
    "https://www.geeksforgeeks.org/create-a-pandas-dataframe-from-lists/"
   ]
  },
  {
   "cell_type": "markdown",
   "metadata": {},
   "source": [
    "This might be useful:  \n",
    "    https://chrisalbon.com/python/data_wrangling/pandas_create_column_with_loop"
   ]
  },
  {
   "cell_type": "markdown",
   "metadata": {},
   "source": [
    "https://chrisalbon.com/python/data_wrangling/pandas_crosstabs/"
   ]
  },
  {
   "cell_type": "markdown",
   "metadata": {},
   "source": [
    "If we just work with Towns, not addresses, we might want remove duplicate info:   \n",
    "    https://chrisalbon.com/python/data_wrangling/pandas_delete_duplicates/   \n",
    "        \n",
    "        But then we lose information about the leaks   "
   ]
  },
  {
   "cell_type": "markdown",
   "metadata": {},
   "source": [
    "or us this:   \n",
    "    \n",
    "\n",
    "https://chrisalbon.com/python/data_wrangling/pandas_find_unique_values/"
   ]
  },
  {
   "cell_type": "markdown",
   "metadata": {},
   "source": [
    "Map values in a DF:\n",
    "    \n",
    "https://chrisalbon.com/python/data_wrangling/pandas_map_values_to_values/"
   ]
  },
  {
   "cell_type": "raw",
   "metadata": {},
   "source": [
    "city_to_state = { 'San Francisco' : 'California', \n",
    "                  'Baltimore' : 'Maryland', \n",
    "                  'Miami' : 'Florida', \n",
    "                  'Douglas' : 'Arizona', \n",
    "                  'Boston' : 'Massachusetts'}"
   ]
  },
  {
   "cell_type": "raw",
   "metadata": {},
   "source": [
    "df['state'] = df['city'].map(city_to_state)\n",
    "df"
   ]
  },
  {
   "cell_type": "markdown",
   "metadata": {},
   "source": [
    "https://chrisalbon.com/python/data_wrangling/pandas_rename_multiple_columns/"
   ]
  },
  {
   "cell_type": "code",
   "execution_count": null,
   "metadata": {},
   "outputs": [],
   "source": []
  },
  {
   "cell_type": "code",
   "execution_count": null,
   "metadata": {},
   "outputs": [],
   "source": []
  },
  {
   "cell_type": "code",
   "execution_count": null,
   "metadata": {},
   "outputs": [],
   "source": []
  },
  {
   "cell_type": "code",
   "execution_count": null,
   "metadata": {},
   "outputs": [],
   "source": [
    "Grab rows based on column values\n",
    "value_list = ['Tina', 'Molly', 'Jason']\n",
    "#Grab DataFrame rows where column has certain values\n",
    "df[df.name.isin(value_list)]"
   ]
  },
  {
   "cell_type": "markdown",
   "metadata": {},
   "source": [
    "https://chrisalbon.com/python/data_wrangling/pandas_select_rows_when_column_has_certain_values/"
   ]
  },
  {
   "cell_type": "markdown",
   "metadata": {},
   "source": [
    "https://chrisalbon.com/python/data_wrangling/pandas_time_series_basics/"
   ]
  },
  {
   "cell_type": "code",
   "execution_count": null,
   "metadata": {},
   "outputs": [],
   "source": []
  },
  {
   "cell_type": "code",
   "execution_count": null,
   "metadata": {},
   "outputs": [],
   "source": []
  },
  {
   "cell_type": "markdown",
   "metadata": {},
   "source": [
    "##### Charting"
   ]
  },
  {
   "cell_type": "markdown",
   "metadata": {},
   "source": [
    "https://seaborn.pydata.org/examples/errorband_lineplots.html"
   ]
  },
  {
   "cell_type": "markdown",
   "metadata": {},
   "source": [
    "check the versions  \n",
    "\n",
    "https://stackoverflow.com/questions/51846948/seaborn-lineplot-module-object-has-no-attribute-lineplot?rq=1"
   ]
  },
  {
   "cell_type": "code",
   "execution_count": null,
   "metadata": {},
   "outputs": [],
   "source": []
  },
  {
   "cell_type": "markdown",
   "metadata": {},
   "source": [
    "https://github.com/keplergl/kepler.gl\n",
    "\n",
    "\n",
    "Kepler.gl is a data-agnostic, high-performance web-based application for visual exploration of large-scale geolocation data sets. Built on top of Mapbox GL and deck.gl, kepler.gl can render millions of points representing thousands of trips and perform spatial aggregations on the fly.\n",
    "\n",
    "Kepler.gl is also a React component that uses Redux to manage its state and data flow. It can be embedded into other React-Redux applications and is highly customizable. For information on how to embed kepler.gl in your app take a look at this step-by-step tutorial on vis.academy."
   ]
  },
  {
   "cell_type": "markdown",
   "metadata": {},
   "source": [
    "https://kepler.gl/"
   ]
  },
  {
   "cell_type": "code",
   "execution_count": null,
   "metadata": {},
   "outputs": [],
   "source": []
  }
 ],
 "metadata": {
  "kernelspec": {
   "display_name": "Python 3",
   "language": "python",
   "name": "python3"
  },
  "language_info": {
   "codemirror_mode": {
    "name": "ipython",
    "version": 3
   },
   "file_extension": ".py",
   "mimetype": "text/x-python",
   "name": "python",
   "nbconvert_exporter": "python",
   "pygments_lexer": "ipython3",
   "version": "3.7.3"
  }
 },
 "nbformat": 4,
 "nbformat_minor": 2
}
